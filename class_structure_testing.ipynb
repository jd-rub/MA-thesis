{
 "cells": [
  {
   "cell_type": "code",
   "execution_count": 1,
   "metadata": {},
   "outputs": [],
   "source": [
    "from base_algorithms import *\n",
    "from sample_library import SampleLibrary\n",
    "import numpy as np\n",
    "import librosa"
   ]
  },
  {
   "cell_type": "code",
   "execution_count": 2,
   "metadata": {},
   "outputs": [
    {
     "name": "stdout",
     "output_type": "stream",
     "text": [
      "Starting Thread-0\n",
      "Starting Thread-1\n",
      "Starting Thread-2\n",
      "Starting Thread-3\n",
      "Starting Thread-4\n",
      "Starting Thread-5\n",
      "Starting Thread-6\n",
      "Starting Thread-7\n",
      "1: Progress: 0\n",
      "7: Progress: 0\n",
      "6: Progress: 0\n",
      "4: Progress: 0\n",
      "2: Progress: 0\n",
      "3: Progress: 0\n",
      "0: Progress: 0\n",
      "5: Progress: 0\n",
      "2: Progress: 50\n",
      "7: Progress: 50\n",
      "6: Progress: 50\n",
      "4: Progress: 50\n",
      "1: Progress: 50\n",
      "0: Progress: 50\n",
      "3: Progress: 50\n",
      "5: Progress: 50\n",
      "6: Progress: 100\n",
      "2: Progress: 100\n",
      "7: Progress: 100\n",
      "4: Progress: 100\n",
      "1: Progress: 100\n",
      "0: Progress: 100\n",
      "3: Progress: 100\n",
      "5: Progress: 100\n",
      "2: Progress: 150\n",
      "6: Progress: 150\n",
      "7: Progress: 150\n",
      "4: Progress: 150\n",
      "1: Progress: 150\n",
      "0: Progress: 150\n",
      "3: Progress: 150\n",
      "6: Progress: 200\n",
      "7: Progress: 200\n",
      "5: Progress: 150\n",
      "2: Progress: 200\n",
      "4: Progress: 200\n",
      "1: Progress: 200\n",
      "0: Progress: 200\n",
      "7: Progress: 250\n",
      "6: Progress: 250\n",
      "3: Progress: 200\n",
      "5: Progress: 200\n",
      "2: Progress: 250\n",
      "1: Progress: 250\n",
      "4: Progress: 250\n",
      "0: Progress: 250\n",
      "5: Progress: 250\n",
      "3: Progress: 250\n"
     ]
    }
   ],
   "source": [
    "sample_lib = SampleLibrary()"
   ]
  },
  {
   "cell_type": "code",
   "execution_count": 3,
   "metadata": {},
   "outputs": [
    {
     "name": "stderr",
     "output_type": "stream",
     "text": [
      "100%|██████████| 1000/1000 [00:20<00:00, 47.92it/s, \t\t\t\t\t\t\t\t\t\t\t\t\t\t\t\t\t\t\t\t\t\t\t\t\t\t\t\t\t\t\t\t\t\t\t\t\t\t\t\t\t\t\t\t\t\t\t\t\t\t\t\t\t\t\t\t\t\t\t\t\t\t\t\t\t\t\t\t\t\t\t\t\t\t\t\t\t\t\t\t\t\t\t\t\t\t\t\t\t\t\t\t\t\t\t\t\t\t\t\tBest individual: [(Piano, tr011PFNOM, d4), (Cello, tr172VCNOM, c4), (ElectricGuitar, tr132EGVPM, dis4)] with fitness 1.4908574695121952]             \n"
     ]
    }
   ],
   "source": [
    "#target_y, target_sr = librosa.load(\"./audio/EvoMix-NormalizedSamples/Normalized/Archive/SingleInstrumentSamples/ForMixing/AcousticGuitar/tr111AGAFM/tr111AGAFM01_E2.wav\")\n",
    "#target_stft = librosa.stft(target_y)\n",
    "target_sample = sample_lib.get_random_sample_uniform()\n",
    "result = base_algorithm_1plus1_single_onset(target_sample.y, 1000, sample_lib)"
   ]
  },
  {
   "cell_type": "code",
   "execution_count": 11,
   "metadata": {},
   "outputs": [
    {
     "name": "stderr",
     "output_type": "stream",
     "text": [
      " 41%|████      | 4100/10000 [00:39<00:56, 104.16it/s, \t\t\t\t\t\t\t\t\t\t\t\t\t\t\t\t\t\t\t\t\t\t\t\t\t\t\t\t\t\t\t\t\t\t\t\t\t\t\t\t\t\t\t\t\t\t\t\t\t\t\t\t\t\t\t\t\t\t\t\t\t\t\t\t\t\t\t\t\t\t\t\t\t\t\t\t\t\t\t\t\t\t\t\t\t\t\t\t\t\t\t\t\t\t\t\t\t\t\t\tBest individual: (AcousticGuitar, tr112AGRFM, ais3) with fitness 0.0]                                                  \n"
     ]
    }
   ],
   "source": [
    "result = base_algorithm_1plus1_single_onset(target_sample.y, 10000, sample_lib)"
   ]
  },
  {
   "cell_type": "code",
   "execution_count": 4,
   "metadata": {},
   "outputs": [
    {
     "data": {
      "text/plain": [
       "'[(Cello, tr171VCNVM, f5), (Flute, tr332FLVIM, dis4), (Piano, tr011PFPEM, d6), (Flute, tr332FLVIM, cis6), (AcousticGuitar, tr113AGRPM, c3), (Trumpet, tr211TRVIM, d5)], [(Piano, tr012PFPM, fis6), (Violin, tr152VNNVM, d5)], [(Viola, tr161VLNVM, c5), (Violin, tr153VNNVM, e5), (AcousticGuitar, tr113AGRPM, dis3), (ElectricGuitar, tr132EGLPM, c5)], [(Viola, tr163VLNVM, ais3), (Piano, tr011PFPEM, ais4), (Flute, tr331FLNOM, g5), (Cello, tr173VCNOM, g2)]'"
      ]
     },
     "execution_count": 4,
     "metadata": {},
     "output_type": "execute_result"
    }
   ],
   "source": [
    "test = create_multi_onset_individual(np.array([0, 1, 2, 3, 4, 5, 6, 7, 8, 9]), 0.5, sample_lib)\n",
    "str(test)"
   ]
  },
  {
   "cell_type": "code",
   "execution_count": 3,
   "metadata": {},
   "outputs": [
    {
     "name": "stderr",
     "output_type": "stream",
     "text": [
      "100%|██████████| 1000/1000 [00:26<00:00, 37.96it/s, \t\t\t\t\t\t\t\t\t\t\t\t\t\t\t\t\t\t\t\t\t\t\t\t\t\t\t\t\t\t\t\t\t\t\t\t\t\t\t\t\t\t\t\t\t\t\t\t\t\t\t\t\t\t\t\t\t\t\t\t\t\t\t\t\t\t\t\t\t\t\t\t\t\t\t\t\t\t\t\t\t\t\t\t\t\t\t\t\t\t\t\t\t\t\t\t\t\t\t\tBest individual: [(AcousticGuitar, tr112AGRFM, a3)], [(AcousticGuitar, tr112AGAFM, c5), (AcousticGuitar, tr111AGRFM, dis3)], [(Flute, tr332FLVIM, e6), (AcousticGuitar, tr112AGRFM, b3)] with fitness 2.161323678861789]                           \n"
     ]
    },
    {
     "data": {
      "text/plain": [
       "<individual.BaseIndividual at 0x1e0227ebf10>"
      ]
     },
     "execution_count": 3,
     "metadata": {},
     "output_type": "execute_result"
    }
   ],
   "source": [
    "raw_y, _ = librosa.load(\"./audio/EvoMix-NormalizedSamples/Normalized/Archive/SingleInstrumentSamples/ForMixing/AcousticGuitar/tr111AGAFM/tr111AGAFM01_E2.wav\")\n",
    "target_y = np.append(raw_y, raw_y)\n",
    "\n",
    "base_algorithm_1plus1_multi_offset(target_y, 1000, sample_lib, 1)"
   ]
  },
  {
   "cell_type": "code",
   "execution_count": 3,
   "metadata": {},
   "outputs": [
    {
     "name": "stderr",
     "output_type": "stream",
     "text": [
      "c:\\Users\\justi\\miniconda3\\envs\\ma\\lib\\site-packages\\librosa\\core\\spectrum.py:256: UserWarning: n_fft=2048 is too large for input signal of length=509\n",
      "  warnings.warn(\n",
      "100%|██████████| 10000/10000 [12:33<00:00, 13.27it/s, \t\t\t\t\t\t\t\t\t\t\t\t\t\t\t\t\t\t\t\t\t\t\t\t\t\t\t\t\t\t\t\t\t\t\t\t\t\t\t\t\t\t\t\t\t\t\t\t\t\t\t\t\t\t\t\t\t\t\t\t\t\t\t\t\t\t\t\t\t\t\t\t\t\t\t\t\t\t\t\t\t\t\t\t\t\t\t\t\t\t\t\t\t\t\t\t\t\t\t\tBest individual: [(ElectricGuitar, tr132EGVFM, cis4)], [(ElectricGuitar, tr133EGLFM, ais3)], [(Viola, tr162VLNOM, b5)], [(Cello, tr173VCNVM, gis2), (Viola, tr161VLSOM, fis3), (Cello, tr171VCSOM, d3)], [(Cello, tr171VCNVM, d3)], [(ElectricGuitar, tr131EGLFM, gis3)], [(Cello, tr171VCNVM, ais2), (Viola, tr163VLNOM, ais5)], [(Piano, tr012PFPM, f6), (Viola, tr163VLNOM, c4), (Flute, tr331FLVIM, fis4)], [(Viola, tr161VLSOM, b3)], [(Viola, tr162VLNVM, ais3)], [(Cello, tr171VCSOM, ais2)], [(Viola, tr162VLNOM, f4), (Viola, tr162VLNOM, ais3), (Cello, tr171VCSOM, g3)], [(Cello, tr171VCSOM, e2)], [(ElectricGuitar, tr132EGLPM, f3)], [(Viola, tr162VLNVM, c6)], [(Violin, tr151VNSOM, ais5), (Violin, tr151VNNOM, c5)], [(Cello, tr172VCNOM, gis2)], [(ElectricGuitar, tr133EGLPM, b3)], [(ElectricGuitar, tr132EGVFM, cis4)], [(Violin, tr151VNSOM, gis4)], [(Viola, tr162VLNOM, e3)], [(ElectricGuitar, tr132EGVPM, cis5)], [(ElectricGuitar, tr133EGLPM, dis3)], [(Violin, tr151VNSOM, e4)], [(Viola, tr163VLNOM, dis5), (Cello, tr171VCNVM, c5)], [(Piano, tr013PFNOM, d3)], [(Flute, tr332FLNOM, d4), (Cello, tr171VCSOM, e3)], [(ElectricGuitar, tr133EGLPM, f2)], [(Viola, tr161VLNVM, f4)] with fitness 1.7361195110452585]                                                                                                                                                                                                                                                                                                                                                                                                                                                                                                                                                                                                                                                                                                                                                                                                                                                                                                                                                                                                                                                                                                                                                                                                                                                                                                                                                                                                                                                                                                                                                                                                                                                                                                                  \n"
     ]
    }
   ],
   "source": [
    "ex, _ = librosa.load(librosa.ex('nutcracker'), duration=15)\n",
    "result = base_algorithm_1plus1_multi_offset(target_y=ex, max_steps=10000, sample_lib=sample_lib, onset_frac=1)"
   ]
  },
  {
   "cell_type": "code",
   "execution_count": 6,
   "metadata": {},
   "outputs": [
    {
     "name": "stdout",
     "output_type": "stream",
     "text": [
      "9.17 ms ± 59.2 µs per loop (mean ± std. dev. of 7 runs, 100 loops each)\n",
      "4.81 ms ± 50.7 µs per loop (mean ± std. dev. of 7 runs, 100 loops each)\n",
      "76.4 µs ± 357 ns per loop (mean ± std. dev. of 7 runs, 10,000 loops each)\n"
     ]
    }
   ],
   "source": [
    "ex_stft = librosa.stft(ex)\n",
    "abs_stft = abs(ex_stft)\n",
    "%timeit librosa.stft(ex)\n",
    "%timeit np.abs(ex_stft)\n",
    "%timeit np.average(abs_stft, axis=1)"
   ]
  },
  {
   "cell_type": "code",
   "execution_count": 6,
   "metadata": {},
   "outputs": [
    {
     "name": "stderr",
     "output_type": "stream",
     "text": [
      "100%|██████████| 10000/10000 [08:26<00:00, 19.73it/s, \t\t\t\t\t\t\t\t\t\t\t\t\t\t\t\t\t\t\t\t\t\t\t\t\t\t\t\t\t\t\t\t\t\t\t\t\t\t\t\t\t\t\t\t\t\t\t\t\t\t\t\t\t\t\t\t\t\t\t\t\t\t\t\t\t\t\t\t\t\t\t\t\t\t\t\t\t\t\t\t\t\t\t\t\t\t\t\t\t\t\t\t\t\t\t\t\t\t\t\tBest individual: [(AcousticGuitar, tr112AGAFM, dis4), (Piano, tr011PFPEM, c5), (Piano, tr013PFNOM, e6)], [(AcousticGuitar, tr113AGAFM, f4), (Cello, tr172VCNOM, gis2)], [(ElectricGuitar, tr133EGLFM, e4), (Piano, tr011PFPEM, e4), (ElectricGuitar, tr132EGLPM, f2)], [(AcousticGuitar, tr111AGAPM, c3), (ElectricGuitar, tr132EGLPM, c5), (Cello, tr172VCNOM, a2), (Cello, tr172VCNVM, d4)], [(ElectricGuitar, tr132EGVFM, f4), (Flute, tr331FLNOM, fis5), (Piano, tr011PFNOM, a4), (ElectricGuitar, tr131EGLFM, e4)], [(Piano, tr013PFPEM, cis2)], [(AcousticGuitar, tr113AGAFM, gis3), (ElectricGuitar, tr132EGVFM, a2)], [(AcousticGuitar, tr113AGRFM, a2), (AcousticGuitar, tr113AGAPM, a4)], [(Piano, tr011PFNOM, f3), (AcousticGuitar, tr112AGAPM, ais3), (Cello, tr172VCNOM, e2)], [(AcousticGuitar, tr112AGAFM, e2), (ElectricGuitar, tr133EGLFM, gis2)], [(Piano, tr011PFPEM, c4), (AcousticGuitar, tr113AGAPM, gis3), (AcousticGuitar, tr113AGAPM, fis3), (AcousticGuitar, tr111AGAPM, f3), (AcousticGuitar, tr111AGAPM, b2)], [(AcousticGuitar, tr111AGRFM, e4), (ElectricGuitar, tr133EGLPM, f2), (Cello, tr171VCSOM, fis3)], [(AcousticGuitar, tr113AGAFM, c5), (Flute, trFltnvib, dis5), (Piano, tr013PFNOM, gis5), (AcousticGuitar, tr113AGRPM, a2)], [(Flute, trFltnvib, e6), (AcousticGuitar, tr111AGRFM, g2)], [(AcousticGuitar, tr113AGRFM, e2), (AcousticGuitar, tr113AGAFM, dis5), (Flute, trFltnvib, d4), (Flute, tr331FLVIM, c4)], [(ElectricGuitar, tr131EGVFM, c3), (AcousticGuitar, tr112AGAFM, ais3), (AcousticGuitar, tr112AGRPM, e3)], [(ElectricGuitar, tr133EGLFM, gis2), (Cello, tr172VCNVM, g5), (AcousticGuitar, tr112AGRPM, a3)], [(AcousticGuitar, tr112AGRFM, f2), (Flute, trFltnvib, dis6), (ElectricGuitar, tr132EGVPM, fis4), (AcousticGuitar, tr111AGRFM, c4)], [(Flute, trflute.novib.mf, a5), (AcousticGuitar, tr112AGAFM, g4), (Viola, tr162VLNVM, d3), (ElectricGuitar, tr131EGLFM, f4)], [(AcousticGuitar, tr113AGAFM, d3), (Piano, tr013PFPEM, f4), (Flute, tr332FLNOM, gis4), (AcousticGuitar, tr113AGAFM, e5)], [(AcousticGuitar, tr113AGRPM, cis3), (Piano, tr011PFNOM, c5), (Flute, trFltnvib, a5), (Flute, trFltnvib, d5), (AcousticGuitar, tr111AGAPM, d4)], [(AcousticGuitar, tr113AGAPM, c3), (Cello, tr171VCSOM, gis4)], [(Flute, trflute.novib.mf, a4), (ElectricGuitar, tr131EGVFM, ais2)], [(Viola, tr161VLNVM, cis5), (AcousticGuitar, tr112AGAFM, cis5), (ElectricGuitar, tr133EGLPM, a4), (Cello, tr172VCNOM, gis2)], [(Viola, tr161VLSOM, dis5), (Cello, tr171VCSOM, d2), (AcousticGuitar, tr113AGAFM, gis3)], [(ElectricGuitar, tr133EGLPM, e4), (Flute, trflute.novib.mf, fis6), (Piano, tr012PFPM, ais3)], [(ElectricGuitar, tr131EGLFM, e4), (AcousticGuitar, tr111AGRFM, fis4)], [(ElectricGuitar, tr132EGVFM, b4), (AcousticGuitar, tr111AGRFM, f4), (AcousticGuitar, tr112AGRPM, ais3)], [(AcousticGuitar, tr111AGAFM, f3), (AcousticGuitar, tr111AGRFM, dis4), (AcousticGuitar, tr112AGAFM, e4), (ElectricGuitar, tr132EGVPM, e3)] with fitness 2.77813111891558]                      \n"
     ]
    }
   ],
   "source": [
    "ex, _ = librosa.load(librosa.ex('nutcracker'), duration=15)\n",
    "result = base_algorithm_1plus1_multi_offset(target_y=ex, max_steps=10000, sample_lib=sample_lib, onset_frac=1)"
   ]
  },
  {
   "cell_type": "code",
   "execution_count": 17,
   "metadata": {},
   "outputs": [
    {
     "name": "stderr",
     "output_type": "stream",
     "text": [
      "100%|██████████| 10000/10000 [05:50<00:00, 28.54it/s, \t\t\t\t\t\t\t\t\t\t\t\t\t\t\t\t\t\t\t\t\t\t\t\t\t\t\t\t\t\t\t\t\t\t\t\t\t\t\t\t\t\t\t\t\t\t\t\t\t\t\t\t\t\t\t\t\t\t\t\t\t\t\t\t\t\t\t\t\t\t\t\t\t\t\t\t\t\t\t\t\t\t\t\t\t\t\t\t\t\t\t\t\t\t\t\t\t\t\t\tBest individual: [(AcousticGuitar, tr111AGRFM, gis4), (ElectricGuitar, tr131EGLFM, e3), (AcousticGuitar, tr112AGAFM, g3)], [(Viola, tr161VLSOM, fis3), (AcousticGuitar, tr112AGAFM, dis4), (AcousticGuitar, tr111AGRFM, g2), (AcousticGuitar, tr113AGAFM, dis3), (Cello, tr173VCNVM, gis2)], [(AcousticGuitar, tr112AGAFM, b3), (ElectricGuitar, tr131EGLFM, c3), (Cello, tr171VCSOM, d3), (AcousticGuitar, tr113AGRFM, f3)], [(AcousticGuitar, tr111AGRFM, b3), (AcousticGuitar, tr112AGAFM, cis3), (AcousticGuitar, tr112AGAPM, dis5), (AcousticGuitar, tr113AGRFM, ais3)], [(AcousticGuitar, tr111AGAPM, a4), (Viola, tr163VLNOM, fis5), (AcousticGuitar, tr112AGRFM, fis4), (Cello, tr173VCNOM, fis4), (AcousticGuitar, tr112AGAFM, g4)], [(AcousticGuitar, tr112AGAFM, dis4), (Flute, trflute.novib.mf, b5), (Piano, tr013PFNOM, dis6), (Cello, tr172VCNVM, dis2), (Cello, tr172VCNOM, a3)], [(ElectricGuitar, tr133EGLFM, fis4), (Flute, tr331FLVIM, c4), (AcousticGuitar, tr111AGRFM, ais2), (AcousticGuitar, tr112AGAFM, e3), (Piano, tr013PFNOM, b4)] with fitness 1.8064907549814895]        \n"
     ]
    }
   ],
   "source": [
    "ex, _ = librosa.load(librosa.ex('nutcracker'), duration=30)\n",
    "result = base_algorithm_1plus1_multi_offset(target_y=ex, max_steps=10000, sample_lib=sample_lib, onset_frac=.1)"
   ]
  },
  {
   "cell_type": "code",
   "execution_count": 5,
   "metadata": {},
   "outputs": [
    {
     "name": "stderr",
     "output_type": "stream",
     "text": [
      "100%|██████████| 10000/10000 [04:34<00:00, 36.37it/s, \t\t\t\t\t\t\t\t\t\t\t\t\t\t\t\t\t\t\t\t\t\t\t\t\t\t\t\t\t\t\t\t\t\t\t\t\t\t\t\t\t\t\t\t\t\t\t\t\t\t\t\t\t\t\t\t\t\t\t\t\t\t\t\t\t\t\t\t\t\t\t\t\t\t\t\t\t\t\t\t\t\t\t\t\t\t\t\t\t\t\t\t\t\t\t\t\t\t\t\tBest individual: [(Flute, trflute.novib.mf, cis6), (Piano, tr013PFNOM, cis5), (Flute, trFltnvib, dis5), (AcousticGuitar, tr112AGRFM, fis3), (Cello, tr171VCNVM, cis4)], [(Flute, trFltnvib, fis6), (AcousticGuitar, tr112AGAFM, d4), (Cello, tr172VCNVM, ais2)], [(AcousticGuitar, tr112AGAFM, cis3), (Flute, tr332FLNOM, d5), (Cello, tr171VCNVM, cis4), (AcousticGuitar, tr112AGAPM, a3), (Piano, tr013PFNOM, a5)], [(AcousticGuitar, tr111AGAPM, d4), (AcousticGuitar, tr111AGAPM, e5), (Flute, trflute.novib.mf, ais5), (Trumpet, tr212TRNOM, c5), (Cello, tr173VCNVM, g2)], [(AcousticGuitar, tr111AGRFM, dis3), (ElectricGuitar, tr132EGVPM, ais4), (AcousticGuitar, tr113AGAPM, g3)], [(AcousticGuitar, tr111AGRFM, g2), (Piano, tr013PFNOM, g2), (Cello, tr173VCNOM, cis4), (Flute, tr332FLVIM, fis4), (Flute, trFltnvib, dis6)], [(Flute, trFltnvib, f5), (AcousticGuitar, tr112AGAFM, cis3), (AcousticGuitar, tr113AGAFM, gis4), (Cello, tr171VCNOM, gis2), (ElectricGuitar, tr131EGVFM, g2)] with fitness 2.0647102297473867]      \n"
     ]
    }
   ],
   "source": [
    "ex, _ = librosa.load(librosa.ex('nutcracker'), duration=30)\n",
    "result = base_algorithm_1plus1_multi_offset(target_y=ex, max_steps=10000, sample_lib=sample_lib, onset_frac=.1)"
   ]
  },
  {
   "cell_type": "code",
   "execution_count": 4,
   "metadata": {},
   "outputs": [
    {
     "name": "stderr",
     "output_type": "stream",
     "text": [
      "c:\\Users\\justi\\miniconda3\\envs\\ma\\lib\\site-packages\\librosa\\core\\spectrum.py:256: UserWarning: n_fft=2048 is too large for input signal of length=510\n",
      "  warnings.warn(\n",
      "100%|██████████| 250/250 [00:14<00:00, 17.70it/s, \t\t\t\t\t\t\t\t\t\t\t\t\t\t\t\t\t\t\t\t\t\t\t\t\t\t\t\t\t\t\t\t\t\t\t\t\t\t\t\t\t\t\t\t\t\t\t\t\t\t\t\t\t\t\t\t\t\t\t\t\t\t\t\t\t\t\t\t\t\t\t\t\t\t\t\t\t\t\t\t\t\t\t\t\t\t\t\t\t\t\t\t\t\t\t\t\t\t\t\tBest individual: [(Trumpet, tr211TRVIM, b3), (Flute, trFltnvib, e5)], [(Flute, trflute.novib.mf, dis6), (Cello, tr171VCNOM, f3), (Piano, tr013PFPEM, b3)], [(Violin, tr152VNNOM, f5), (Violin, tr152VNNVM, gis4), (Piano, tr011PFPEM, a4)], [(Viola, tr161VLNOM, e3), (Cello, tr173VCNOM, cis4), (Piano, tr011PFPEM, f4)], [(AcousticGuitar, tr112AGRFM, dis3), (AcousticGuitar, tr111AGAPM, e5), (ElectricGuitar, tr131EGVFM, d4)], [(Piano, tr012PFPM, c4), (Viola, tr163VLNVM, d3), (Cello, tr172VCNOM, fis4)], [(AcousticGuitar, tr113AGAPM, gis4), (AcousticGuitar, tr111AGAPM, ais2), (AcousticGuitar, tr111AGRFM, e3)], [(Flute, tr332FLNOM, e5), (AcousticGuitar, tr111AGAPM, gis2), (Cello, tr172VCNVM, g5)], [(AcousticGuitar, tr112AGRFM, g3), (Viola, tr163VLNVM, a3), (Viola, tr163VLNVM, gis4), (Trumpet, tr211TRNOM, cis4)], [(Piano, tr011PFNOM, f5), (Trumpet, tr211TRVIM, f5), (Flute, tr332FLNOM, c6), (ElectricGuitar, tr132EGVPM, g4)], [(ElectricGuitar, tr132EGLPM, cis5), (Viola, tr161VLSOM, g4), (Piano, tr013PFNOM, e4)], [(AcousticGuitar, tr111AGAPM, e3), (AcousticGuitar, tr111AGAFM, cis4), (Piano, tr011PFPEM, d6)], [(ElectricGuitar, tr132EGVFM, a3), (Piano, tr011PFPEM, ais4)], [(Flute, tr331FLVIM, cis4), (AcousticGuitar, tr112AGRFM, c4)], [(Flute, trflute.novib.mf, e4), (AcousticGuitar, tr112AGAPM, f2)], [(Piano, tr013PFNOM, f4), (Flute, trflute.novib.mf, e4), (AcousticGuitar, tr111AGRPM, c4)], [(AcousticGuitar, tr112AGRFM, c5), (AcousticGuitar, tr113AGAFM, e3), (AcousticGuitar, tr111AGRFM, f4)], [(AcousticGuitar, tr111AGRFM, c5), (Cello, tr171VCNOM, d4), (Flute, tr332FLNOM, fis6)], [(Flute, tr331FLVIM, c4), (Trumpet, tr212TRNOM, g4), (ElectricGuitar, tr132EGVFM, a4)], [(Flute, tr332FLVIM, gis5), (ElectricGuitar, tr132EGVPM, gis4), (Trumpet, tr212TRNOM, a5), (Flute, trFltnvib, a4)], [(AcousticGuitar, tr111AGAFM, a2), (Cello, tr173VCNOM, d5)], [(AcousticGuitar, tr112AGRFM, c4), (Viola, tr163VLNVM, g4), (Piano, tr012PFPM, d2), (Violin, tr151VNSOM, e5), (AcousticGuitar, tr113AGRPM, g3)], [(Flute, tr331FLNOM, gis5), (Flute, trflute.novib.mf, cis5), (Trumpet, tr212TRNOM, fis5), (Trumpet, tr211TRVIM, fis4), (Cello, tr173VCNVM, ais4)], [(Viola, tr162VLNOM, dis4), (Violin, tr151VNSOM, b5), (Cello, tr173VCNOM, cis4), (AcousticGuitar, tr111AGRPM, b3)], [(Viola, tr162VLNOM, dis4), (Flute, trflute.novib.mf, gis4)], [(Viola, tr161VLNVM, e5), (AcousticGuitar, tr112AGAFM, g3)], [(Piano, tr013PFNOM, f3), (Piano, tr011PFPEM, cis6), (Cello, tr173VCNVM, cis5), (ElectricGuitar, tr131EGVPM, b3)], [(Flute, tr331FLVIM, d4), (AcousticGuitar, tr112AGRPM, d4)], [(AcousticGuitar, tr113AGRPM, g2), (Flute, trFltnvib, d6), (Cello, tr172VCNVM, a3)] with fitness 7.676873340911481]    "
     ]
    },
    {
     "name": "stdout",
     "output_type": "stream",
     "text": [
      " "
     ]
    },
    {
     "name": "stderr",
     "output_type": "stream",
     "text": [
      "\n"
     ]
    },
    {
     "name": "stdout",
     "output_type": "stream",
     "text": [
      "         2451628 function calls (2410171 primitive calls) in 14.425 seconds\n",
      "\n",
      "   Ordered by: internal time\n",
      "\n",
      "   ncalls  tottime  percall  cumtime  percall filename:lineno(function)\n",
      "    26024    4.167    0.000    4.167    0.000 {built-in method numpy.array}\n",
      "     1029    2.236    0.002    8.113    0.008 individual.py:15(calc_stft)\n",
      "    10849    2.170    0.000    2.170    0.000 {built-in method numpy.fft._pocketfft_internal.execute}\n",
      "     1059    1.635    0.002    4.783    0.005 spectrum.py:45(stft)\n",
      "        1    1.162    1.162   14.416   14.416 base_algorithms.py:39(base_algorithm_1plus1_multi_offset)\n",
      "    11543    0.784    0.000    0.784    0.000 {method 'reduce' of 'numpy.ufunc' objects}\n",
      "     6211    0.141    0.000    0.250    0.000 arraypad.py:86(_pad_simple)\n",
      "     4264    0.107    0.000    0.166    0.000 {method 'choice' of 'numpy.random.mtrand.RandomState' objects}\n",
      "     6212    0.100    0.000    0.100    0.000 {built-in method numpy.empty}\n",
      "   397482    0.081    0.000    0.113    0.000 utils.py:330(<genexpr>)\n",
      "     1184    0.076    0.000    0.076    0.000 {method 'acquire' of '_thread.lock' objects}\n",
      "    10594    0.068    0.000    0.332    0.000 <frozen importlib._bootstrap>:1022(_find_and_load)\n",
      "76021/38217    0.068    0.000    7.968    0.000 {built-in method numpy.core._multiarray_umath.implement_array_function}\n",
      "     6212    0.060    0.000    0.065    0.000 arraypad.py:129(_set_pad_area)\n",
      "     6211    0.058    0.000    0.495    0.000 arraypad.py:529(pad)\n",
      "    21188    0.053    0.000    0.126    0.000 <frozen importlib._bootstrap>:179(_get_module_lock)\n",
      "    21521    0.051    0.000    0.162    0.000 copy.py:66(copy)\n",
      "     1059    0.048    0.000    0.125    0.000 _windows.py:40(general_cosine)\n",
      "89222/88164    0.048    0.000    0.080    0.000 {built-in method builtins.getattr}\n",
      "     1059    0.044    0.000    0.063    0.000 utils.py:239(valid_audio)\n",
      "    42672    0.042    0.000    0.042    0.000 {built-in method _thread.allocate_lock}\n",
      "      148    0.036    0.000    0.149    0.001 {built-in method builtins.sum}\n",
      "    12422    0.035    0.000    0.103    0.000 arraypad.py:454(_as_pairs)\n",
      "    21188    0.035    0.000    0.041    0.000 <frozen importlib._bootstrap>:100(acquire)\n",
      "     3175    0.033    0.000    0.049    0.000 stride_tricks.py:38(as_strided)\n",
      "   397336    0.033    0.000    0.033    0.000 {built-in method unicodedata.east_asian_width}\n",
      "    21521    0.031    0.000    0.060    0.000 copy.py:259(_reconstruct)\n",
      "    21188    0.030    0.000    0.035    0.000 <frozen importlib._bootstrap>:125(release)\n",
      "    10849    0.027    0.000    2.267    0.000 _pocketfft.py:49(_raw_fft)\n",
      "     8350    0.026    0.000    0.732    0.000 fromnumeric.py:69(_wrapreduction)\n",
      "     7250    0.025    0.000    4.371    0.001 individual.py:26(from_copy)\n",
      "    26952    0.025    0.000    0.025    0.000 {built-in method numpy.asarray}\n",
      "    21188    0.024    0.000    0.066    0.000 <frozen importlib._bootstrap>:71(__init__)\n",
      "     1060    0.024    0.000    0.068    0.000 function_base.py:23(linspace)\n",
      "      933    0.023    0.000    0.160    0.000 fitness.py:11(cosh_distance_no_abs)\n",
      "10594/9536    0.022    0.000    0.400    0.000 __init__.py:71(__getattr__)\n",
      "     2121    0.022    0.000    0.022    0.000 {built-in method numpy.zeros}\n",
      "      250    0.019    0.000    4.390    0.018 individual.py:51(<dictcomp>)\n",
      "    21188    0.019    0.000    0.025    0.000 <frozen importlib._bootstrap>:198(cb)\n",
      "    28160    0.018    0.000    0.054    0.000 fromnumeric.py:51(_wrapfunc)\n",
      "     3175    0.018    0.000    0.121    0.000 utils.py:72(frame)\n",
      "    21521    0.017    0.000    0.017    0.000 {method '__reduce_ex__' of 'object' objects}\n",
      "    10849    0.016    0.000    2.288    0.000 _pocketfft.py:320(rfft)\n",
      "     3175    0.015    0.000    0.045    0.000 numeric.py:1410(moveaxis)\n",
      "     2127    0.015    0.000    0.118    0.000 _methods.py:163(_mean)\n",
      "    21698    0.015    0.000    0.067    0.000 <__array_function__ internals>:177(swapaxes)\n",
      "    10594    0.015    0.000    0.372    0.000 __init__.py:108(import_module)\n",
      "     6350    0.014    0.000    0.021    0.000 numeric.py:1347(normalize_axis_tuple)\n",
      "    21667    0.014    0.000    0.014    0.000 {method 'update' of 'dict' objects}\n",
      "    83124    0.013    0.000    0.013    0.000 {method 'get' of 'dict' objects}\n",
      "      250    0.013    0.000    8.117    0.032 mutations.py:26(mutate_individual)\n",
      "    10849    0.013    0.000    2.310    0.000 <__array_function__ internals>:177(rfft)\n",
      "    10594    0.012    0.000    0.093    0.000 <frozen importlib._bootstrap>:216(_lock_unlock_module)\n",
      "    10594    0.011    0.000    0.113    0.000 <frozen importlib._bootstrap>:169(__enter__)\n",
      "    21698    0.011    0.000    0.011    0.000 {method 'swapaxes' of 'numpy.ndarray' objects}\n",
      "    21698    0.010    0.000    0.039    0.000 fromnumeric.py:550(swapaxes)\n",
      "     7250    0.010    0.000    0.172    0.000 individual.py:29(<listcomp>)\n",
      "      444    0.010    0.000    0.010    0.000 socket.py:545(send)\n",
      "    66900    0.010    0.000    0.010    0.000 {built-in method builtins.isinstance}\n",
      "    10594    0.010    0.000    0.351    0.000 <frozen importlib._bootstrap>:1038(_gcd_import)\n",
      "     7272    0.010    0.000    0.010    0.000 {method 'astype' of 'numpy.ndarray' objects}\n",
      "      251    0.009    0.000    0.387    0.002 fitness.py:27(multi_onset_fitness_cached)\n",
      "        1    0.009    0.009   14.425   14.425 <string>:1(<module>)\n",
      "     1059    0.009    0.000    0.138    0.000 _windows.py:2261(get_window)\n",
      "     2127    0.008    0.000    0.009    0.000 _methods.py:66(_count_reduce_items)\n",
      "    21521    0.008    0.000    0.012    0.000 copyreg.py:100(__newobj__)\n",
      "     4294    0.007    0.000    0.065    0.000 fromnumeric.py:2927(prod)\n",
      "    10594    0.007    0.000    0.009    0.000 <frozen importlib._bootstrap>:968(_sanity_check)\n",
      "     7250    0.007    0.000    4.170    0.001 <__array_function__ internals>:177(copy)\n",
      "     6212    0.006    0.000    0.006    0.000 arraypad.py:58(_view_roi)\n",
      "     6211    0.006    0.000    0.513    0.000 <__array_function__ internals>:177(pad)\n",
      "    42376    0.006    0.000    0.006    0.000 {built-in method _imp.acquire_lock}\n",
      "     8350    0.006    0.000    0.006    0.000 fromnumeric.py:70(<dictcomp>)\n",
      "    42524    0.006    0.000    0.006    0.000 {method '__exit__' of '_thread.lock' objects}\n",
      "     1029    0.006    0.000    0.373    0.000 individual.py:23(<listcomp>)\n",
      "     1059    0.006    0.000    0.006    0.000 utils.py:2251(dtype_r2c)\n",
      "     1029    0.006    0.000    1.048    0.001 individual.py:20(to_mixdown)\n",
      "        1    0.006    0.006    0.015    0.015 spectrum.py:2755(_spectrogram)\n",
      "     6211    0.006    0.000    0.028    0.000 <__array_function__ internals>:177(around)\n",
      "    12424    0.006    0.000    0.006    0.000 arraypad.py:33(_slice_at_axis)\n",
      "     6211    0.006    0.000    0.006    0.000 {method 'round' of 'numpy.ndarray' objects}\n",
      "     1866    0.006    0.000    0.121    0.000 function_base.py:396(average)\n",
      "    10595    0.006    0.000    0.006    0.000 {method 'startswith' of 'str' objects}\n",
      "    10594    0.006    0.000    0.006    0.000 <frozen importlib._bootstrap>:165(__init__)\n",
      "     1000    0.006    0.000    8.028    0.008 mutations.py:16(mutate_sample_collection)\n",
      "    42524    0.005    0.000    0.005    0.000 {built-in method _thread.get_ident}\n",
      "    19329    0.005    0.000    0.005    0.000 {built-in method numpy.core._multiarray_umath.normalize_axis_index}\n",
      "    10594    0.005    0.000    0.025    0.000 <frozen importlib._bootstrap>:173(__exit__)\n",
      "     6211    0.005    0.000    0.018    0.000 fromnumeric.py:3214(around)\n",
      "    12423    0.005    0.000    0.005    0.000 arraypad.py:109(<genexpr>)\n",
      "    32147    0.005    0.000    0.005    0.000 {built-in method builtins.issubclass}\n",
      "     1059    0.005    0.000    0.006    0.000 utils.py:473(expand_to)\n",
      "     1962    0.005    0.000    0.655    0.000 fromnumeric.py:2162(sum)\n",
      "     1059    0.005    0.000    0.061    0.000 utils.py:398(pad_center)\n",
      "     1061    0.005    0.000    0.005    0.000 {built-in method numpy.arange}\n",
      "     6211    0.005    0.000    0.033    0.000 fromnumeric.py:3722(round_)\n",
      "        1    0.005    0.005    0.005    0.005 target.py:9(<dictcomp>)\n",
      "     8734    0.005    0.000    0.005    0.000 {built-in method builtins.min}\n",
      "     1059    0.005    0.000    0.143    0.000 filters.py:1159(get_window)\n",
      "      146    0.005    0.000    0.011    0.000 std.py:355(format_meter)\n",
      "    29912    0.004    0.000    0.004    0.000 {built-in method builtins.len}\n",
      "     6211    0.004    0.000    0.042    0.000 <__array_function__ internals>:177(round_)\n",
      "     4294    0.004    0.000    0.074    0.000 <__array_function__ internals>:177(prod)\n",
      "    42376    0.004    0.000    0.004    0.000 {built-in method _imp.release_lock}\n",
      "     2123    0.004    0.000    0.010    0.000 numerictypes.py:356(issubdtype)\n",
      "    12423    0.004    0.000    0.004    0.000 arraypad.py:120(<genexpr>)\n",
      "      409    0.004    0.000    0.017    0.000 sample_library.py:129(get_random_pitch_for_instrument)\n",
      "    12421    0.004    0.000    0.004    0.000 {method 'ravel' of 'numpy.ndarray' objects}\n",
      "     7279    0.004    0.000    0.004    0.000 individual.py:6(__init__)\n",
      "     7250    0.004    0.000    4.156    0.001 function_base.py:870(copy)\n",
      "      250    0.004    0.000    0.004    0.000 individual.py:53(<dictcomp>)\n",
      "     6122    0.004    0.000    0.004    0.000 {built-in method numpy.asanyarray}\n",
      "     3177    0.004    0.000    0.004    0.000 {built-in method builtins.sorted}\n",
      "    21522    0.004    0.000    0.004    0.000 {built-in method __new__ of type object at 0x00007FF9841B4D30}\n",
      "      250    0.004    0.000    0.004    0.000 {method 'normal' of 'numpy.random.mtrand.RandomState' objects}\n",
      "      500    0.003    0.000    0.006    0.000 _methods.py:92(_clip_dep_is_scalar_nan)\n",
      "     6350    0.003    0.000    0.005    0.000 numeric.py:1397(<listcomp>)\n",
      "    21698    0.003    0.000    0.003    0.000 fromnumeric.py:546(_swapaxes_dispatcher)\n",
      "     4246    0.003    0.000    0.005    0.000 numerictypes.py:282(issubclass_)\n",
      "     1060    0.003    0.000    0.008    0.000 {method 'any' of 'numpy.generic' objects}\n",
      "     3175    0.003    0.000    0.052    0.000 <__array_function__ internals>:177(moveaxis)\n",
      "    10849    0.003    0.000    0.003    0.000 _pocketfft.py:78(_get_forward_norm)\n",
      "     1164    0.003    0.000    0.004    0.000 {method 'format' of 'str' objects}\n",
      "     4546    0.003    0.000    0.003    0.000 base_sample.py:9(__str__)\n",
      "     1866    0.003    0.000    0.126    0.000 <__array_function__ internals>:177(average)\n",
      "     1962    0.003    0.000    0.660    0.000 <__array_function__ internals>:177(sum)\n",
      "     1030    0.003    0.000    0.003    0.000 getlimits.py:458(__new__)\n",
      "    22079    0.003    0.000    0.003    0.000 {built-in method builtins.hasattr}\n",
      "     3177    0.002    0.000    0.002    0.000 {method 'transpose' of 'numpy.ndarray' objects}\n",
      "     2122    0.002    0.000    0.002    0.000 {method 'reshape' of 'numpy.ndarray' objects}\n",
      "      385    0.002    0.000    0.020    0.000 mutations.py:53(mutate_instrument)\n",
      "      385    0.002    0.000    0.009    0.000 sample_library.py:114(get_random_instrument_for_pitch)\n",
      "     1059    0.002    0.000    0.128    0.000 _windows.py:947(general_hamming)\n",
      "     1029    0.002    0.000    0.003    0.000 individual.py:22(<listcomp>)\n",
      "     1560    0.002    0.000    0.003    0.000 fromnumeric.py:3121(ndim)\n",
      "     6083    0.002    0.000    0.005    0.000 individual.py:12(<genexpr>)\n",
      "     1060    0.002    0.000    0.014    0.000 fromnumeric.py:2307(any)\n",
      "      261    0.002    0.000    0.007    0.000 fromnumeric.py:3313(mean)\n",
      "  1593/56    0.002    0.000    0.009    0.000 {method 'join' of 'str' objects}\n",
      "      409    0.002    0.000    0.027    0.000 mutations.py:74(mutate_pitch)\n",
      "     3175    0.002    0.000    0.002    0.000 stride_tricks.py:20(__init__)\n",
      "    12422    0.002    0.000    0.002    0.000 fromnumeric.py:3210(_around_dispatcher)\n",
      "    10849    0.002    0.000    0.002    0.000 _pocketfft.py:118(_fft_dispatcher)\n",
      "     1059    0.002    0.000    0.013    0.000 {method 'all' of 'numpy.ndarray' objects}\n",
      "      250    0.002    0.000    0.002    0.000 _methods.py:107(_clip_dep_invoke_with_casting)\n",
      "     8351    0.002    0.000    0.002    0.000 {method 'items' of 'dict' objects}\n",
      "      250    0.002    0.000    4.396    0.018 individual.py:47(from_copy)\n",
      "     1030    0.002    0.000    0.014    0.000 fromnumeric.py:2677(amax)\n",
      "     1866    0.002    0.000    0.115    0.000 {method 'mean' of 'numpy.ndarray' objects}\n",
      "     1560    0.002    0.000    0.007    0.000 <__array_function__ internals>:177(ndim)\n",
      "      250    0.001    0.000    0.012    0.000 {method 'clip' of 'numpy.generic' objects}\n",
      "     3176    0.001    0.000    0.001    0.000 stride_tricks.py:25(_maybe_view_as_subclass)\n",
      "        1    0.001    0.001    0.002    0.002 filters.py:127(mel)\n",
      "     1059    0.001    0.000    0.129    0.000 _windows.py:724(hann)\n",
      "     1060    0.001    0.000    0.072    0.000 <__array_function__ internals>:177(linspace)\n",
      "     3175    0.001    0.000    0.001    0.000 numeric.py:1472(<listcomp>)\n",
      "     1030    0.001    0.000    0.017    0.000 <__array_function__ internals>:177(amax)\n",
      "      444    0.001    0.000    0.014    0.000 iostream.py:203(schedule)\n",
      "     1060    0.001    0.000    0.008    0.000 <__array_function__ internals>:177(result_type)\n",
      "      179    0.001    0.000    0.016    0.000 sample_library.py:108(get_random_sample_uniform)\n",
      "      148    0.001    0.000    0.001    0.000 threading.py:236(__init__)\n",
      "      250    0.001    0.000    0.010    0.000 _methods.py:126(_clip)\n",
      "     1537    0.001    0.000    0.008    0.000 individual.py:11(__str__)\n",
      "      206    0.001    0.000    0.013    0.000 mutations.py:38(mutate_n_samples)\n",
      "     7250    0.001    0.000    0.001    0.000 function_base.py:866(_copy_dispatcher)\n",
      "      148    0.001    0.000    0.086    0.001 iostream.py:479(flush)\n",
      "      149    0.001    0.000    0.013    0.000 iostream.py:534(write)\n",
      "       91    0.001    0.000    0.169    0.002 std.py:1212(update)\n",
      "     1060    0.001    0.000    0.019    0.000 <__array_function__ internals>:177(any)\n",
      "     1590    0.001    0.000    0.009    0.000 individual.py:45(<genexpr>)\n",
      "      704    0.001    0.000    0.001    0.000 std.py:233(__call__)\n",
      "     1059    0.001    0.000    0.011    0.000 _methods.py:60(_all)\n",
      "     7277    0.001    0.000    0.001    0.000 {built-in method builtins.callable}\n",
      "      933    0.001    0.000    0.369    0.000 fitness.py:21(fitness_cached)\n",
      "     6211    0.001    0.000    0.001    0.000 arraypad.py:521(_pad_dispatcher)\n",
      "     7410    0.001    0.000    0.001    0.000 {built-in method _operator.index}\n",
      "     1059    0.001    0.000    0.001    0.000 _windows.py:32(_truncate)\n",
      "      148    0.001    0.000    0.079    0.001 threading.py:589(wait)\n",
      "     1059    0.001    0.000    0.001    0.000 _windows.py:17(_len_guards)\n",
      "      146    0.001    0.000    0.001    0.000 std.py:1460(format_dict)\n",
      "      564    0.001    0.000    0.001    0.000 sample_library.py:101(get_sample)\n",
      "      292    0.001    0.000    0.001    0.000 utils.py:222(_is_ascii)\n",
      "      251    0.001    0.000    0.001    0.000 individual.py:38(__init__)\n",
      "        1    0.001    0.001    0.001    0.001 spectrum.py:1663(power_to_db)\n",
      "      146    0.001    0.000    0.014    0.000 std.py:1164(__str__)\n",
      "      146    0.001    0.000    0.250    0.002 std.py:348(print_status)\n",
      "      500    0.001    0.000    0.001    0.000 _methods.py:102(_clip_dep_is_byte_swapped)\n",
      "     4294    0.001    0.000    0.001    0.000 fromnumeric.py:2922(_prod_dispatcher)\n",
      "      148    0.001    0.000    0.078    0.001 threading.py:288(wait)\n",
      "      251    0.001    0.000    0.171    0.001 std.py:1174(__iter__)\n",
      "     1209    0.001    0.000    0.001    0.000 {built-in method builtins.max}\n",
      "      592    0.001    0.000    0.002    0.000 threading.py:1169(is_alive)\n",
      "      146    0.001    0.000    0.265    0.002 std.py:1478(display)\n",
      "      250    0.001    0.000    0.016    0.000 <__array_function__ internals>:177(clip)\n",
      "     1060    0.001    0.000    0.001    0.000 numeric.py:1873(isscalar)\n",
      "     3175    0.001    0.000    0.001    0.000 {method 'insert' of 'list' objects}\n",
      "      250    0.001    0.000    0.013    0.000 fromnumeric.py:2085(clip)\n",
      "     1061    0.001    0.000    0.005    0.000 _methods.py:54(_any)\n",
      "      294    0.001    0.000    0.099    0.000 utils.py:143(inner)\n",
      "     3175    0.001    0.000    0.001    0.000 numeric.py:1406(_moveaxis_dispatcher)\n",
      "      145    0.001    0.000    0.265    0.002 std.py:1339(refresh)\n",
      "      146    0.001    0.000    0.001    0.000 std.py:188(__format__)\n",
      "      146    0.001    0.000    0.099    0.001 std.py:342(fp_write)\n",
      "     1059    0.001    0.000    0.001    0.000 fft.py:45(get_fftlib)\n",
      "        1    0.001    0.001    0.020    0.020 onset.py:424(onset_strength_multi)\n",
      "     1059    0.001    0.000    0.001    0.000 spectrum.py:261(<listcomp>)\n",
      "      290    0.001    0.000    0.002    0.000 std.py:288(format_interval)\n",
      "      149    0.001    0.000    0.001    0.000 std.py:108(release)\n",
      "     1059    0.001    0.000    0.001    0.000 _windows.py:24(_extend)\n",
      "      146    0.000    0.000    0.000    0.000 {method 'sub' of 're.Pattern' objects}\n",
      "      149    0.000    0.000    0.001    0.000 std.py:104(acquire)\n",
      "       53    0.000    0.000    0.010    0.000 individual.py:44(__str__)\n",
      "      444    0.000    0.000    0.000    0.000 iostream.py:90(_event_pipe)\n",
      "        1    0.000    0.000    0.000    0.000 {built-in method io.open}\n",
      "      592    0.000    0.000    0.001    0.000 threading.py:1102(_wait_for_tstate_lock)\n",
      "     1866    0.000    0.000    0.000    0.000 function_base.py:391(_average_dispatcher)\n",
      "      149    0.000    0.000    0.000    0.000 {method 'acquire' of '_multiprocessing.SemLock' objects}\n",
      "      261    0.000    0.000    0.008    0.000 <__array_function__ internals>:177(mean)\n",
      "      148    0.000    0.000    0.002    0.000 threading.py:545(__init__)\n",
      "        1    0.000    0.000    0.000    0.000 {method 'readlines' of '_io._IOBase' objects}\n",
      "     1962    0.000    0.000    0.000    0.000 fromnumeric.py:2157(_sum_dispatcher)\n",
      "      144    0.000    0.000    0.000    0.000 {built-in method now}\n",
      "     1560    0.000    0.000    0.000    0.000 fromnumeric.py:3117(_ndim_dispatcher)\n",
      "      149    0.000    0.000    0.011    0.000 iostream.py:464(_schedule_flush)\n",
      "     1066    0.000    0.000    0.000    0.000 {method 'setdefault' of 'dict' objects}\n",
      "      146    0.000    0.000    0.150    0.001 utils.py:333(disp_len)\n",
      "     1060    0.000    0.000    0.000    0.000 multiarray.py:664(result_type)\n",
      "     3066    0.000    0.000    0.000    0.000 {built-in method builtins.ord}\n",
      "      146    0.000    0.000    0.000    0.000 std.py:155(__init__)\n",
      "     1060    0.000    0.000    0.000    0.000 function_base.py:18(_linspace_dispatcher)\n",
      "      206    0.000    0.000    0.000    0.000 {method 'random' of 'numpy.random.mtrand.RandomState' objects}\n",
      "      149    0.000    0.000    0.000    0.000 iostream.py:443(_is_master_process)\n",
      "     1060    0.000    0.000    0.000    0.000 fromnumeric.py:2302(_any_dispatcher)\n",
      "      146    0.000    0.000    0.149    0.001 utils.py:329(_text_width)\n",
      "        1    0.000    0.000    0.041    0.041 target.py:11(calc_stft_for_snippets)\n",
      "     1030    0.000    0.000    0.000    0.000 fromnumeric.py:2672(_amax_dispatcher)\n",
      "        1    0.000    0.000    0.000    0.000 {method 'outer' of 'numpy.ufunc' objects}\n",
      "      148    0.000    0.000    0.000    0.000 threading.py:276(_acquire_restore)\n",
      "      148    0.000    0.000    0.000    0.000 threading.py:1430(current_thread)\n",
      "        1    0.000    0.000    0.007    0.007 base_algorithms.py:64(create_multi_onset_individual)\n",
      "      251    0.000    0.000    0.000    0.000 individual.py:40(<dictcomp>)\n",
      "      296    0.000    0.000    0.000    0.000 threading.py:1145(ident)\n",
      "      454    0.000    0.000    0.000    0.000 {built-in method time.time}\n",
      "       53    0.000    0.000    0.098    0.002 std.py:1447(set_postfix_str)\n",
      "      726    0.000    0.000    0.000    0.000 {built-in method builtins.divmod}\n",
      "      149    0.000    0.000    0.000    0.000 {method 'acquire' of '_thread.RLock' objects}\n",
      "        1    0.000    0.000    0.000    0.000 {built-in method nt.stat}\n",
      "      146    0.000    0.000    0.000    0.000 utils.py:57(__init__)\n",
      "      149    0.000    0.000    0.000    0.000 {method 'release' of '_multiprocessing.SemLock' objects}\n",
      "      593    0.000    0.000    0.000    0.000 threading.py:553(is_set)\n",
      "      148    0.000    0.000    0.000    0.000 threading.py:264(__enter__)\n",
      "      592    0.000    0.000    0.000    0.000 {method 'append' of 'collections.deque' objects}\n",
      "      149    0.000    0.000    0.000    0.000 {method 'write' of '_io.StringIO' objects}\n",
      "      148    0.000    0.000    0.000    0.000 threading.py:267(__exit__)\n",
      "      149    0.000    0.000    0.000    0.000 {built-in method nt.getpid}\n",
      "      146    0.000    0.000    0.000    0.000 utils.py:61(__format__)\n",
      "      148    0.000    0.000    0.000    0.000 threading.py:279(_is_owned)\n",
      "      250    0.000    0.000    0.000    0.000 fromnumeric.py:2081(_clip_dispatcher)\n",
      "        1    0.000    0.000    0.018    0.018 spectral.py:2021(melspectrogram)\n",
      "      261    0.000    0.000    0.000    0.000 fromnumeric.py:3308(_mean_dispatcher)\n",
      "        1    0.000    0.000    0.000    0.000 utils.py:1220(peak_pick)\n",
      "      146    0.000    0.000    0.000    0.000 std.py:169(colour)\n",
      "      148    0.000    0.000    0.000    0.000 threading.py:273(_release_save)\n",
      "      148    0.000    0.000    0.000    0.000 {built-in method builtins.abs}\n",
      "      251    0.000    0.000    0.000    0.000 {method 'values' of 'dict' objects}\n",
      "        1    0.000    0.000   14.425   14.425 {built-in method builtins.exec}\n",
      "      117    0.000    0.000    0.000    0.000 {method 'pop' of 'list' objects}\n",
      "      251    0.000    0.000    0.000    0.000 individual.py:42(<dictcomp>)\n",
      "        1    0.000    0.000    0.001    0.001 warnings.py:96(_showwarnmsg)\n",
      "      222    0.000    0.000    0.000    0.000 {method 'append' of 'list' objects}\n",
      "        1    0.000    0.000    0.021    0.021 onset.py:29(onset_detect)\n",
      "        3    0.000    0.000    0.001    0.000 {built-in method _warnings.warn}\n",
      "      148    0.000    0.000    0.000    0.000 {method '__enter__' of '_thread.lock' objects}\n",
      "        1    0.000    0.000    0.000    0.000 einsumfunc.py:523(_parse_einsum_input)\n",
      "      149    0.000    0.000    0.000    0.000 {method 'release' of '_thread.RLock' objects}\n",
      "      146    0.000    0.000    0.000    0.000 std.py:165(colour)\n",
      "        1    0.000    0.000    0.002    0.002 std.py:846(__init__)\n",
      "        1    0.000    0.000    0.000    0.000 einsumfunc.py:706(einsum_path)\n",
      "        1    0.000    0.000    0.000    0.000 __init__.py:48(create_string_buffer)\n",
      "        1    0.000    0.000    0.000    0.000 {method '__exit__' of '_io._IOBase' objects}\n",
      "      149    0.000    0.000    0.000    0.000 {method '__exit__' of '_thread.RLock' objects}\n",
      "        2    0.000    0.000    0.000    0.000 {method 'readline' of '_io.BufferedReader' objects}\n",
      "        1    0.000    0.000    0.000    0.000 utils.py:246(_screen_shape_windows)\n",
      "       13    0.000    0.000    0.000    0.000 {built-in method _codecs.utf_8_decode}\n",
      "        1    0.000    0.000    0.000    0.000 convert.py:1268(mel_to_hz)\n",
      "        2    0.000    0.000    0.000    0.000 convert.py:1193(hz_to_mel)\n",
      "      148    0.000    0.000    0.000    0.000 {method 'release' of '_thread.lock' objects}\n",
      "        1    0.000    0.000    0.020    0.020 onset.py:194(onset_strength)\n",
      "        1    0.000    0.000    0.000    0.000 stride_tricks.py:340(_broadcast_to)\n",
      "        1    0.000    0.000    0.001    0.001 einsumfunc.py:1009(einsum)\n",
      "        1    0.000    0.000    0.000    0.000 function_base.py:1319(diff)\n",
      "        1    0.000    0.000    0.001    0.001 numeric.py:949(tensordot)\n",
      "        1    0.000    0.000    0.001    0.001 tokenize.py:390(open)\n",
      "        1    0.000    0.000    0.000    0.000 helper.py:172(rfftfreq)\n",
      "        1    0.000    0.000    0.000    0.000 utils.py:1576(sync)\n",
      "        1    0.000    0.000    0.001    0.001 linecache.py:80(updatecache)\n",
      "        1    0.000    0.000    0.067    0.067 target.py:5(__init__)\n",
      "        2    0.000    0.000    0.000    0.000 _ni_support.py:73(_get_output)\n",
      "        1    0.000    0.000    0.000    0.000 std.py:560(__new__)\n",
      "        5    0.000    0.000    0.000    0.000 utils.py:321(valid_int)\n",
      "        1    0.000    0.000    0.001    0.001 warnings.py:35(_formatwarnmsg_impl)\n",
      "        1    0.000    0.000    0.000    0.000 {built-in method scipy.ndimage._nd_image.min_or_max_filter1d}\n",
      "       13    0.000    0.000    0.000    0.000 codecs.py:319(decode)\n",
      "        1    0.000    0.000    0.000    0.000 convert.py:82(frames_to_samples)\n",
      "        1    0.000    0.000    0.000    0.000 getlimits.py:540(smallest_normal)\n",
      "        1    0.000    0.000    0.001    0.001 std.py:329(status_printer)\n",
      "        2    0.000    0.000    0.002    0.001 std.py:1279(close)\n",
      "        2    0.000    0.000    0.000    0.000 _dtype.py:344(_name_get)\n",
      "        1    0.000    0.000    0.000    0.000 _filters.py:1055(maximum_filter1d)\n",
      "        1    0.000    0.000    0.000    0.000 std.py:583(_decr_instances)\n",
      "        2    0.000    0.000    0.000    0.000 tokenize.py:327(find_cookie)\n",
      "        1    0.000    0.000    0.000    0.000 tokenize.py:297(detect_encoding)\n",
      "        2    0.000    0.000    0.000    0.000 filters.py:25(__getattr__)\n",
      "        3    0.000    0.000    0.000    0.000 _weakrefset.py:63(__iter__)\n",
      "        1    0.000    0.000    0.000    0.000 convert.py:1602(fft_frequencies)\n",
      "        1    0.000    0.000    0.000    0.000 einsumfunc.py:413(_can_dot)\n",
      "        1    0.000    0.000    0.000    0.000 {method 'nonzero' of 'numpy.ndarray' objects}\n",
      "        1    0.000    0.000    0.000    0.000 utils.py:162(__init__)\n",
      "        3    0.000    0.000    0.000    0.000 fromnumeric.py:2406(all)\n",
      "        1    0.000    0.000    0.000    0.000 utils.py:201(_is_utf)\n",
      "        1    0.000    0.000    0.000    0.000 std.py:576(_get_free_pos)\n",
      "        1    0.000    0.000    0.000    0.000 utils.py:1825(tiny)\n",
      "        2    0.000    0.000    0.000    0.000 {built-in method utcfromtimestamp}\n",
      "        3    0.000    0.000    0.000    0.000 {method 'match' of 're.Pattern' objects}\n",
      "        1    0.000    0.000    0.001    0.001 linecache.py:36(getlines)\n",
      "        9    0.000    0.000    0.000    0.000 {method 'replace' of 'str' objects}\n",
      "        1    0.000    0.000    0.000    0.000 _filters.py:894(uniform_filter1d)\n",
      "        2    0.000    0.000    0.000    0.000 _weakrefset.py:27(__exit__)\n",
      "        1    0.000    0.000    0.000    0.000 convert.py:1667(mel_frequencies)\n",
      "        1    0.000    0.000    0.000    0.000 fromnumeric.py:1866(nonzero)\n",
      "        2    0.000    0.000    0.000    0.000 _weakrefset.py:53(_commit_removals)\n",
      "        1    0.000    0.000    0.000    0.000 {built-in method scipy.ndimage._nd_image.uniform_filter1d}\n",
      "        1    0.000    0.000    0.000    0.000 warnings.py:403(__init__)\n",
      "        1    0.000    0.000    0.000    0.000 _weakrefset.py:86(add)\n",
      "        1    0.000    0.000    0.000    0.000 einsumfunc.py:85(_find_contraction)\n",
      "        3    0.000    0.000    0.000    0.000 <__array_function__ internals>:177(all)\n",
      "        1    0.000    0.000    0.001    0.001 warnings.py:20(_showwarnmsg_impl)\n",
      "       11    0.000    0.000    0.000    0.000 {method 'count' of 'str' objects}\n",
      "        3    0.000    0.000    0.000    0.000 utils.py:101(wrapper_setattr)\n",
      "        2    0.000    0.000    0.000    0.000 {method 'max' of 'numpy.ndarray' objects}\n",
      "        2    0.000    0.000    0.000    0.000 std.py:1300(fp_write)\n",
      "        1    0.000    0.000    0.000    0.000 tokenize.py:286(_get_normal_name)\n",
      "        2    0.000    0.000    0.000    0.000 tokenize.py:321(read_or_stop)\n",
      "        2    0.000    0.000    0.000    0.000 _dtype.py:330(_name_includes_bit_suffix)\n",
      "        2    0.000    0.000    0.000    0.000 utils.py:136(disable_on_exception)\n",
      "        1    0.000    0.000    0.000    0.000 utils.py:215(_supports_unicode)\n",
      "        1    0.000    0.000    0.000    0.000 shape_base.py:81(atleast_2d)\n",
      "        1    0.000    0.000    0.001    0.001 <__array_function__ internals>:177(einsum)\n",
      "        3    0.000    0.000    0.000    0.000 {method 'remove' of 'set' objects}\n",
      "        7    0.000    0.000    0.000    0.000 {method 'split' of 'str' objects}\n",
      "        3    0.000    0.000    0.000    0.000 utils.py:354(is_positive_int)\n",
      "        4    0.000    0.000    0.000    0.000 std.py:112(__enter__)\n",
      "        6    0.000    0.000    0.000    0.000 einsumfunc.py:56(_compute_size_by_dict)\n",
      "        1    0.000    0.000    0.000    0.000 _weakrefset.py:111(remove)\n",
      "        4    0.000    0.000    0.000    0.000 std.py:115(__exit__)\n",
      "        2    0.000    0.000    0.000    0.000 _weakrefset.py:17(__init__)\n",
      "        1    0.000    0.000    0.001    0.001 linecache.py:26(getline)\n",
      "        2    0.000    0.000    0.000    0.000 std.py:1171(__hash__)\n",
      "        2    0.000    0.000    0.000    0.000 _methods.py:38(_amax)\n",
      "        1    0.000    0.000    0.000    0.000 {method 'encode' of 'str' objects}\n",
      "        4    0.000    0.000    0.000    0.000 utils.py:171(__eq__)\n",
      "        1    0.000    0.000    0.000    0.000 fromnumeric.py:2802(amin)\n",
      "        1    0.000    0.000    0.000    0.000 <frozen importlib._bootstrap>:1053(_handle_fromlist)\n",
      "        1    0.000    0.000    0.000    0.000 codecs.py:309(__init__)\n",
      "        2    0.000    0.000    0.000    0.000 _weakrefset.py:21(__enter__)\n",
      "        3    0.000    0.000    0.000    0.000 std.py:228(__init__)\n",
      "        2    0.000    0.000    0.000    0.000 einsumfunc.py:18(_flop_count)\n",
      "        1    0.000    0.000    0.000    0.000 type_check.py:303(iscomplexobj)\n",
      "        3    0.000    0.000    0.000    0.000 {method 'add' of 'set' objects}\n",
      "        1    0.000    0.000    0.000    0.000 <__array_function__ internals>:177(atleast_2d)\n",
      "        1    0.000    0.000    0.001    0.001 <__array_function__ internals>:177(tensordot)\n",
      "        1    0.000    0.000    0.000    0.000 einsumfunc.py:887(<listcomp>)\n",
      "        5    0.000    0.000    0.000    0.000 einsumfunc.py:1001(_einsum_dispatcher)\n",
      "        2    0.000    0.000    0.000    0.000 {method 'min' of 'numpy.ndarray' objects}\n",
      "        1    0.000    0.000    0.000    0.000 {built-in method _codecs.lookup}\n",
      "        1    0.000    0.000    0.000    0.000 _monitor.py:94(report)\n",
      "        1    0.000    0.000    0.000    0.000 <__array_function__ internals>:177(einsum_path)\n",
      "        2    0.000    0.000    0.000    0.000 _ni_support.py:36(_extend_mode_to_code)\n",
      "        1    0.000    0.000    0.001    0.001 <__array_function__ internals>:177(dot)\n",
      "        1    0.000    0.000    0.000    0.000 function_base.py:346(iterable)\n",
      "        1    0.000    0.000    0.000    0.000 {method 'any' of 'numpy.ndarray' objects}\n",
      "        1    0.000    0.000    0.000    0.000 utils.py:105(__init__)\n",
      "        1    0.000    0.000    0.000    0.000 <__array_function__ internals>:177(iscomplexobj)\n",
      "        1    0.000    0.000    0.000    0.000 stride_tricks.py:367(broadcast_to)\n",
      "        1    0.000    0.000    0.000    0.000 <__array_function__ internals>:177(diff)\n",
      "        1    0.000    0.000    0.001    0.001 warnings.py:117(_formatwarnmsg)\n",
      "        1    0.000    0.000    0.000    0.000 std.py:579(<setcomp>)\n",
      "        2    0.000    0.000    0.000    0.000 _dtype.py:24(_kind_name)\n",
      "        2    0.000    0.000    0.000    0.000 _methods.py:42(_amin)\n",
      "        1    0.000    0.000    0.000    0.000 <__array_function__ internals>:177(nonzero)\n",
      "        1    0.000    0.000    0.000    0.000 <__array_function__ internals>:177(amin)\n",
      "        1    0.000    0.000    0.000    0.000 {method 'disable' of '_lsprof.Profiler' objects}\n",
      "        2    0.000    0.000    0.000    0.000 std.py:1167(_comparable)\n",
      "        1    0.000    0.000    0.000    0.000 utils.py:74(__eq__)\n",
      "        1    0.000    0.000    0.000    0.000 numeric.py:505(isfortran)\n",
      "        1    0.000    0.000    0.000    0.000 mutations.py:13(__init__)\n",
      "        1    0.000    0.000    0.000    0.000 {method 'startswith' of 'bytes' objects}\n",
      "        1    0.000    0.000    0.000    0.000 {built-in method builtins.any}\n",
      "        1    0.000    0.000    0.000    0.000 einsumfunc.py:555(<listcomp>)\n",
      "        1    0.000    0.000    0.000    0.000 <__array_function__ internals>:177(broadcast_to)\n",
      "        2    0.000    0.000    0.000    0.000 {built-in method builtins.id}\n",
      "        1    0.000    0.000    0.000    0.000 utils.py:1680(<listcomp>)\n",
      "        1    0.000    0.000    0.000    0.000 codecs.py:260(__init__)\n",
      "        1    0.000    0.000    0.000    0.000 getlimits.py:563(tiny)\n",
      "        3    0.000    0.000    0.000    0.000 stride_tricks.py:345(<genexpr>)\n",
      "        2    0.000    0.000    0.000    0.000 {method 'decode' of 'bytes' objects}\n",
      "        1    0.000    0.000    0.000    0.000 std.py:1161(__del__)\n",
      "        3    0.000    0.000    0.000    0.000 fromnumeric.py:2401(_all_dispatcher)\n",
      "        3    0.000    0.000    0.000    0.000 einsumfunc.py:898(<genexpr>)\n",
      "        1    0.000    0.000    0.000    0.000 einsumfunc.py:1397(<listcomp>)\n",
      "        1    0.000    0.000    0.000    0.000 std.py:657(get_lock)\n",
      "        1    0.000    0.000    0.000    0.000 einsumfunc.py:852(<listcomp>)\n",
      "        1    0.000    0.000    0.000    0.000 {method 'tolist' of 'numpy.ndarray' objects}\n",
      "        2    0.000    0.000    0.000    0.000 {built-in method _weakref.proxy}\n",
      "        2    0.000    0.000    0.000    0.000 {method 'find' of 'str' objects}\n",
      "        1    0.000    0.000    0.000    0.000 utils.py:231(_screen_shape_wrapper)\n",
      "        1    0.000    0.000    0.000    0.000 {method 'endswith' of 'str' objects}\n",
      "        1    0.000    0.000    0.000    0.000 onset.py:607(<listcomp>)\n",
      "        1    0.000    0.000    0.000    0.000 numeric.py:1120(<listcomp>)\n",
      "        4    0.000    0.000    0.000    0.000 {method 'keys' of 'dict' objects}\n",
      "        1    0.000    0.000    0.000    0.000 utils.py:88(__getattr__)\n",
      "        1    0.000    0.000    0.000    0.000 numeric.py:1125(<listcomp>)\n",
      "        1    0.000    0.000    0.000    0.000 einsumfunc.py:858(<listcomp>)\n",
      "        1    0.000    0.000    0.000    0.000 einsumfunc.py:884(<listcomp>)\n",
      "        1    0.000    0.000    0.000    0.000 {method 'group' of 're.Match' objects}\n",
      "        1    0.000    0.000    0.000    0.000 {method 'seek' of '_io.BufferedReader' objects}\n",
      "        2    0.000    0.000    0.000    0.000 {built-in method builtins.iter}\n",
      "        1    0.000    0.000    0.000    0.000 shape_base.py:77(_atleast_2d_dispatcher)\n",
      "        1    0.000    0.000    0.000    0.000 stride_tricks.py:363(_broadcast_to_dispatcher)\n",
      "        1    0.000    0.000    0.000    0.000 {method 'lower' of 'str' objects}\n",
      "        1    0.000    0.000    0.000    0.000 {method 'strip' of 'str' objects}\n",
      "        1    0.000    0.000    0.000    0.000 {method 'upper' of 'str' objects}\n",
      "        1    0.000    0.000    0.000    0.000 multiarray.py:736(dot)\n",
      "        1    0.000    0.000    0.000    0.000 numeric.py:1128(<listcomp>)\n",
      "        1    0.000    0.000    0.000    0.000 numeric.py:1133(<listcomp>)\n",
      "        1    0.000    0.000    0.000    0.000 numeric.py:1134(<listcomp>)\n",
      "        1    0.000    0.000    0.000    0.000 fromnumeric.py:2797(_amin_dispatcher)\n",
      "        1    0.000    0.000    0.000    0.000 type_check.py:206(_is_type_dispatcher)\n",
      "        1    0.000    0.000    0.000    0.000 function_base.py:1315(_diff_dispatcher)\n",
      "        1    0.000    0.000    0.000    0.000 {method '__exit__' of 'numpy.nditer' objects}\n",
      "        1    0.000    0.000    0.000    0.000 {method 'copy' of 'set' objects}\n",
      "        1    0.000    0.000    0.000    0.000 {method 'difference' of 'set' objects}\n",
      "        1    0.000    0.000    0.000    0.000 std.py:1315(<lambda>)\n",
      "        1    0.000    0.000    0.000    0.000 numeric.py:945(_tensordot_dispatcher)\n",
      "        1    0.000    0.000    0.000    0.000 numeric.py:1126(<listcomp>)\n",
      "        1    0.000    0.000    0.000    0.000 fromnumeric.py:1862(_nonzero_dispatcher)\n",
      "        1    0.000    0.000    0.000    0.000 einsumfunc.py:696(_einsum_path_dispatcher)\n",
      "        1    0.000    0.000    0.000    0.000 einsumfunc.py:1376(<listcomp>)\n",
      "        1    0.000    0.000    0.000    0.000 {method 'pop' of 'dict' objects}\n",
      "        1    0.000    0.000    0.000    0.000 {built-in method sys.audit}"
     ]
    }
   ],
   "source": [
    "ex, _ = librosa.load(librosa.ex('nutcracker'), duration=15)\n",
    "%prun base_algorithm_1plus1_multi_offset(target_y=ex, max_steps=250, sample_lib=sample_lib, onset_frac=1)"
   ]
  },
  {
   "cell_type": "code",
   "execution_count": 7,
   "metadata": {},
   "outputs": [
    {
     "data": {
      "text/plain": [
       "array([ 25600,  37888,  51200,  62976,  76288,  88064, 101376, 112640,\n",
       "       125952, 138240, 151040, 163328, 175616, 187904, 201216, 212480,\n",
       "       224768, 236032, 242176, 248320, 259584, 271872, 283136, 295424,\n",
       "       301568, 307200, 318976, 325120, 330240])"
      ]
     },
     "execution_count": 7,
     "metadata": {},
     "output_type": "execute_result"
    }
   ],
   "source": [
    "onsets = librosa.onset.onset_detect(y=ex, units=\"samples\")\n",
    "onsets"
   ]
  },
  {
   "cell_type": "code",
   "execution_count": 4,
   "metadata": {},
   "outputs": [
    {
     "data": {
      "text/plain": [
       "{259584: 2.2301962652439022,\n",
       " 25600: 2.309660108612805,\n",
       " 307200: 1.7574770150533536,\n",
       " 295424: 1.0912952553353659,\n",
       " 201216: 2.1631345274390243,\n",
       " 51200: 1.791206650152439,\n",
       " 283136: 1.4368401057545732,\n",
       " 330240: 1.604641649199695,\n",
       " 37888: 1.0209581030868902,\n",
       " 163328: 1.0124789205411586,\n",
       " 76288: 0.639272401391006,\n",
       " 318976: 1.752324933307927,\n",
       " 187904: 1.1586563929115854,\n",
       " 112640: 1.576633955792683,\n",
       " 125952: 3.775802448551829,\n",
       " 242176: 1.5547838462271342,\n",
       " 325120: 1.5774137766768292,\n",
       " 101376: 1.373664014862805,\n",
       " 224768: 1.8393482040777438,\n",
       " 212480: 3.1087435689786584,\n",
       " 236032: 1.184840772675305,\n",
       " 151040: 1.9803154773246952,\n",
       " 138240: 0.9133671755907012,\n",
       " 62976: 2.154889958079268,\n",
       " 271872: 2.056380525914634,\n",
       " 248320: 2.2829139672256096,\n",
       " 301568: 1.5214642482850609,\n",
       " 88064: 1.186982302782012,\n",
       " 175616: 2.291779249237805}"
      ]
     },
     "execution_count": 4,
     "metadata": {},
     "output_type": "execute_result"
    }
   ],
   "source": [
    "result.fitness_by_onset"
   ]
  },
  {
   "cell_type": "code",
   "execution_count": 5,
   "metadata": {},
   "outputs": [
    {
     "name": "stdout",
     "output_type": "stream",
     "text": [
      "[(ElectricGuitar, tr131EGLFM, c4), (Violin, tr151VNNVM, fis6), (Viola, tr163VLNVM, fis4)], [(AcousticGuitar, tr111AGRPM, c5), (Cello, tr171VCNOM, b2), (Flute, tr332FLVIM, fis6), (AcousticGuitar, tr113AGAPM, b4)]\n",
      "[(ElectricGuitar, tr131EGLFM, c4), (Violin, tr151VNNVM, fis6), (Viola, tr163VLNVM, fis4)], [(AcousticGuitar, tr111AGRPM, c5), (Cello, tr171VCNOM, b2), (Flute, tr332FLVIM, fis6), (AcousticGuitar, tr113AGAPM, b4)]\n",
      "[(ElectricGuitar, tr131EGLFM, c4), (Violin, tr151VNNVM, fis6), (Viola, tr163VLNVM, fis4), (Violin, tr153VNNVM, ais3)], [(AcousticGuitar, tr111AGRPM, c5), (Cello, tr171VCNOM, b2), (Flute, tr332FLVIM, fis6), (AcousticGuitar, tr113AGAPM, d5)]\n"
     ]
    }
   ],
   "source": [
    "from copy import deepcopy\n",
    "from individual import BaseIndividual\n",
    "from mutations import Mutator\n",
    "from base_algorithms import create_multi_onset_individual\n",
    "individual_1 = create_multi_onset_individual(np.array([0, 100]), 1, sample_lib)\n",
    "mutator = Mutator(sample_lib)\n",
    "print(individual_1)\n",
    "temp_ind = deepcopy(individual_1)\n",
    "individual_2 = mutator.mutate_individual(temp_ind)\n",
    "print(individual_1)\n",
    "print(individual_2)"
   ]
  },
  {
   "cell_type": "code",
   "execution_count": 6,
   "metadata": {},
   "outputs": [
    {
     "name": "stdout",
     "output_type": "stream",
     "text": [
      "(Cello, tr173VCNVM, e4), (Flute, tr332FLVIM, f4), (Flute, tr332FLNOM, e4)\n",
      "(Cello, tr173VCNVM, e4), (Flute, tr332FLVIM, f4), (Flute, tr332FLNOM, e4)\n",
      "(Cello, tr173VCNVM, e4), (Flute, tr332FLVIM, f4), (Flute, tr332FLNOM, e4)\n",
      "(Cello, tr173VCNVM, e4), (Flute, tr332FLVIM, a4), (Flute, tr332FLNOM, e4)\n"
     ]
    }
   ],
   "source": [
    "from individual import SampleCollection\n",
    "individual_1 = create_multi_onset_individual(np.array([0, 100]), 1, sample_lib)\n",
    "sample_1 = individual_1.sample_collections[0]\n",
    "sample_2 = SampleCollection.from_copy(sample_1)\n",
    "print(sample_1)\n",
    "print(sample_2)\n",
    "mutator.mutate_pitch(sample_2)\n",
    "print(sample_1)\n",
    "print(sample_2)"
   ]
  },
  {
   "cell_type": "code",
   "execution_count": 9,
   "metadata": {},
   "outputs": [
    {
     "name": "stdout",
     "output_type": "stream",
     "text": [
      "[(Cello, tr171VCNOM, g4), (Cello, tr172VCNVM, dis5)], [(Violin, tr153VNNVM, e6), (Violin, tr152VNNVM, a5)]\n",
      "[(Cello, tr171VCNOM, g4), (Cello, tr172VCNVM, dis5)], [(Violin, tr153VNNVM, e6), (Violin, tr152VNNVM, a5)]\n",
      "[(Cello, tr171VCNOM, g4), (Cello, tr172VCNVM, dis5)], [(Violin, tr153VNNVM, e6), (Violin, tr152VNNVM, a5)]\n",
      "[(Cello, tr171VCNVM, f2), (Cello, tr172VCNVM, dis5), (Trumpet, tr211TRNOM, a5)], [(Violin, tr152VNNOM, a5), (Trumpet, trCTpt, a3)]\n"
     ]
    }
   ],
   "source": [
    "from individual import SampleCollection\n",
    "individual_1 = create_multi_onset_individual(np.array([0, 100]), 1, sample_lib)\n",
    "individual_2 = BaseIndividual.from_copy(individual_1)\n",
    "print(individual_1)\n",
    "print(individual_2)\n",
    "mutator.mutate_individual(individual_2)\n",
    "print(individual_1)\n",
    "print(individual_2)"
   ]
  },
  {
   "cell_type": "code",
   "execution_count": 10,
   "metadata": {},
   "outputs": [
    {
     "name": "stdout",
     "output_type": "stream",
     "text": [
      "194 µs ± 2.19 µs per loop (mean ± std. dev. of 7 runs, 1,000 loops each)\n",
      "19.8 µs ± 87.8 ns per loop (mean ± std. dev. of 7 runs, 100,000 loops each)\n"
     ]
    }
   ],
   "source": [
    "%timeit deepcopy(individual_1)\n",
    "%timeit BaseIndividual.from_copy(individual_1)"
   ]
  }
 ],
 "metadata": {
  "kernelspec": {
   "display_name": "ma",
   "language": "python",
   "name": "python3"
  },
  "language_info": {
   "codemirror_mode": {
    "name": "ipython",
    "version": 3
   },
   "file_extension": ".py",
   "mimetype": "text/x-python",
   "name": "python",
   "nbconvert_exporter": "python",
   "pygments_lexer": "ipython3",
   "version": "3.10.8"
  },
  "orig_nbformat": 4,
  "vscode": {
   "interpreter": {
    "hash": "e64d2645d10406c485d9857eaab5d37f8c8efad32a47710fb4de5b20809a4099"
   }
  }
 },
 "nbformat": 4,
 "nbformat_minor": 2
}
