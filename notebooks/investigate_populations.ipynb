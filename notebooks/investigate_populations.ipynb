{
 "cells": [
  {
   "cell_type": "code",
   "execution_count": 1,
   "metadata": {},
   "outputs": [
    {
     "name": "stdout",
     "output_type": "stream",
     "text": [
      "c:\\Users\\justi\\coding\\Uni\\MA\n"
     ]
    }
   ],
   "source": [
    "%cd .."
   ]
  },
  {
   "cell_type": "code",
   "execution_count": 2,
   "metadata": {},
   "outputs": [
    {
     "name": "stderr",
     "output_type": "stream",
     "text": [
      "c:\\Users\\justi\\miniconda3\\envs\\ma\\lib\\site-packages\\tqdm\\auto.py:22: TqdmWarning: IProgress not found. Please update jupyter and ipywidgets. See https://ipywidgets.readthedocs.io/en/stable/user_install.html\n",
      "  from .autonotebook import tqdm as notebook_tqdm\n"
     ]
    }
   ],
   "source": [
    "from enum import Enum\n",
    "import librosa\n",
    "import numpy as np\n",
    "from evoaudio.fitness import fitness_cached\n",
    "from evoaudio.individual import BaseIndividual\n",
    "from evoaudio.population import Population\n",
    "from evoaudio.target import Target\n",
    "from evoaudio.sample_library import SampleLibrary\n",
    "from parsing.arff_parsing import parse_arff"
   ]
  },
  {
   "cell_type": "code",
   "execution_count": 3,
   "metadata": {},
   "outputs": [
    {
     "name": "stderr",
     "output_type": "stream",
     "text": [
      "Loading samples: 100%|██████████| 6826/6826 [00:09<00:00, 687.48it/s] \n"
     ]
    }
   ],
   "source": [
    "sample_lib = SampleLibrary()"
   ]
  },
  {
   "cell_type": "code",
   "execution_count": 4,
   "metadata": {},
   "outputs": [],
   "source": [
    "pop = Population.from_file(\"./experiments/tiny_aam/300_1_3000_0.05_5_10_1_20_0.9954_15_20_1sec_repeat/0/0001.pkl\", expand=True, sample_lib=sample_lib)\n",
    "annotations = parse_arff(\"./audio/tiny_aam/annotations/0001_onsets.arff\")\n",
    "target_mix, target_sr = librosa.load(\"./audio/tiny_aam/audio-mixes-mp3/0001_mix.mp3\")\n",
    "onsets = [int(round(float(onset_time) * target_sr)) for onset_time in annotations.keys()]\n",
    "target = Target(target_mix, onsets)"
   ]
  },
  {
   "cell_type": "code",
   "execution_count": 5,
   "metadata": {},
   "outputs": [],
   "source": [
    "def get_sample_retry(instrument, pitch):\n",
    "    sample = None\n",
    "    while sample is None:\n",
    "        try:\n",
    "            sample = sample_lib.get_sample(\n",
    "                instrument=instrument, \n",
    "                style=sample_lib.get_random_style_for_instrument(instrument), \n",
    "                pitch=pitch\n",
    "            )\n",
    "        except:\n",
    "            continue\n",
    "    return sample\n",
    "\n",
    "def annotation_to_individual(annotation):\n",
    "    samples = []\n",
    "    for tup in annotation:\n",
    "        instrument = tup[0]\n",
    "        pitch = int(tup[1].replace(\"+\", \"\"))\n",
    "        samples.append(get_sample_retry(instrument, pitch))\n",
    "    ind = BaseIndividual()\n",
    "    ind.samples = samples\n",
    "    return ind\n",
    "\n",
    "class class_mode(Enum):\n",
    "    INSTRUMENTS = 0\n",
    "    PITCHES = 1\n",
    "    COMBINED = 2\n",
    "\n",
    "def extract_instruments(individual:BaseIndividual):\n",
    "    seen_instruments = []\n",
    "    for sample in individual.samples:\n",
    "        if sample.instrument not in seen_instruments:\n",
    "            seen_instruments.append(sample.instrument)\n",
    "    return seen_instruments\n",
    "\n",
    "def extract_pitches(individual:BaseIndividual):\n",
    "    seen_pitches = []\n",
    "    for sample in individual.samples:\n",
    "        if sample.pitch not in seen_pitches:\n",
    "            seen_pitches.append(sample.pitch)\n",
    "    return seen_pitches\n",
    "\n",
    "def extract_samples(individual:BaseIndividual):\n",
    "    seen_samples = []\n",
    "    for sample in individual.samples:\n",
    "        if (sample.instrument, sample.pitch) not in seen_samples:\n",
    "            seen_samples.append((sample.instrument, sample.pitch))\n",
    "    return seen_samples\n",
    "\n",
    "def jaccard_error(population:Population, annotations:dict, mode:class_mode):\n",
    "    \"\"\"Iteratively calculates the jaccard error for each onset, then returns the mean.\n",
    "\n",
    "    Parameters\n",
    "    ----------\n",
    "    population : Population\n",
    "        candidate population.\n",
    "    annotations : dict\n",
    "        extracted annotations in style {onset: [(instrument1, pitch1), (instrument2, pitch2), ...]}\n",
    "    mode : class_mode\n",
    "        whether to calculate the error for instrument, pitch or combined approximation\n",
    "\n",
    "    Returns\n",
    "    -------\n",
    "    float\n",
    "        mean jaccard error across all onsets.\n",
    "    \"\"\"\n",
    "    time_onsets = list(annotations.keys())\n",
    "    jaccard_errors_per_onset = []\n",
    "    for i, onset in enumerate(population.archive):\n",
    "        individual = population.archive[onset].individual\n",
    "        time_onset = time_onsets[i]\n",
    "        match mode:\n",
    "            case class_mode.INSTRUMENTS:\n",
    "                extracted_features = extract_instruments(individual)\n",
    "                annotated_features = [annotation[0] for annotation in annotations[time_onset]]\n",
    "            case class_mode.PITCHES:\n",
    "                extracted_features = extract_pitches(individual)\n",
    "                annotated_features = [annotation[1] for annotation in annotations[time_onset]]\n",
    "            case class_mode.COMBINED:\n",
    "                extracted_features = extract_samples(individual)\n",
    "                annotated_features = annotations[time_onset]\n",
    "        intersection = [instrument for instrument in extracted_features if instrument in annotated_features]\n",
    "        union = list(set(extracted_features) | set(annotated_features))\n",
    "        false_positives = set(extracted_features).symmetric_difference(intersection)\n",
    "        false_negatives = set(annotated_features).symmetric_difference(intersection)\n",
    "        jaccard_errors_per_onset.append((len(false_positives) + len(false_negatives)) / len(union))\n",
    "    return jaccard_errors_per_onset"
   ]
  },
  {
   "cell_type": "code",
   "execution_count": 6,
   "metadata": {},
   "outputs": [
    {
     "name": "stdout",
     "output_type": "stream",
     "text": [
      "0.9103260869565217\n"
     ]
    }
   ],
   "source": [
    "true_fitnesses = []\n",
    "record_fitnesses = []\n",
    "for i, time in enumerate(list(annotations.keys())[:-1]):\n",
    "    onset = list(pop.archive.keys())[i]\n",
    "    record = pop.archive[onset]\n",
    "    annotation = annotations[time]\n",
    "    annotated_ind = annotation_to_individual(annotation)\n",
    "    true_fitness = (fitness_cached(annotated_ind, target.abs_stft_per_snippet[onset]))\n",
    "    annotated_ind.fitness = true_fitness\n",
    "    true_fitnesses.append(true_fitness)\n",
    "    record_fitnesses.append(record.fitness)\n",
    "distances = np.array(true_fitnesses) - np.array(record_fitnesses)\n",
    "bad_distances = [distance for distance in distances if distance > 0]\n",
    "print(len(bad_distances) / len(distances))"
   ]
  },
  {
   "cell_type": "code",
   "execution_count": 7,
   "metadata": {},
   "outputs": [
    {
     "name": "stdout",
     "output_type": "stream",
     "text": [
      "[1.0, 0.8, 0.8, 0.6666666666666666, 0.8, 0.8, 0.8571428571428571, 0.8571428571428571, 1.0, 1.0, 1.0, 0.8571428571428571, 1.0, 1.0, 0.8, 0.8, 0.8571428571428571, 1.0, 0.8, 0.8571428571428571, 0.8571428571428571, 0.8, 0.8333333333333334, 1.0, 0.8333333333333334, 1.0, 0.8, 0.8, 0.8, 0.8, 1.0, 1.0, 1.0, 1.0, 1.0, 0.8571428571428571, 0.8571428571428571, 0.8, 0.8571428571428571, 1.0, 0.8, 0.8, 0.8, 0.8, 1.0, 0.6666666666666666, 0.6666666666666666, 1.0, 0.8333333333333334, 0.8, 0.8, 0.6666666666666666, 0.8, 0.8, 0.8571428571428571, 0.8571428571428571, 1.0, 1.0, 1.0, 1.0, 1.0, 1.0, 0.8, 0.8, 0.8571428571428571, 1.0, 0.8, 1.0, 0.8571428571428571, 0.8, 0.8, 1.0, 0.8333333333333334, 1.0, 0.8, 0.8, 0.8, 0.8, 0.8571428571428571, 1.0, 1.0, 1.0, 1.0, 0.8571428571428571, 0.8571428571428571, 0.8, 0.8571428571428571, 1.0, 0.8, 0.8, 0.8, 0.8, 0.8, 0.6666666666666666, 0.6666666666666666, 1.0, 1.0, 0.8, 0.8, 0.8, 0.8, 0.8, 1.0, 0.8571428571428571, 1.0, 1.0, 1.0, 0.8571428571428571, 0.8333333333333334, 1.0, 0.8, 0.8, 1.0, 1.0, 0.8, 1.0, 0.8571428571428571, 0.8, 0.8, 1.0, 1.0, 0.8571428571428571, 0.8, 0.8, 0.8, 0.8, 0.8571428571428571, 1.0, 1.0, 1.0, 1.0, 0.8571428571428571, 0.8571428571428571, 0.8, 0.8571428571428571, 1.0, 0.8, 0.8, 0.8, 0.8, 0.8, 0.6666666666666666, 0.6666666666666666, 1.0, 0.8333333333333334, 1.0, 0.8, 0.6666666666666666, 0.8, 0.8, 0.8571428571428571, 0.8571428571428571, 1.0, 1.0, 0.8, 0.8571428571428571, 0.8333333333333334, 1.0, 0.8, 0.8, 1.0, 1.0, 0.8, 1.0, 1.0, 0.8, 0.8, 1.0, 0.8, 1.0, 0.8, 1.0, 0.8, 0.8, 1.0, 1.0, 1.0, 1.0, 1.0, 0.8571428571428571, 0.8571428571428571, 0.8, 0.8571428571428571, 1.0, 0.8, 0.8, 0.8, 0.8, 0.8, 0.6666666666666666, 0.6666666666666666, 1.0, 1.0, 0.8, 0.8, 0.8, 0.8, 0.6666666666666666, 0.8571428571428571, 1.0, 1.0, 0.8, 1.0, 0.8571428571428571, 0.8333333333333334, 1.0, 0.8, 0.8, 0.8571428571428571, 1.0, 0.8, 0.8571428571428571, 0.8571428571428571, 0.8, 0.8333333333333334, 1.0, 0.8333333333333334, 1.0, 0.8, 1.0, 0.8, 0.8, 1.0, 1.0, 1.0, 1.0, 1.0, 0.8571428571428571, 0.8571428571428571, 0.8, 0.8571428571428571, 1.0, 0.8, 0.6666666666666666, 0.8, 0.8, 1.0, 0.6666666666666666, 0.6666666666666666, 1.0, 0.75, 0.8333333333333334, 0.8, 0.8333333333333334, 0.8, 0.6666666666666666, 0.8333333333333334, 0.8, 0.8, 0.8, 0.8, 0.8, 1.0, 0.8333333333333334, 0.6666666666666666, 0.8, 0.8, 0.8, 0.8, 0.75, 0.8, 0.75, 0.8, 0.75, 0.75, 0.8, 0.6, 1.0, 0.8, 0.8333333333333334, 0.75, 0.8, 0.75, 1.0, 0.8, 0.8333333333333334, 0.8, 0.8, 0.8333333333333334, 0.8, 0.8333333333333334, 0.8, 0.8, 0.8, 1.0, 0.8333333333333334, 0.75, 0.6666666666666666, 0.75, 0.8, 0.75, 0.8, 0.8, 0.8, 0.8, 0.8333333333333334, 0.8333333333333334, 1.0, 0.75, 0.8333333333333334, 0.8, 0.8, 0.8333333333333334, 0.75, 0.75, 1.0, 0.8, 0.8, 0.8, 0.8, 0.8333333333333334, 0.8, 0.8, 0.8, 0.5, 0.8, 1.0, 0.8, 0.6666666666666666, 0.8, 0.8, 0.8, 0.6, 0.6666666666666666, 0.8, 0.8, 0.8, 0.8, 0.8, 0.8, 0.6, 0.6666666666666666, 0.8, 0.8333333333333334, 0.75, 0.0, 0.8, 0.8, 0.8, 0.8333333333333334, 1.0, 0.8, 0.6, 0.6666666666666666, 0.8333333333333334, 0.8, 0.8, 0.8, 0.6666666666666666, 0.8, 0.8333333333333334, 0.8, 0.8, 0.8, 0.6, 1.0, 0.8, 0.8333333333333334, 0.8, 0.8, 0.8, 0.75, 0.75, 0.6666666666666666, 0.6666666666666666, 0.6666666666666666, 0.6666666666666666, 0.6666666666666666, 1.0]\n"
     ]
    }
   ],
   "source": [
    "instrument_errors = jaccard_error(pop, annotations, class_mode.INSTRUMENTS)\n",
    "pitch_errors = jaccard_error(pop, annotations, class_mode.PITCHES)\n",
    "combined_errors = jaccard_error(pop, annotations, class_mode.COMBINED)\n",
    "print(instrument_errors)"
   ]
  },
  {
   "cell_type": "code",
   "execution_count": 8,
   "metadata": {},
   "outputs": [
    {
     "data": {
      "text/plain": [
       "(0.0, 2.0)"
      ]
     },
     "execution_count": 8,
     "metadata": {},
     "output_type": "execute_result"
    },
    {
     "data": {
      "image/png": "[encoded data removed]",
      "text/plain": [
       "<Figure size 640x480 with 1 Axes>"
      ]
     },
     "metadata": {},
     "output_type": "display_data"
    }
   ],
   "source": [
    "import matplotlib.pyplot as plt\n",
    "plt.plot(true_fitnesses[:50])\n",
    "plt.plot(instrument_errors[:50])\n",
    "plt.ylim((0, 2))"
   ]
  },
  {
   "attachments": {},
   "cell_type": "markdown",
   "metadata": {},
   "source": [
    "## Investigating other Fitness Function"
   ]
  },
  {
   "cell_type": "code",
   "execution_count": 9,
   "metadata": {},
   "outputs": [
    {
     "data": {
      "text/plain": [
       "(13,)"
      ]
     },
     "execution_count": 9,
     "metadata": {},
     "output_type": "execute_result"
    }
   ],
   "source": [
    "ind = annotation_to_individual(annotations[list(annotations.keys())[0]])\n",
    "mix = ind.to_mixdown()\n",
    "mfcc = librosa.feature.mfcc(y=mix, n_mfcc=13)\n",
    "mfcc_avg = np.mean(mfcc, axis=1)\n",
    "mfcc_avg.shape"
   ]
  },
  {
   "cell_type": "code",
   "execution_count": 19,
   "metadata": {},
   "outputs": [],
   "source": [
    "def beta_divergence(beta, x, y):\n",
    "    def d(beta, x, y):\n",
    "        if beta == 0:\n",
    "            return x / y - np.log(x/y) - 1\n",
    "        elif beta == 1:\n",
    "            return x * np.log(x/y) + (y - x)\n",
    "        else:\n",
    "            return (1 / (beta * (beta - 1))) * (x**beta + (beta - 1) * y**beta - beta * x * y**(beta - 1))\n",
    "    inner_sum = [d(beta, x[i], y[i]) for i in range(len(x))]\n",
    "    return np.sum(inner_sum)\n",
    "\n",
    "def mfcc_fitness(x, y):\n",
    "    mfcc_x = librosa.feature.mfcc(y=x, n_mfcc=13)\n",
    "    mfcc_y = librosa.feature.mfcc(y=y, n_mfcc=13)\n",
    "    return beta_divergence(2, np.mean(mfcc_x, axis=1), np.mean(mfcc_y, axis=1))"
   ]
  },
  {
   "cell_type": "code",
   "execution_count": 20,
   "metadata": {},
   "outputs": [
    {
     "name": "stdout",
     "output_type": "stream",
     "text": [
      "0.5978260869565217\n"
     ]
    }
   ],
   "source": [
    "# Repeat above calculations with mfcc\n",
    "true_fitnesses_mfcc = []\n",
    "record_fitnesses_mfcc = []\n",
    "for i, time in enumerate(list(annotations.keys())[:-1]):\n",
    "    onset = list(pop.archive.keys())[i]\n",
    "    record = pop.archive[onset]\n",
    "    annotation = annotations[time]\n",
    "    annotated_ind = annotation_to_individual(annotation)\n",
    "    true_fitness_mfcc = (mfcc_fitness(annotated_ind.to_mixdown(), target.y[onset:onsets[i+1]]))\n",
    "    annotated_ind.fitness = true_fitness_mfcc\n",
    "    true_fitnesses_mfcc.append(true_fitness_mfcc)\n",
    "    record_fitnesses_mfcc.append(mfcc_fitness(record.individual.to_mixdown(), target.y[onset:onsets[i+1]]))\n",
    "distances_mfcc = np.array(true_fitnesses_mfcc) - np.array(record_fitnesses_mfcc)\n",
    "bad_distances_mfcc = [distance for distance in distances_mfcc if distance > 0]\n",
    "print(len(bad_distances_mfcc) / len(distances_mfcc))"
   ]
  },
  {
   "cell_type": "code",
   "execution_count": 16,
   "metadata": {},
   "outputs": [
    {
     "name": "stdout",
     "output_type": "stream",
     "text": [
      "[nan, nan, nan, nan, nan, nan, nan, nan, nan, nan, nan, nan, nan, nan, nan, nan, nan, nan, nan, nan, nan, nan, nan, nan, nan, nan, nan, nan, nan, nan, nan, nan, nan, nan, nan, nan, nan, nan, nan, nan, nan, nan, nan, nan, nan, nan, nan, nan, nan, nan, nan, nan, nan, nan, nan, nan, nan, nan, nan, nan, nan, nan, nan, nan, nan, nan, nan, nan, nan, nan, nan, nan, nan, nan, nan, nan, nan, nan, nan, nan, nan, nan, nan, nan, nan, nan, nan, nan, nan, nan, nan, nan, nan, nan, nan, nan, nan, nan, nan, nan, nan, nan, nan, nan, nan, nan, nan, nan, nan, nan, nan, nan, nan, nan, nan, nan, nan, nan, nan, nan, nan, nan, nan, nan, nan, nan, nan, nan, nan, nan, nan, nan, nan, nan, nan, nan, nan, nan, nan, nan, nan, nan, nan, nan, nan, nan, nan, nan, nan, nan, nan, nan, nan, nan, nan, nan, nan, nan, nan, nan, nan, nan, nan, nan, nan, nan, nan, nan, nan, nan, nan, nan, nan, nan, nan, nan, nan, nan, nan, nan, nan, nan, nan, nan, nan, nan, nan, nan, nan, nan, nan, nan, nan, nan, nan, nan, nan, nan, nan, nan, nan, nan, nan, nan, nan, nan, nan, nan, nan, nan, nan, nan, nan, nan, nan, nan, nan, nan, nan, nan, nan, nan, nan, nan, nan, nan, nan, nan, nan, nan, nan, nan, nan, nan, nan, nan, nan, nan, nan, nan, nan, nan, nan, nan, nan, nan, nan, nan, nan, nan, nan, nan, nan, nan, nan, nan, nan, nan, nan, nan, nan, nan, nan, nan, nan, nan, nan, nan, nan, nan, 15.938071250915527, nan, nan, nan, nan, nan, nan, nan, nan, nan, nan, nan, nan, nan, nan, nan, nan, nan, nan, nan, nan, nan, nan, nan, nan, nan, nan, nan, 52.20216608047485, nan, nan, nan, nan, nan, nan, nan, nan, nan, nan, nan, nan, nan, nan, nan, nan, nan, nan, nan, nan, nan, nan, nan, nan, nan, nan, nan, nan, nan, nan, nan, nan, 11.718480944633484, nan, nan, nan, nan, nan, nan, nan, nan, 284.87858521938324, nan, nan, nan, nan, nan, nan, nan, nan, nan, nan, nan, nan, nan, nan, nan, nan, nan, nan, nan, nan, nan, nan, nan, nan, nan, nan, nan]\n"
     ]
    }
   ],
   "source": [
    "print(record_fitnesses_mfcc)"
   ]
  },
  {
   "cell_type": "code",
   "execution_count": 13,
   "metadata": {},
   "outputs": [
    {
     "name": "stdout",
     "output_type": "stream",
     "text": [
      "[19445.350924191473, 22677.92713126676, 23736.281517677944, 28020.640296903723, 22782.55000845725, 17195.002139858945, 18838.262745382282, 24014.684040358705, 15296.09057401706, 24492.816744364733, 23270.59022112797, 19089.20728576622, 24520.528280633684, 17201.34609778133, 22076.99813059029, 18664.712941135404, 19960.907701853917, 21143.19658368018, 17602.99274030281, 31318.06063439956, 17783.13848927814, 21662.54540834237, 21350.13553911737, 18816.700666211942, 28187.791681080496, 15128.034190569271, 29555.607896113554, 13701.054041845691, 22264.142725811977, 17493.02189980393, 13362.230273890815, 18727.830387327223, 18778.36377384367, 18658.20630056839, 19527.191900464775, 19631.51321310322, 16245.245193291541, 15639.834306776118, 22579.963520666086, 16262.631417602526, 20724.70345372952, 18222.381564042407, 14215.494381248946, 13136.121667134948, 25815.50915136025, 17876.156378165266, 11277.008897260472, 21717.919948008042, 20994.52010823911, 22090.982148596657, 27139.026667792354, 22474.350220125954, 30546.924766214026, 25653.33789135125, 17173.7895502917, 19056.776246895293, 20784.841399751676, 20673.807454246657, 20075.571210234124, 19219.690559929666, 24446.59062643066, 26358.47378896662, 21523.42357473993, 26613.681336925354, 20581.199101650054, 17268.615962823707, 16159.292103990929, 23647.639879133203, 25459.6480210265, 18247.104329658006, 19237.315677037488, 15076.53123077358, 28007.195688222157, 12774.281153626867, 23944.13538989706, 16700.341137236675, 21454.61941409177, 16312.946087035198, 14004.293610405815, 21328.987540778104, 12605.675038770263, 18533.833238185638, 19160.243233915324, 19501.239175008388, 19228.77003576259, 22180.12325243993, 22647.58934319199, 17706.61872823082, 23360.522993216484, 16449.12212143038, 20032.30939285931, 17369.019100668764, 25530.12258862129, 13180.751240533711, 17317.342146831063, 21803.505685443328, 28487.177591091786, 22643.62696614121, 17993.399099652703, 23895.783104794245, 23513.717861841567, 16626.801698313247, 21080.686366932612, 19096.13292760175, 18696.50963539353, 25740.90629221644, 17474.17379197957, 28601.697085196898, 18884.497251469806, 26639.38091511503, 26882.870477481734, 19378.285910133836, 17903.029088099964, 30257.597775169677, 20189.61136264642, 21067.80572465828, 24243.538280975565, 24168.6348105821, 27380.401117897603, 17873.142364441785, 17621.97957136501, 14285.055688660736, 23958.238864458628, 15444.340179005425, 30876.207814870788, 17169.330770949022, 21181.86750650023, 21316.862096333436, 17053.072098590575, 17826.55377041824, 16715.568054087795, 24208.171015755892, 20125.11300299131, 29474.874577069702, 20026.41989549768, 12281.272753431896, 24817.752856113693, 19603.437882469625, 14951.53240708017, 17715.73183598222, 19055.926288677616, 12095.76252415609, 11387.899273493971, 25382.01757875759, 21600.1675137816, 23721.12682145738, 21828.896973184634, 17270.784047221518, 23725.27438338564, 27588.796083910907, 21149.265017466667, 24298.545954016838, 25092.92150834844, 15653.049330640175, 18766.62542761785, 18429.263104519436, 18537.43215637899, 22568.618037023938, 26096.457486806303, 17488.831316806518, 17847.054845860934, 16044.264766109718, 20064.91095881737, 18121.792698674275, 25781.567419120103, 20052.019177815877, 20363.469544109055, 20174.76424420337, 18850.814149329923, 15303.414764708143, 29591.8891949016, 13576.008158428349, 16961.14113692566, 18834.22778427665, 18126.5388870293, 21178.82131456428, 13522.767188728698, 17200.196092558155, 13475.6377023374, 24133.882942062963, 20067.66841410292, 17669.50813818071, 20115.1857889046, 17335.196212217, 28553.707609566893, 19702.208638192187, 18834.66431613054, 17779.961865271584, 22326.25859371704, 17892.553020068586, 11349.81135346172, 21195.161410042318, 29167.939330797664, 21330.48490995546, 20254.998736603327, 20244.426248933127, 24166.749911710325, 16998.419422783387, 20282.240088249007, 18769.331838751397, 17718.860726500854, 22548.762895112595, 17744.87246128676, 22572.5138811579, 17214.08605417545, 22707.532059613935, 20021.294882443093, 19605.37599785938, 28207.285576927003, 19585.777675635953, 19929.40767174445, 23995.20550628409, 19646.807032748107, 21714.04170169786, 20317.88987224894, 22541.799702066062, 19268.8384779841, 14566.300615152302, 30011.620512787507, 26400.172873484957, 31392.446283075587, 24834.848850884424, 13096.446265657145, 18865.122454161425, 15994.035222798026, 18312.052719225114, 17332.74930132641, 20120.224376124203, 18916.701141304868, 19593.030516720668, 16815.806989222834, 18484.39968886052, 32005.098741352864, 19894.076937287402, 13246.777338959244, 23067.692967623905, 22142.845700931826, 17955.043331449706, 11346.977249639544, 25364.30329159116, 4353.676095489756, 14578.670414119526, 13578.773785111265, 13865.951132308588, 21826.42352470319, 8205.698809830215, 7695.47755754199, 11477.702010580439, 11881.634172427037, 9005.234074801405, 19468.15360409061, 18002.842436679497, 6729.674271699097, 17329.517735350102, 14848.396214744384, 9456.754246153583, 10622.322494363845, 11951.683236122586, 16054.169153399529, 8500.137395089585, 10826.648646380183, 6623.678827868275, 14311.971055903017, 20958.13246930619, 14654.158981211389, 11277.899794494846, 11931.900961543486, 12623.646689165615, 11557.794868034087, 12406.80411737752, 13894.585765732749, 12979.602713058483, 11935.599665778389, 15959.060386987641, 13233.020407766671, 6360.321969460567, 17906.94494219576, 12624.77139848554, 13972.10576817789, 11960.136335669427, 16817.27553102044, 11454.971500777398, 17945.467657994628, 7780.776689477685, 11796.79926553278, 13733.07420017957, 11935.248243396032, 17430.69982455608, 13256.471158476168, 14625.735950011682, 17794.493660547363, 15899.848544231747, 12118.746329389929, 8059.701415981564, 17351.970123229847, 28824.75585751962, 12506.341030883157, 14316.109501841094, 15934.758135166912, 22777.212876381753, 11663.842341614294, 9503.157614538382, 17365.390411609344, 29603.505127414042, 8161.356059932197, 20100.06678728478, 15846.870373662565, 11592.41945520794, 14375.219326737835, 8751.31701527572, 18000.58039033438, 13318.625774098422, 21888.948773612745, 17296.39861425649, 14030.847511408525, 6146.4865800908765, 8046.388586337224, 16767.74093589334, 4431.7313962655635, 12506.041559026527, 10253.305452989098, 14636.669166512094, 13031.172932021593, 10254.968216887532, 5557.050680775539, 9149.519436712986, 17295.301306400375, 12091.713247044343, 11649.693925640386, 18991.563960081054, 6908.927263835999, 9853.642199888445, 9229.321752375425, 20788.373586684873, 10779.221588628337, 7669.933271943653, 12821.897956129853, 10463.909570240003, 7247.571882477721, 19796.79971832494, 10061.89533346492, 10913.768975200743, 14650.372758612397, 5885.663298464126, 11120.815249559239, 14418.090443812158, 14874.574340835325, 15018.656434229466, 10287.326567433409, 13259.954882290613, 8811.165876797748, 12344.93578669599, 16086.43452041818, 7224.89607716711, 17221.823136905543, 24419.501033133187, 10371.394125827675, 16111.42942113067, 14466.999275939532, 15466.585955582043, 10213.281524632794, 10067.154841302123, 19825.377504770873, 15634.734397308757, 5554.8362617317625, 9135.398618179588, 13324.952249222344, 10351.195907894114]\n"
     ]
    }
   ],
   "source": [
    "print(true_fitnesses_mfcc)"
   ]
  }
 ],
 "metadata": {
  "kernelspec": {
   "display_name": "ma",
   "language": "python",
   "name": "python3"
  },
  "language_info": {
   "codemirror_mode": {
    "name": "ipython",
    "version": 3
   },
   "file_extension": ".py",
   "mimetype": "text/x-python",
   "name": "python",
   "nbconvert_exporter": "python",
   "pygments_lexer": "ipython3",
   "version": "3.10.8"
  },
  "orig_nbformat": 4,
  "vscode": {
   "interpreter": {
    "hash": "e64d2645d10406c485d9857eaab5d37f8c8efad32a47710fb4de5b20809a4099"
   }
  }
 },
 "nbformat": 4,
 "nbformat_minor": 2
}
