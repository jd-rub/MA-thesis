{
 "cells": [
  {
   "cell_type": "code",
   "execution_count": 1,
   "metadata": {},
   "outputs": [
    {
     "name": "stdout",
     "output_type": "stream",
     "text": [
      "c:\\Users\\justi\\Coding\\MA-thesis\n"
     ]
    }
   ],
   "source": [
    "%cd .."
   ]
  },
  {
   "cell_type": "code",
   "execution_count": 2,
   "metadata": {},
   "outputs": [],
   "source": [
    "from enum import Enum\n",
    "import librosa\n",
    "import numpy as np\n",
    "from evoaudio.fitness import fitness_cached\n",
    "from evoaudio.individual import BaseIndividual\n",
    "from evoaudio.population import Population\n",
    "from evoaudio.target import Target\n",
    "from evoaudio.sample_library import SampleLibrary\n",
    "from parsing.arff_parsing import parse_arff"
   ]
  },
  {
   "cell_type": "code",
   "execution_count": 3,
   "metadata": {},
   "outputs": [
    {
     "data": {
      "application/vnd.jupyter.widget-view+json": {
       "model_id": "1515d5975a2f492688bb7869981deacc",
       "version_major": 2,
       "version_minor": 0
      },
      "text/plain": [
       "Loading samples:   0%|          | 0/6826 [00:00<?, ?it/s]"
      ]
     },
     "metadata": {},
     "output_type": "display_data"
    }
   ],
   "source": [
    "sample_lib = SampleLibrary()"
   ]
  },
  {
   "cell_type": "code",
   "execution_count": 4,
   "metadata": {},
   "outputs": [
    {
     "ename": "FileNotFoundError",
     "evalue": "[Errno 2] No such file or directory: './experiments/tiny_aam/300_1_3000_0.05_5_10_1_20_0.9954_15_20_1sec_repeat/0/0001.pkl'",
     "output_type": "error",
     "traceback": [
      "\u001b[1;31m---------------------------------------------------------------------------\u001b[0m",
      "\u001b[1;31mFileNotFoundError\u001b[0m                         Traceback (most recent call last)",
      "Cell \u001b[1;32mIn[4], line 1\u001b[0m\n\u001b[1;32m----> 1\u001b[0m pop \u001b[39m=\u001b[39m Population\u001b[39m.\u001b[39;49mfrom_file(\u001b[39m\"\u001b[39;49m\u001b[39m./experiments/tiny_aam/300_1_3000_0.05_5_10_1_20_0.9954_15_20_1sec_repeat/0/0001.pkl\u001b[39;49m\u001b[39m\"\u001b[39;49m, expand\u001b[39m=\u001b[39;49m\u001b[39mTrue\u001b[39;49;00m, sample_lib\u001b[39m=\u001b[39;49msample_lib)\n\u001b[0;32m      2\u001b[0m annotations \u001b[39m=\u001b[39m parse_arff(\u001b[39m\"\u001b[39m\u001b[39m./audio/tiny_aam/annotations/0001_onsets.arff\u001b[39m\u001b[39m\"\u001b[39m)\n\u001b[0;32m      3\u001b[0m target_mix, target_sr \u001b[39m=\u001b[39m librosa\u001b[39m.\u001b[39mload(\u001b[39m\"\u001b[39m\u001b[39m./audio/tiny_aam/audio-mixes-mp3/0001_mix.mp3\u001b[39m\u001b[39m\"\u001b[39m)\n",
      "File \u001b[1;32mc:\\Users\\justi\\Coding\\MA-thesis\\evoaudio\\population.py:170\u001b[0m, in \u001b[0;36mPopulation.from_file\u001b[1;34m(cls, filename, expand, sample_lib)\u001b[0m\n\u001b[0;32m    153\u001b[0m \u001b[39m@classmethod\u001b[39m \n\u001b[0;32m    154\u001b[0m \u001b[39mdef\u001b[39;00m \u001b[39mfrom_file\u001b[39m(\u001b[39mcls\u001b[39m, filename:\u001b[39mstr\u001b[39m, expand:\u001b[39mbool\u001b[39m\u001b[39m=\u001b[39m\u001b[39mTrue\u001b[39;00m, sample_lib\u001b[39m=\u001b[39m\u001b[39mNone\u001b[39;00m):\n\u001b[0;32m    155\u001b[0m \u001b[39m    \u001b[39m\u001b[39m\"\"\"Loads a population from a pickled file.\u001b[39;00m\n\u001b[0;32m    156\u001b[0m \n\u001b[0;32m    157\u001b[0m \u001b[39m    Parameters\u001b[39;00m\n\u001b[1;32m   (...)\u001b[0m\n\u001b[0;32m    168\u001b[0m \u001b[39m        The loaded population contained in the given file.\u001b[39;00m\n\u001b[0;32m    169\u001b[0m \u001b[39m    \"\"\"\u001b[39;00m\n\u001b[1;32m--> 170\u001b[0m     \u001b[39mwith\u001b[39;00m \u001b[39mopen\u001b[39;49m(filename, \u001b[39m'\u001b[39;49m\u001b[39mrb\u001b[39;49m\u001b[39m'\u001b[39;49m) \u001b[39mas\u001b[39;00m fp:\n\u001b[0;32m    171\u001b[0m         obj \u001b[39m=\u001b[39m pickle\u001b[39m.\u001b[39mload(fp)\n\u001b[0;32m    172\u001b[0m         \u001b[39mif\u001b[39;00m expand \u001b[39mand\u001b[39;00m sample_lib \u001b[39mis\u001b[39;00m \u001b[39mnot\u001b[39;00m \u001b[39mNone\u001b[39;00m:\n",
      "\u001b[1;31mFileNotFoundError\u001b[0m: [Errno 2] No such file or directory: './experiments/tiny_aam/300_1_3000_0.05_5_10_1_20_0.9954_15_20_1sec_repeat/0/0001.pkl'"
     ]
    }
   ],
   "source": [
    "pop = Population.from_file(\"./experiments/tiny_aam/300_1_3000_0.05_5_10_1_20_0.9954_15_20_1sec_repeat/0/0001.pkl\", expand=True, sample_lib=sample_lib)\n",
    "annotations = parse_arff(\"./audio/tiny_aam/annotations/0001_onsets.arff\")\n",
    "target_mix, target_sr = librosa.load(\"./audio/tiny_aam/audio-mixes-mp3/0001_mix.mp3\")\n",
    "onsets = [int(round(float(onset_time) * target_sr)) for onset_time in annotations.keys()]\n",
    "target = Target(target_mix, onsets)"
   ]
  },
  {
   "cell_type": "code",
   "execution_count": 11,
   "metadata": {},
   "outputs": [],
   "source": [
    "def get_sample_retry(instrument, pitch):\n",
    "    sample = None\n",
    "    while sample is None:\n",
    "        try:\n",
    "            sample = sample_lib.get_sample(\n",
    "                instrument=instrument, \n",
    "                style=sample_lib.get_random_style_for_instrument(instrument), \n",
    "                pitch=pitch\n",
    "            )\n",
    "        except:\n",
    "            continue\n",
    "    return sample\n",
    "\n",
    "def annotation_to_individual(annotation):\n",
    "    samples = []\n",
    "    for tup in annotation:\n",
    "        instrument = tup[0]\n",
    "        pitch = int(tup[1].replace(\"+\", \"\"))\n",
    "        samples.append(get_sample_retry(instrument, pitch))\n",
    "    ind = BaseIndividual()\n",
    "    ind.samples = samples\n",
    "    return ind\n",
    "\n",
    "class class_mode(Enum):\n",
    "    INSTRUMENTS = 0\n",
    "    PITCHES = 1\n",
    "    COMBINED = 2\n",
    "\n",
    "def extract_instruments(individual:BaseIndividual):\n",
    "    seen_instruments = []\n",
    "    for sample in individual.samples:\n",
    "        if sample.instrument not in seen_instruments:\n",
    "            seen_instruments.append(sample.instrument)\n",
    "    return seen_instruments\n",
    "\n",
    "def extract_pitches(individual:BaseIndividual):\n",
    "    seen_pitches = []\n",
    "    for sample in individual.samples:\n",
    "        if sample.pitch not in seen_pitches:\n",
    "            seen_pitches.append(sample.pitch)\n",
    "    return seen_pitches\n",
    "\n",
    "def extract_samples(individual:BaseIndividual):\n",
    "    seen_samples = []\n",
    "    for sample in individual.samples:\n",
    "        if (sample.instrument, sample.pitch) not in seen_samples:\n",
    "            seen_samples.append((sample.instrument, sample.pitch))\n",
    "    return seen_samples\n",
    "\n",
    "def jaccard_error(population:Population, annotations:dict, mode:class_mode):\n",
    "    \"\"\"Iteratively calculates the jaccard error for each onset, then returns the mean.\n",
    "\n",
    "    Parameters\n",
    "    ----------\n",
    "    population : Population\n",
    "        candidate population.\n",
    "    annotations : dict\n",
    "        extracted annotations in style {onset: [(instrument1, pitch1), (instrument2, pitch2), ...]}\n",
    "    mode : class_mode\n",
    "        whether to calculate the error for instrument, pitch or combined approximation\n",
    "\n",
    "    Returns\n",
    "    -------\n",
    "    float\n",
    "        mean jaccard error across all onsets.\n",
    "    \"\"\"\n",
    "    time_onsets = list(annotations.keys())\n",
    "    jaccard_errors_per_onset = []\n",
    "    for i, onset in enumerate(population.archive):\n",
    "        individual = population.archive[onset].individual\n",
    "        time_onset = time_onsets[i]\n",
    "        match mode:\n",
    "            case class_mode.INSTRUMENTS:\n",
    "                extracted_features = extract_instruments(individual)\n",
    "                annotated_features = [annotation[0] for annotation in annotations[time_onset]]\n",
    "            case class_mode.PITCHES:\n",
    "                extracted_features = extract_pitches(individual)\n",
    "                annotated_features = [annotation[1] for annotation in annotations[time_onset]]\n",
    "            case class_mode.COMBINED:\n",
    "                extracted_features = extract_samples(individual)\n",
    "                annotated_features = annotations[time_onset]\n",
    "        intersection = [instrument for instrument in extracted_features if instrument in annotated_features]\n",
    "        union = list(set(extracted_features) | set(annotated_features))\n",
    "        false_positives = set(extracted_features).symmetric_difference(intersection)\n",
    "        false_negatives = set(annotated_features).symmetric_difference(intersection)\n",
    "        jaccard_errors_per_onset.append((len(false_positives) + len(false_negatives)) / len(union))\n",
    "    return jaccard_errors_per_onset"
   ]
  },
  {
   "cell_type": "code",
   "execution_count": null,
   "metadata": {},
   "outputs": [
    {
     "name": "stdout",
     "output_type": "stream",
     "text": [
      "0.9103260869565217\n"
     ]
    }
   ],
   "source": [
    "true_fitnesses = []\n",
    "record_fitnesses = []\n",
    "for i, time in enumerate(list(annotations.keys())[:-1]):\n",
    "    onset = list(pop.archive.keys())[i]\n",
    "    record = pop.archive[onset]\n",
    "    annotation = annotations[time]\n",
    "    annotated_ind = annotation_to_individual(annotation)\n",
    "    true_fitness = (fitness_cached(annotated_ind, target.abs_stft_per_snippet[onset]))\n",
    "    annotated_ind.fitness = true_fitness\n",
    "    true_fitnesses.append(true_fitness)\n",
    "    record_fitnesses.append(record.fitness)\n",
    "distances = np.array(true_fitnesses) - np.array(record_fitnesses)\n",
    "bad_distances = [distance for distance in distances if distance > 0]\n",
    "print(len(bad_distances) / len(distances))"
   ]
  },
  {
   "cell_type": "code",
   "execution_count": null,
   "metadata": {},
   "outputs": [
    {
     "name": "stdout",
     "output_type": "stream",
     "text": [
      "[1.0, 0.8, 0.8, 0.6666666666666666, 0.8, 0.8, 0.8571428571428571, 0.8571428571428571, 1.0, 1.0, 1.0, 0.8571428571428571, 1.0, 1.0, 0.8, 0.8, 0.8571428571428571, 1.0, 0.8, 0.8571428571428571, 0.8571428571428571, 0.8, 0.8333333333333334, 1.0, 0.8333333333333334, 1.0, 0.8, 0.8, 0.8, 0.8, 1.0, 1.0, 1.0, 1.0, 1.0, 0.8571428571428571, 0.8571428571428571, 0.8, 0.8571428571428571, 1.0, 0.8, 0.8, 0.8, 0.8, 1.0, 0.6666666666666666, 0.6666666666666666, 1.0, 0.8333333333333334, 0.8, 0.8, 0.6666666666666666, 0.8, 0.8, 0.8571428571428571, 0.8571428571428571, 1.0, 1.0, 1.0, 1.0, 1.0, 1.0, 0.8, 0.8, 0.8571428571428571, 1.0, 0.8, 1.0, 0.8571428571428571, 0.8, 0.8, 1.0, 0.8333333333333334, 1.0, 0.8, 0.8, 0.8, 0.8, 0.8571428571428571, 1.0, 1.0, 1.0, 1.0, 0.8571428571428571, 0.8571428571428571, 0.8, 0.8571428571428571, 1.0, 0.8, 0.8, 0.8, 0.8, 0.8, 0.6666666666666666, 0.6666666666666666, 1.0, 1.0, 0.8, 0.8, 0.8, 0.8, 0.8, 1.0, 0.8571428571428571, 1.0, 1.0, 1.0, 0.8571428571428571, 0.8333333333333334, 1.0, 0.8, 0.8, 1.0, 1.0, 0.8, 1.0, 0.8571428571428571, 0.8, 0.8, 1.0, 1.0, 0.8571428571428571, 0.8, 0.8, 0.8, 0.8, 0.8571428571428571, 1.0, 1.0, 1.0, 1.0, 0.8571428571428571, 0.8571428571428571, 0.8, 0.8571428571428571, 1.0, 0.8, 0.8, 0.8, 0.8, 0.8, 0.6666666666666666, 0.6666666666666666, 1.0, 0.8333333333333334, 1.0, 0.8, 0.6666666666666666, 0.8, 0.8, 0.8571428571428571, 0.8571428571428571, 1.0, 1.0, 0.8, 0.8571428571428571, 0.8333333333333334, 1.0, 0.8, 0.8, 1.0, 1.0, 0.8, 1.0, 1.0, 0.8, 0.8, 1.0, 0.8, 1.0, 0.8, 1.0, 0.8, 0.8, 1.0, 1.0, 1.0, 1.0, 1.0, 0.8571428571428571, 0.8571428571428571, 0.8, 0.8571428571428571, 1.0, 0.8, 0.8, 0.8, 0.8, 0.8, 0.6666666666666666, 0.6666666666666666, 1.0, 1.0, 0.8, 0.8, 0.8, 0.8, 0.6666666666666666, 0.8571428571428571, 1.0, 1.0, 0.8, 1.0, 0.8571428571428571, 0.8333333333333334, 1.0, 0.8, 0.8, 0.8571428571428571, 1.0, 0.8, 0.8571428571428571, 0.8571428571428571, 0.8, 0.8333333333333334, 1.0, 0.8333333333333334, 1.0, 0.8, 1.0, 0.8, 0.8, 1.0, 1.0, 1.0, 1.0, 1.0, 0.8571428571428571, 0.8571428571428571, 0.8, 0.8571428571428571, 1.0, 0.8, 0.6666666666666666, 0.8, 0.8, 1.0, 0.6666666666666666, 0.6666666666666666, 1.0, 0.75, 0.8333333333333334, 0.8, 0.8333333333333334, 0.8, 0.6666666666666666, 0.8333333333333334, 0.8, 0.8, 0.8, 0.8, 0.8, 1.0, 0.8333333333333334, 0.6666666666666666, 0.8, 0.8, 0.8, 0.8, 0.75, 0.8, 0.75, 0.8, 0.75, 0.75, 0.8, 0.6, 1.0, 0.8, 0.8333333333333334, 0.75, 0.8, 0.75, 1.0, 0.8, 0.8333333333333334, 0.8, 0.8, 0.8333333333333334, 0.8, 0.8333333333333334, 0.8, 0.8, 0.8, 1.0, 0.8333333333333334, 0.75, 0.6666666666666666, 0.75, 0.8, 0.75, 0.8, 0.8, 0.8, 0.8, 0.8333333333333334, 0.8333333333333334, 1.0, 0.75, 0.8333333333333334, 0.8, 0.8, 0.8333333333333334, 0.75, 0.75, 1.0, 0.8, 0.8, 0.8, 0.8, 0.8333333333333334, 0.8, 0.8, 0.8, 0.5, 0.8, 1.0, 0.8, 0.6666666666666666, 0.8, 0.8, 0.8, 0.6, 0.6666666666666666, 0.8, 0.8, 0.8, 0.8, 0.8, 0.8, 0.6, 0.6666666666666666, 0.8, 0.8333333333333334, 0.75, 0.0, 0.8, 0.8, 0.8, 0.8333333333333334, 1.0, 0.8, 0.6, 0.6666666666666666, 0.8333333333333334, 0.8, 0.8, 0.8, 0.6666666666666666, 0.8, 0.8333333333333334, 0.8, 0.8, 0.8, 0.6, 1.0, 0.8, 0.8333333333333334, 0.8, 0.8, 0.8, 0.75, 0.75, 0.6666666666666666, 0.6666666666666666, 0.6666666666666666, 0.6666666666666666, 0.6666666666666666, 1.0]\n"
     ]
    }
   ],
   "source": [
    "instrument_errors = jaccard_error(pop, annotations, class_mode.INSTRUMENTS)\n",
    "pitch_errors = jaccard_error(pop, annotations, class_mode.PITCHES)\n",
    "combined_errors = jaccard_error(pop, annotations, class_mode.COMBINED)\n",
    "print(instrument_errors)"
   ]
  },
  {
   "cell_type": "code",
   "execution_count": null,
   "metadata": {},
   "outputs": [
    {
     "data": {
      "text/plain": [
       "(0.0, 2.0)"
      ]
     },
     "execution_count": 8,
     "metadata": {},
     "output_type": "execute_result"
    },
    {
     "data": {
      "image/png": "[encoded data removed]",
      "text/plain": [
       "<Figure size 640x480 with 1 Axes>"
      ]
     },
     "metadata": {},
     "output_type": "display_data"
    }
   ],
   "source": [
    "import matplotlib.pyplot as plt\n",
    "plt.plot(true_fitnesses[:50])\n",
    "plt.plot(instrument_errors[:50])\n",
    "plt.ylim((0, 2))"
   ]
  },
  {
   "attachments": {},
   "cell_type": "markdown",
   "metadata": {},
   "source": [
    "## Investigating other Fitness Function"
   ]
  },
  {
   "cell_type": "code",
   "execution_count": null,
   "metadata": {},
   "outputs": [
    {
     "data": {
      "text/plain": [
       "(13,)"
      ]
     },
     "execution_count": 9,
     "metadata": {},
     "output_type": "execute_result"
    }
   ],
   "source": [
    "ind = annotation_to_individual(annotations[list(annotations.keys())[0]])\n",
    "mix = ind.to_mixdown()\n",
    "mfcc = librosa.feature.mfcc(y=mix, n_mfcc=13)\n",
    "mfcc_avg = np.mean(mfcc, axis=1)\n",
    "mfcc_avg.shape"
   ]
  },
  {
   "cell_type": "code",
   "execution_count": null,
   "metadata": {},
   "outputs": [],
   "source": [
    "def beta_divergence(beta, x, y):\n",
    "    def d(beta, x, y):\n",
    "        if beta == 0:\n",
    "            return x / y - np.log(x/y) - 1\n",
    "        elif beta == 1:\n",
    "            return x * np.log(x/y) + (y - x)\n",
    "        else:\n",
    "            return (1 / (beta * (beta - 1))) * (x**beta + (beta - 1) * y**beta - beta * x * y**(beta - 1))\n",
    "    inner_sum = [d(beta, x[i], y[i]) for i in range(len(x))]\n",
    "    return np.sum(inner_sum)\n",
    "\n",
    "def mfcc_fitness(x, y):\n",
    "    mfcc_x = librosa.feature.mfcc(y=x, n_mfcc=13)\n",
    "    mfcc_y = librosa.feature.mfcc(y=y, n_mfcc=13)\n",
    "    return beta_divergence(2, np.mean(mfcc_x, axis=1), np.mean(mfcc_y, axis=1))"
   ]
  },
  {
   "cell_type": "code",
   "execution_count": null,
   "metadata": {},
   "outputs": [
    {
     "name": "stdout",
     "output_type": "stream",
     "text": [
      "0.5978260869565217\n"
     ]
    }
   ],
   "source": [
    "# Repeat above calculations with mfcc\n",
    "true_fitnesses_mfcc = []\n",
    "record_fitnesses_mfcc = []\n",
    "for i, time in enumerate(list(annotations.keys())[:-1]):\n",
    "    onset = list(pop.archive.keys())[i]\n",
    "    record = pop.archive[onset]\n",
    "    annotation = annotations[time]\n",
    "    annotated_ind = annotation_to_individual(annotation)\n",
    "    true_fitness_mfcc = (mfcc_fitness(annotated_ind.to_mixdown(), target.y[onset:onsets[i+1]]))\n",
    "    annotated_ind.fitness = true_fitness_mfcc\n",
    "    true_fitnesses_mfcc.append(true_fitness_mfcc)\n",
    "    record_fitnesses_mfcc.append(mfcc_fitness(record.individual.to_mixdown(), target.y[onset:onsets[i+1]]))\n",
    "distances_mfcc = np.array(true_fitnesses_mfcc) - np.array(record_fitnesses_mfcc)\n",
    "bad_distances_mfcc = [distance for distance in distances_mfcc if distance > 0]\n",
    "print(len(bad_distances_mfcc) / len(distances_mfcc))"
   ]
  },
  {
   "cell_type": "code",
   "execution_count": null,
   "metadata": {},
   "outputs": [
    {
     "name": "stdout",
     "output_type": "stream",
     "text": [
      "[nan, nan, nan, nan, nan, nan, nan, nan, nan, nan, nan, nan, nan, nan, nan, nan, nan, nan, nan, nan, nan, nan, nan, nan, nan, nan, nan, nan, nan, nan, nan, nan, nan, nan, nan, nan, nan, nan, nan, nan, nan, nan, nan, nan, nan, nan, nan, nan, nan, nan, nan, nan, nan, nan, nan, nan, nan, nan, nan, nan, nan, nan, nan, nan, nan, nan, nan, nan, nan, nan, nan, nan, nan, nan, nan, nan, nan, nan, nan, nan, nan, nan, nan, nan, nan, nan, nan, nan, nan, nan, nan, nan, nan, nan, nan, nan, nan, nan, nan, nan, nan, nan, nan, nan, nan, nan, nan, nan, nan, nan, nan, nan, nan, nan, nan, nan, nan, nan, nan, nan, nan, nan, nan, nan, nan, nan, nan, nan, nan, nan, nan, nan, nan, nan, nan, nan, nan, nan, nan, nan, nan, nan, nan, nan, nan, nan, nan, nan, nan, nan, nan, nan, nan, nan, nan, nan, nan, nan, nan, nan, nan, nan, nan, nan, nan, nan, nan, nan, nan, nan, nan, nan, nan, nan, nan, nan, nan, nan, nan, nan, nan, nan, nan, nan, nan, nan, nan, nan, nan, nan, nan, nan, nan, nan, nan, nan, nan, nan, nan, nan, nan, nan, nan, nan, nan, nan, nan, nan, nan, nan, nan, nan, nan, nan, nan, nan, nan, nan, nan, nan, nan, nan, nan, nan, nan, nan, nan, nan, nan, nan, nan, nan, nan, nan, nan, nan, nan, nan, nan, nan, nan, nan, nan, nan, nan, nan, nan, nan, nan, nan, nan, nan, nan, nan, nan, nan, nan, nan, nan, nan, nan, nan, nan, nan, nan, nan, nan, nan, nan, nan, 15.938071250915527, nan, nan, nan, nan, nan, nan, nan, nan, nan, nan, nan, nan, nan, nan, nan, nan, nan, nan, nan, nan, nan, nan, nan, nan, nan, nan, nan, 52.20216608047485, nan, nan, nan, nan, nan, nan, nan, nan, nan, nan, nan, nan, nan, nan, nan, nan, nan, nan, nan, nan, nan, nan, nan, nan, nan, nan, nan, nan, nan, nan, nan, nan, 11.718480944633484, nan, nan, nan, nan, nan, nan, nan, nan, 284.87858521938324, nan, nan, nan, nan, nan, nan, nan, nan, nan, nan, nan, nan, nan, nan, nan, nan, nan, nan, nan, nan, nan, nan, nan, nan, nan, nan, nan]\n"
     ]
    }
   ],
   "source": [
    "print(record_fitnesses_mfcc)"
   ]
  },
  {
   "cell_type": "code",
   "execution_count": null,
   "metadata": {},
   "outputs": [
    {
     "name": "stdout",
     "output_type": "stream",
     "text": [
      "[19445.350924191473, 22677.92713126676, 23736.281517677944, 28020.640296903723, 22782.55000845725, 17195.002139858945, 18838.262745382282, 24014.684040358705, 15296.09057401706, 24492.816744364733, 23270.59022112797, 19089.20728576622, 24520.528280633684, 17201.34609778133, 22076.99813059029, 18664.712941135404, 19960.907701853917, 21143.19658368018, 17602.99274030281, 31318.06063439956, 17783.13848927814, 21662.54540834237, 21350.13553911737, 18816.700666211942, 28187.791681080496, 15128.034190569271, 29555.607896113554, 13701.054041845691, 22264.142725811977, 17493.02189980393, 13362.230273890815, 18727.830387327223, 18778.36377384367, 18658.20630056839, 19527.191900464775, 19631.51321310322, 16245.245193291541, 15639.834306776118, 22579.963520666086, 16262.631417602526, 20724.70345372952, 18222.381564042407, 14215.494381248946, 13136.121667134948, 25815.50915136025, 17876.156378165266, 11277.008897260472, 21717.919948008042, 20994.52010823911, 22090.982148596657, 27139.026667792354, 22474.350220125954, 30546.924766214026, 25653.33789135125, 17173.7895502917, 19056.776246895293, 20784.841399751676, 20673.807454246657, 20075.571210234124, 19219.690559929666, 24446.59062643066, 26358.47378896662, 21523.42357473993, 26613.681336925354, 20581.199101650054, 17268.615962823707, 16159.292103990929, 23647.639879133203, 25459.6480210265, 18247.104329658006, 19237.315677037488, 15076.53123077358, 28007.195688222157, 12774.281153626867, 23944.13538989706, 16700.341137236675, 21454.61941409177, 16312.946087035198, 14004.293610405815, 21328.987540778104, 12605.675038770263, 18533.833238185638, 19160.243233915324, 19501.239175008388, 19228.77003576259, 22180.12325243993, 22647.58934319199, 17706.61872823082, 23360.522993216484, 16449.12212143038, 20032.30939285931, 17369.019100668764, 25530.12258862129, 13180.751240533711, 17317.342146831063, 21803.505685443328, 28487.177591091786, 22643.62696614121, 17993.399099652703, 23895.783104794245, 23513.717861841567, 16626.801698313247, 21080.686366932612, 19096.13292760175, 18696.50963539353, 25740.90629221644, 17474.17379197957, 28601.697085196898, 18884.497251469806, 26639.38091511503, 26882.870477481734, 19378.285910133836, 17903.029088099964, 30257.597775169677, 20189.61136264642, 21067.80572465828, 24243.538280975565, 24168.6348105821, 27380.401117897603, 17873.142364441785, 17621.97957136501, 14285.055688660736, 23958.238864458628, 15444.340179005425, 30876.207814870788, 17169.330770949022, 21181.86750650023, 21316.862096333436, 17053.072098590575, 17826.55377041824, 16715.568054087795, 24208.171015755892, 20125.11300299131, 29474.874577069702, 20026.41989549768, 12281.272753431896, 24817.752856113693, 19603.437882469625, 14951.53240708017, 17715.73183598222, 19055.926288677616, 12095.76252415609, 11387.899273493971, 25382.01757875759, 21600.1675137816, 23721.12682145738, 21828.896973184634, 17270.784047221518, 23725.27438338564, 27588.796083910907, 21149.265017466667, 24298.545954016838, 25092.92150834844, 15653.049330640175, 18766.62542761785, 18429.263104519436, 18537.43215637899, 22568.618037023938, 26096.457486806303, 17488.831316806518, 17847.054845860934, 16044.264766109718, 20064.91095881737, 18121.792698674275, 25781.567419120103, 20052.019177815877, 20363.469544109055, 20174.76424420337, 18850.814149329923, 15303.414764708143, 29591.8891949016, 13576.008158428349, 16961.14113692566, 18834.22778427665, 18126.5388870293, 21178.82131456428, 13522.767188728698, 17200.196092558155, 13475.6377023374, 24133.882942062963, 20067.66841410292, 17669.50813818071, 20115.1857889046, 17335.196212217, 28553.707609566893, 19702.208638192187, 18834.66431613054, 17779.961865271584, 22326.25859371704, 17892.553020068586, 11349.81135346172, 21195.161410042318, 29167.939330797664, 21330.48490995546, 20254.998736603327, 20244.426248933127, 24166.749911710325, 16998.419422783387, 20282.240088249007, 18769.331838751397, 17718.860726500854, 22548.762895112595, 17744.87246128676, 22572.5138811579, 17214.08605417545, 22707.532059613935, 20021.294882443093, 19605.37599785938, 28207.285576927003, 19585.777675635953, 19929.40767174445, 23995.20550628409, 19646.807032748107, 21714.04170169786, 20317.88987224894, 22541.799702066062, 19268.8384779841, 14566.300615152302, 30011.620512787507, 26400.172873484957, 31392.446283075587, 24834.848850884424, 13096.446265657145, 18865.122454161425, 15994.035222798026, 18312.052719225114, 17332.74930132641, 20120.224376124203, 18916.701141304868, 19593.030516720668, 16815.806989222834, 18484.39968886052, 32005.098741352864, 19894.076937287402, 13246.777338959244, 23067.692967623905, 22142.845700931826, 17955.043331449706, 11346.977249639544, 25364.30329159116, 4353.676095489756, 14578.670414119526, 13578.773785111265, 13865.951132308588, 21826.42352470319, 8205.698809830215, 7695.47755754199, 11477.702010580439, 11881.634172427037, 9005.234074801405, 19468.15360409061, 18002.842436679497, 6729.674271699097, 17329.517735350102, 14848.396214744384, 9456.754246153583, 10622.322494363845, 11951.683236122586, 16054.169153399529, 8500.137395089585, 10826.648646380183, 6623.678827868275, 14311.971055903017, 20958.13246930619, 14654.158981211389, 11277.899794494846, 11931.900961543486, 12623.646689165615, 11557.794868034087, 12406.80411737752, 13894.585765732749, 12979.602713058483, 11935.599665778389, 15959.060386987641, 13233.020407766671, 6360.321969460567, 17906.94494219576, 12624.77139848554, 13972.10576817789, 11960.136335669427, 16817.27553102044, 11454.971500777398, 17945.467657994628, 7780.776689477685, 11796.79926553278, 13733.07420017957, 11935.248243396032, 17430.69982455608, 13256.471158476168, 14625.735950011682, 17794.493660547363, 15899.848544231747, 12118.746329389929, 8059.701415981564, 17351.970123229847, 28824.75585751962, 12506.341030883157, 14316.109501841094, 15934.758135166912, 22777.212876381753, 11663.842341614294, 9503.157614538382, 17365.390411609344, 29603.505127414042, 8161.356059932197, 20100.06678728478, 15846.870373662565, 11592.41945520794, 14375.219326737835, 8751.31701527572, 18000.58039033438, 13318.625774098422, 21888.948773612745, 17296.39861425649, 14030.847511408525, 6146.4865800908765, 8046.388586337224, 16767.74093589334, 4431.7313962655635, 12506.041559026527, 10253.305452989098, 14636.669166512094, 13031.172932021593, 10254.968216887532, 5557.050680775539, 9149.519436712986, 17295.301306400375, 12091.713247044343, 11649.693925640386, 18991.563960081054, 6908.927263835999, 9853.642199888445, 9229.321752375425, 20788.373586684873, 10779.221588628337, 7669.933271943653, 12821.897956129853, 10463.909570240003, 7247.571882477721, 19796.79971832494, 10061.89533346492, 10913.768975200743, 14650.372758612397, 5885.663298464126, 11120.815249559239, 14418.090443812158, 14874.574340835325, 15018.656434229466, 10287.326567433409, 13259.954882290613, 8811.165876797748, 12344.93578669599, 16086.43452041818, 7224.89607716711, 17221.823136905543, 24419.501033133187, 10371.394125827675, 16111.42942113067, 14466.999275939532, 15466.585955582043, 10213.281524632794, 10067.154841302123, 19825.377504770873, 15634.734397308757, 5554.8362617317625, 9135.398618179588, 13324.952249222344, 10351.195907894114]\n"
     ]
    }
   ],
   "source": [
    "print(true_fitnesses_mfcc)"
   ]
  },
  {
   "attachments": {},
   "cell_type": "markdown",
   "metadata": {},
   "source": [
    "## Investigating Attacks / Holds"
   ]
  },
  {
   "cell_type": "code",
   "execution_count": 24,
   "metadata": {},
   "outputs": [],
   "source": [
    "from evoaudio.base_sample import BaseSample\n",
    "class ModdedIndividual(BaseIndividual):\n",
    "    def __init__(self, phi:float = 0.1, hold_delay:int = 22050):\n",
    "        super().__init__(phi)\n",
    "        self.holds = [False for _ in self.samples] # Bool, if True makes the note a hold\n",
    "        self.hold_delay = hold_delay\n",
    "    def add_sample(self, sample:BaseSample, hold:bool):\n",
    "        self.samples.append(sample)\n",
    "        self.holds.append(hold)\n",
    "    def to_mixdown(self) -> np.ndarray:\n",
    "        ys_holding = []\n",
    "        for i in range(len(self.samples)):\n",
    "            if self.holds[i]:\n",
    "                ys_holding.append(self.samples[i].y[self.hold_delay:])\n",
    "            else:\n",
    "                ys_holding.append(self.samples[i].y)\n",
    "        # Resize by expanding all samples to the same length\n",
    "        max_length = np.max([len(y) for y in ys_holding])\n",
    "        ys_equal_length = [np.pad(y, (0, max_length - len(y))) for y in ys_holding]\n",
    "        return np.sum(ys_equal_length, axis=0)\n",
    "\n",
    "def annotation_to_modded_individual(annotation, hold_delay):\n",
    "    ind = ModdedIndividual(hold_delay=hold_delay)\n",
    "    for tup in annotation:\n",
    "        instrument = tup[0]\n",
    "        hold = not \"+\" in tup[1]\n",
    "        pitch = int(tup[1].replace(\"+\", \"\"))\n",
    "        ind.add_sample(get_sample_retry(instrument, pitch), hold)\n",
    "    return ind"
   ]
  },
  {
   "cell_type": "code",
   "execution_count": 21,
   "metadata": {},
   "outputs": [
    {
     "name": "stdout",
     "output_type": "stream",
     "text": [
      "[1.1579446932164634, 1.2798497046493902, 1.6429115853658536, 1.4794818264100609, 1.313826219512195, 1.1927761766387195, 1.0674423589939024, 1.1773454173018292, 1.6971493902439025, 1.2951258812881097, 0.982274795160061, 0.9870692406631097, 1.1229820884146342, 1.262115567835366, 1.5623215987042682, 1.4803646627286586, 4.684930449695122, 1.042157607660061, 2.0505411585365856, 1.5751430306783536, 1.6015646436737805, 2.3734708460365854, 2.4295693597560977, 1.257266220464939, 1.5058960556402439, 1.8126991234756098, 1.1098389862804878, 1.8029563643292683, 1.1452352086509145, 1.0790770293445122, 1.612483565167683, 1.280676924542683, 0.7851395174352134, 1.8983353182164635, 0.8008225157202744, 1.7393017578125, 2.422371855945122, 1.2053806211890243, 1.0470301781631097, 1.1362373761432927, 2.0796936928353658, 1.1342961604420732, 2.5249826124237806, 1.4164693692835366, 0.9284169564596036, 0.9322453791920732, 0.7955238900533537, 0.846989805640244, 3.703465129573171, 1.7531266673018293, 1.2266518197408536, 3.342356612042683, 1.1848653058307927, 1.5905862947789635, 1.2412790586890243, 1.0614229230182928, 2.775856993140244, 1.4454731564405487, 1.342015887004573, 1.337287061737805, 1.2178791920731706, 1.2302032917301828, 1.852559903772866, 1.2278188119283537, 1.1111500809832318, 1.1410916063262195, 1.634646055640244, 3.2242918730945123, 1.148579220655488, 1.8443672589557927, 1.859231016577744, 2.621398866234756, 1.4357558831935975, 2.045092177972561, 1.6160186023246952, 1.0238351514862805, 0.9676592868711891, 1.1093699980945122, 1.7401643483231708, 1.681998856707317, 2.006512957317073, 1.1750419207317073, 0.8800650247713414, 1.3615146246189025, 2.1366001333841464, 1.4133406774009147, 1.1122275152439025, 1.0644762290396341, 1.7330666444359757, 1.7835505192454268, 1.1855079315929877, 1.6456085651676828, 0.9382764862804878, 4.118191692073171, 0.7402462247522866, 0.8659754906631097, 1.288165253429878, 1.3785573075457318, 1.576026581554878, 2.002206554878049, 1.4980201981707317, 1.2198531583460366, 1.1394952839176828, 1.5590279630335366, 2.6564298304115854, 1.2157802972560976, 1.0554944740853658, 3.425747665777439, 1.877719131097561, 1.9657907774390244, 1.4851639910442074, 3.619619855182927, 1.8648723323170733, 1.2369767054115854, 3.615589033917683, 2.9887288014481705, 1.48296875, 1.8604108708079268, 1.6855365139100609, 2.7973463700457315, 1.9740029535060977, 1.6977567644817073, 1.1643595179115853, 1.4729772056021342, 1.6118093797637194, 1.2745408965320122, 1.5122141768292683, 1.221141268102134, 1.3414179211128048, 1.1523452982088416, 1.5791200219131099, 1.8952860613567073, 1.1694865901295732, 1.6190585699314024, 1.2995250571646342, 1.2961678258384146, 1.263283036394817, 1.4635813643292683, 1.0407823218368903, 1.2008761671112804, 1.2122988519435975, 0.8359176114710366, 2.8435489710365855, 2.977469512195122, 1.7759785870807927, 1.5453279820884147, 1.938729277820122, 3.5148304115853657, 1.2755714081554879, 2.155682402820122, 1.0474795160060975, 1.151770555449695, 2.8607536204268293, 1.129188857660061, 0.764419600323933, 2.3285475419207318, 1.6276329077743903, 1.330774580792683, 1.8255795064786586, 3.3592544778963416, 1.6673795969893292, 2.896021817835366, 2.204021532012195, 3.345670255335366, 1.7945712652439025, 2.144996903582317, 1.5666552734375, 1.1261423399390245, 3.481957412347561, 2.918801448170732, 1.2753022580030489, 2.251164491234756, 1.6229470750762196, 1.1533461556783537, 2.6852967797256095, 2.4067592416158536, 5.652885861280488, 1.2804477896341464, 0.6107829768483232, 1.3380514005335367, 0.7164754430259146, 1.28166015625, 0.9616781392911585, 1.2294948075457317, 2.1061366234756096, 1.430964891387195, 1.3913144293064024, 1.2132014576981707, 1.0322631240472562, 0.8331336937881098, 0.7316945741234756, 2.985288681402439, 1.3088135956554878, 1.0605380621189024, 1.4834939500762194, 1.8012059355945123, 1.5999641530106707, 2.312966368140244, 2.0935368235518292, 4.9207755335365855, 1.4928676400533536, 1.1776784012957318, 0.941577743902439, 1.2039006526295732, 3.1534170160060975, 1.2436068502286586, 2.114524580792683, 1.2616845703125, 4.464828982469512, 2.080308212652439, 2.7855995141006096, 1.7983891482469512, 2.104987137957317, 2.1976064691310975, 1.5710044302591464, 1.1866496760670733, 2.556056354801829, 1.7557976848323171, 0.9903639481707317, 1.157210127667683, 0.9762445812690549, 0.9927572408536586, 1.5043002096036586, 1.5479218273628048, 0.7180051924542683, 1.11564453125, 0.9553383431783536, 1.2291020388719511, 1.3285355135289634, 2.0775786013719513, 1.0842356612042683, 2.039612471417683, 2.1918021150914635, 1.1742016006097562, 0.8842172613376524, 3.1080471131859757, 0.8643199790396342, 0.8742141649199695, 0.7300958698551829, 0.8188002572408537, 5.9896875, 5.457281821646341, 2.0501548208841465, 9.589009146341464, 5.186225705030488, 8.046041349085366, 2.8768630907012196, 4.755294397865853, 5.151813548018293, 3.547964462652439, 2.078228134527439, 4.02665634527439, 7.289228277439024, 3.6466463414634145, 2.6054153963414635, 10.167524771341464, 3.2377419969512196, 8.1909375, 2.1148220750762197, 6.31628525152439, 5.201129477896341, 4.988832412347561, 1.7607775581173781, 8.694255907012195, 4.634325457317074, 4.953856230945122, 2.1457448075457317, 6.20323408917683, 3.8500876524390244, 3.8614319740853658, 2.8843850038109755, 6.393205030487805, 5.10656631097561, 5.046107088414634, 2.3420626905487807, 10.444241615853658, 4.0724037728658535, 4.494811356707317, 2.983701886432927, 4.596758765243902, 4.034457412347561, 4.9140701219512195, 2.652721036585366, 5.2992511432926825, 10.051774961890244, 3.412224180640244, 1.8884439310213414, 13.481065167682926, 3.5822942073170734, 2.9034220179115855, 1.8868521341463416, 5.043357469512195, 8.905875571646341, 3.816052305640244, 1.6466432450457318, 7.115303925304878, 3.894742520960366, 3.5418845274390245, 4.092522865853659, 8.25226943597561, 5.408348418445122, 4.481616330030488, 1.5812064119664635, 5.327742949695122, 5.6629697027439025, 3.3850864615091463, 2.302171541539634, 5.327689119664634, 6.299633193597561, 4.594324028201219, 2.247754382621951, 5.563952458079268, 6.2704697027439025, 4.54116806402439, 1.5668065215320122, 4.133413681402439, 4.587521913109756, 8.573353658536586, 1.7752778439405488, 3.9580721227134146, 5.105816025152439, 6.399756573932927, 2.727098418445122, 8.685005716463415, 8.041080411585366, 2.904702743902439, 2.622820598323171, 4.0523875762195125, 4.362052210365854, 8.887646722560975, 1.8040501143292682, 8.620678353658537, 8.996638719512195, 3.4965615472560976, 1.7286952172256098, 13.439200647865853, 5.045953696646341, 4.0811199504573175, 2.7559622713414633, 6.596366234756098, 7.04128525152439, 5.933548971036585, 2.2187166539634147, 7.818527057926829, 5.752168445121951, 3.2173813833841463, 1.74068359375, 6.529153010670732, 4.4811494855182925, 4.935143864329269, 1.8270706697789634, 5.1544140625, 3.8457412347560975, 4.586623475609756, 2.327196074695122, 4.557037442835366, 3.52779677972561, 3.92173828125, 2.6227939214939022, 8.90227324695122, 4.004273056402439, 5.7621417682926825, 3.199366425304878, 4.063179306402439, 9.81834794207317, 4.340757431402439, 2.435178639481707, 8.285439214939025]\n"
     ]
    }
   ],
   "source": [
    "annotations = parse_arff(\"./audio/tiny_aam/annotations/0001_onsets.arff\")\n",
    "target_mix, target_sr = librosa.load(\"./audio/tiny_aam/audio-mixes-mp3/0001_mix.mp3\")\n",
    "onsets = [int(round(float(onset_time) * target_sr)) for onset_time in annotations.keys()]\n",
    "target = Target(target_mix, onsets)\n",
    "\n",
    "true_fitnesses_holds = []\n",
    "for i, time in enumerate(list(annotations.keys())[:-1]):\n",
    "    annotation = annotations[time]\n",
    "    annotated_ind = annotation_to_modded_individual(annotation)\n",
    "    true_fitness = (fitness_cached(annotated_ind, target.abs_stft_per_snippet[target.onsets[i]]))\n",
    "    annotated_ind.fitness = true_fitness\n",
    "    true_fitnesses_holds.append(true_fitness)\n",
    "print(true_fitnesses_holds)"
   ]
  },
  {
   "cell_type": "code",
   "execution_count": 19,
   "metadata": {},
   "outputs": [
    {
     "name": "stdout",
     "output_type": "stream",
     "text": [
      "[0.7837099847560975, 1.7481142816310975, 3.638292206554878, 1.2091658727134147, 2.4951488662347563, 1.103178115472561, 1.525942978277439, 1.155810546875, 1.9879789919969513, 1.1702394959984757, 0.8523077839176829, 2.09671875, 0.9915648223132622, 3.849332364710366, 1.3241041825457318, 1.8373788824314023, 1.573189072027439, 1.3648863852896342, 1.8648219559832317, 3.7698113567073173, 1.0622041730182927, 2.470805544969512, 1.751626572027439, 1.1885600466844513, 1.4364646055640244, 1.4793739281631098, 1.629608779535061, 1.6768228372713414, 1.395151486280488, 1.350662276105183, 1.7935020483993902, 5.330717416158537, 0.8083249571265244, 1.0865815548780489, 0.7311672303734756, 6.158089272103658, 1.850612137957317, 1.9909932355182927, 1.059764434070122, 1.0775465653582317, 2.672979706554878, 14.872253239329268, 1.1099561737804877, 1.1572825362042682, 1.5691031107088416, 4.128235518292683, 0.9771140791730183, 7.935982278963414, 2.437122237042683, 2.236018483231707, 2.0078227419969514, 1.5437990663109755, 1.7124728467987804, 3.5069050114329268, 1.1005642625762195, 2.9500497808689023, 3.361995045731707, 1.4333936737804878, 1.1731141625381099, 1.7009034394054878, 1.029348204077744, 1.5194304973323172, 1.3426388624237804, 1.5962803687118903, 1.1111500809832318, 1.7750539491234756, 1.9464305449695123, 1.6375507336128048, 1.9845141006097562, 1.927432831554878, 1.8220929401676829, 1.1962602419969512, 1.2397262052210365, 1.585458388910061, 1.0281185689786585, 1.382214415015244, 1.0688789777057928, 2.4125700266768293, 1.7277229420731708, 34.96821265243902, 0.8702153201219512, 1.1291622999237805, 1.6144274009146342, 0.9482499880907013, 1.6894755144817073, 1.3280373475609757, 1.1638393197408536, 1.4264304258765244, 2.292116282393293, 1.1827322313262194, 4.865051924542683, 1.0132636242378048, 1.0761432926829269, 4.137283727134147, 12.824178734756098, 1.1799375952743902, 1.011222489519817, 1.4604592225609756, 2.233645198170732, 3.3042001714939024, 1.8718259336890244, 1.2996512957317072, 1.5289243521341462, 2.9821236661585364, 1.3002255621189025, 0.9875456126143293, 1.9493686880716463, 1.4152336604420732, 1.315703244092988, 2.1483243616615852, 3.789315215320122, 1.5698991282393293, 3.1604692263719514, 2.4159029630335365, 6.3410546875, 3.2811051829268294, 0.642969940929878, 1.663223251714939, 1.382045302972561, 1.0254057498094513, 2.929029630335366, 2.9796713033536584, 1.9181434594131097, 2.5965927496189023, 3.3145674542682926, 1.2784622713414635, 2.057577410442073, 2.112657440929878, 0.6857786299542683, 1.2672797970655487, 0.7799819574123475, 1.014976181402439, 1.9603384622713416, 1.1745572122713415, 1.2195216034679879, 1.4496817835365854, 1.911224990472561, 2.828563262195122, 3.173154535060976, 2.330520674542683, 1.5915115282012195, 1.2451023008765243, 13.14462080792683, 1.0785787442835366, 1.5184732278963415, 2.0719181116615855, 2.353094988567073, 3.2645445884146342, 1.334398818597561, 1.3073800733612806, 1.5038249094893292, 2.0359263052591463, 1.940776248094512, 0.9157168206935976, 0.8036586556783537, 1.3584634622713414, 3.9813455125762194, 1.2527608136432926, 1.6496462938262195, 1.1579292111280488, 2.726878572789634, 4.247006478658537, 2.7426872141768293, 3.6880721227134146, 2.8759860899390244, 4.415831745426829, 2.394172303734756, 1.1458482993521342, 1.7505973704268292, 1.426506883574695, 1.4972496665396342, 1.1928830030487805, 1.123347703887195, 1.3672232278963414, 1.695179354039634, 1.4487423780487805, 1.501624071074695, 2.6999244950457317, 0.7164380478277439, 0.9734354754192073, 1.2716455078125, 1.6530080506859757, 1.6715920350609756, 2.028372237042683, 4.765154820884146, 1.4191039443597562, 0.9757835127667683, 0.9580978467987805, 1.2053325076219512, 4.156463891006098, 0.9801342177972561, 1.1768788109756096, 3.006591558689024, 1.6717937785823171, 4.549813262195122, 2.0170614996189022, 1.9006223799542683, 1.0994444312118903, 2.4935075266768294, 2.9884341653963413, 1.678532059832317, 1.3345221989329268, 2.0745498285060977, 0.8655387171303354, 1.0704518387957318, 1.755808165015244, 1.7326848323170732, 2.041985518292683, 3.968880049542683, 3.3443311737804877, 2.2187859660823173, 2.1744721798780486, 1.6570076695884146, 4.259159679878048, 2.187421398628049, 1.3201729230182926, 2.0709632240853657, 1.6401955506859756, 1.2857212271341463, 2.3178303639481705, 0.9351022413300305, 1.4475028582317073, 1.209498975800305, 1.5702574790396342, 0.9756235708841463, 2.4677612900152437, 0.7640586890243902, 1.459559832317073, 0.8359611995045731, 2.3376126619664634, 1.7879401676829267, 1.5493748809070123, 1.9374911871189024, 1.1763114519817073, 1.0162037919207316, 1.0278990806021342, 1.007134384527439, 0.922064834222561, 0.9758989138719513, 0.9968231350038109, 7.682256097560976, 5.312733898628049, 2.0863676638719513, 9.430700266768293, 5.887249428353659, 4.902317073170732, 2.244873285060976, 4.875051448170732, 7.1646532012195125, 5.5764100609756095, 2.555504716082317, 6.772455697408536, 8.209295922256098, 4.524205887957317, 4.584405964176829, 5.0100390625, 3.014495283917683, 6.143519912347561, 2.3535908917682926, 4.833619474085366, 6.948130716463415, 7.145239138719512, 2.0004720846036586, 9.877150342987806, 3.899365234375, 5.024407393292683, 2.833286966463415, 6.766930735518293, 3.9938064500762196, 7.706373380335366, 3.1989805640243905, 6.0001686356707316, 5.821212366615853, 5.271928353658536, 1.5724714176829269, 12.672417111280488, 4.990776962652439, 8.215162919207318, 2.867973037347561, 5.991815929878049, 6.214212080792683, 4.604243521341464, 2.877073408917683, 5.954119664634146, 11.2409375, 7.088040205792683, 2.810872237042683, 9.070952743902438, 4.838911966463415, 6.562118902439025, 3.344956650152439, 4.504294493140244, 5.44658203125, 6.153284108231707, 2.2564779439786586, 5.053133574695122, 4.953328887195122, 3.7533603277439025, 3.2020255335365855, 7.368691882621952, 7.547053163109756, 6.151318121189024, 2.2656640625, 4.173127381859756, 5.674706554878049, 6.704690358231708, 3.739974752286585, 5.993182641006098, 6.434068692835366, 9.378569931402438, 3.7126805449695124, 9.406034679878049, 5.104769912347561, 4.481365282012195, 2.7186290015243904, 7.721839272103659, 6.6161032774390245, 5.447659584603659, 2.971919064405488, 5.035559260670731, 6.032204649390244, 4.367766291920732, 1.6136440072408536, 6.015807926829268, 8.225, 6.512655297256098, 2.030931307164634, 4.027983041158537, 5.527506669207317, 4.535366806402439, 1.3991857612423781, 4.910819836128049, 6.633832412347561, 4.723019245426829, 2.623057831554878, 18.098208841463414, 4.271623475609756, 5.860278677591463, 2.2505895102896343, 4.889868521341463, 6.699086318597561, 5.620538776676829, 3.379977372332317, 7.10362900152439, 5.243219321646341, 8.584912347560975, 3.0357705316310977, 4.778388433689025, 8.406006097560976, 5.137009336890244, 3.432222275152439, 4.207848704268293, 2.8903439405487803, 5.328972942073171, 2.2652248475609755, 7.817437595274391, 6.457799637957317, 3.8123868616615852, 2.2382998285060975, 8.826721608231708, 6.727022675304878, 11.453974847560975, 1.8536315024771342, 5.73026962652439, 9.009384527439025, 10.809458841463414, 2.9627936833079267, 5.047114138719512]\n"
     ]
    }
   ],
   "source": [
    "annotations = parse_arff(\"./audio/tiny_aam/annotations/0001_onsets.arff\")\n",
    "target_mix, target_sr = librosa.load(\"./audio/tiny_aam/audio-mixes-mp3/0001_mix.mp3\")\n",
    "onsets = [int(round(float(onset_time) * target_sr)) for onset_time in annotations.keys()]\n",
    "target = Target(target_mix, onsets)\n",
    "\n",
    "true_fitnesses = []\n",
    "for i, time in enumerate(list(annotations.keys())[:-1]):\n",
    "    annotation = annotations[time]\n",
    "    annotated_ind = annotation_to_individual(annotation)\n",
    "    true_fitness = (fitness_cached(annotated_ind, target.abs_stft_per_snippet[target.onsets[i]]))\n",
    "    annotated_ind.fitness = true_fitness\n",
    "    true_fitnesses.append(true_fitness)\n",
    "print(true_fitnesses)"
   ]
  },
  {
   "cell_type": "code",
   "execution_count": 22,
   "metadata": {},
   "outputs": [
    {
     "data": {
      "text/plain": [
       "(3.314770325774985, 2.7947297453248234)"
      ]
     },
     "execution_count": 22,
     "metadata": {},
     "output_type": "execute_result"
    }
   ],
   "source": [
    "np.mean(true_fitnesses), np.mean(true_fitnesses_holds)"
   ]
  },
  {
   "attachments": {},
   "cell_type": "markdown",
   "metadata": {},
   "source": [
    "Investigate length of hold-delay"
   ]
  },
  {
   "cell_type": "code",
   "execution_count": 36,
   "metadata": {},
   "outputs": [
    {
     "name": "stdout",
     "output_type": "stream",
     "text": [
      "{22050: 2.914698149275552, 11025: 2.8541209096089406, 5512: 2.7869815445350814, 2756: 2.866718305181218, 0: 3.47862551125843}\n"
     ]
    }
   ],
   "source": [
    "def get_fitnesses(delay:int):\n",
    "    true_fitnesses_holds = []\n",
    "    for i, time in enumerate(list(annotations.keys())[:-1]):\n",
    "        annotation = annotations[time]\n",
    "        annotated_ind = annotation_to_modded_individual(annotation, delay)\n",
    "        true_fitness = (fitness_cached(annotated_ind, target.abs_stft_per_snippet[target.onsets[i]]))\n",
    "        annotated_ind.fitness = true_fitness\n",
    "        true_fitnesses_holds.append(true_fitness)\n",
    "    return true_fitnesses_holds\n",
    "\n",
    "test_delays = [22050, 11025, 5512, 5512//2, 0]\n",
    "results = {}\n",
    "results_full = {}\n",
    "for delay in test_delays:\n",
    "    fitnesses = get_fitnesses(delay)\n",
    "    results[delay] = np.mean(fitnesses)\n",
    "    results_full[delay] = fitnesses\n",
    "print(results)"
   ]
  },
  {
   "cell_type": "code",
   "execution_count": 28,
   "metadata": {},
   "outputs": [
    {
     "data": {
      "text/plain": [
       "0.9821797847754107"
      ]
     },
     "execution_count": 28,
     "metadata": {},
     "output_type": "execute_result"
    }
   ],
   "source": [
    "pop = Population.from_file(\"0001.pkl\", expand=True, sample_lib=sample_lib)\n",
    "pop_fitnesses = [record.fitness for record in pop.archive.values()]\n",
    "np.mean(pop_fitnesses)"
   ]
  },
  {
   "cell_type": "code",
   "execution_count": 37,
   "metadata": {},
   "outputs": [
    {
     "data": {
      "text/plain": [
       "(2.3342710174204564, 1.806482236180553)"
      ]
     },
     "execution_count": 37,
     "metadata": {},
     "output_type": "execute_result"
    }
   ],
   "source": [
    "old_distances = np.array(true_fitnesses) - np.array(pop_fitnesses[:-1])\n",
    "new_distances = np.array(results_full[5512]) - np.array(pop_fitnesses[:-1])\n",
    "np.mean(old_distances), np.mean(new_distances)"
   ]
  },
  {
   "cell_type": "code",
   "execution_count": 38,
   "metadata": {},
   "outputs": [
    {
     "data": {
      "text/plain": [
       "(330, 304)"
      ]
     },
     "execution_count": 38,
     "metadata": {},
     "output_type": "execute_result"
    }
   ],
   "source": [
    "n_worse_old = len([i for i in range(len(true_fitnesses)) if true_fitnesses[i] > pop_fitnesses[i]])\n",
    "n_worse_new = len([i for i in range(len(results_full[5512])) if results_full[5512][i] > pop_fitnesses[i]])\n",
    "n_worse_old, n_worse_new"
   ]
  }
 ],
 "metadata": {
  "kernelspec": {
   "display_name": "ma",
   "language": "python",
   "name": "python3"
  },
  "language_info": {
   "codemirror_mode": {
    "name": "ipython",
    "version": 3
   },
   "file_extension": ".py",
   "mimetype": "text/x-python",
   "name": "python",
   "nbconvert_exporter": "python",
   "pygments_lexer": "ipython3",
   "version": "3.10.9"
  },
  "orig_nbformat": 4,
  "vscode": {
   "interpreter": {
    "hash": "e64d2645d10406c485d9857eaab5d37f8c8efad32a47710fb4de5b20809a4099"
   }
  }
 },
 "nbformat": 4,
 "nbformat_minor": 2
}
