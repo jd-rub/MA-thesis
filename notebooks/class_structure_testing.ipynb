{
 "cells": [
  {
   "attachments": {},
   "cell_type": "markdown",
   "metadata": {},
   "source": [
    "## Initialization"
   ]
  },
  {
   "cell_type": "code",
   "execution_count": 1,
   "metadata": {},
   "outputs": [
    {
     "name": "stdout",
     "output_type": "stream",
     "text": [
      "c:\\Users\\justi\\coding\\Uni\\MA\n"
     ]
    },
    {
     "name": "stderr",
     "output_type": "stream",
     "text": [
      "c:\\Users\\justi\\miniconda3\\envs\\ma\\lib\\site-packages\\tqdm\\auto.py:22: TqdmWarning: IProgress not found. Please update jupyter and ipywidgets. See https://ipywidgets.readthedocs.io/en/stable/user_install.html\n",
      "  from .autonotebook import tqdm as notebook_tqdm\n"
     ]
    }
   ],
   "source": [
    "%cd ..\n",
    "from base_algorithms import *\n",
    "from sample_library import SampleLibrary\n",
    "import numpy as np\n",
    "from tqdm.contrib.concurrent import thread_map\n",
    "from itertools import repeat\n",
    "from population import Population\n",
    "from population_logging import PopulationLogger\n",
    "\n",
    "import librosa"
   ]
  },
  {
   "cell_type": "code",
   "execution_count": 2,
   "metadata": {},
   "outputs": [
    {
     "name": "stderr",
     "output_type": "stream",
     "text": [
      "Loading samples: 100%|██████████| 6478/6478 [00:10<00:00, 644.51it/s] \n"
     ]
    }
   ],
   "source": [
    "sample_lib = SampleLibrary()"
   ]
  },
  {
   "attachments": {},
   "cell_type": "markdown",
   "metadata": {},
   "source": [
    "## 1+1ES for single onset"
   ]
  },
  {
   "cell_type": "code",
   "execution_count": 25,
   "metadata": {},
   "outputs": [
    {
     "name": "stdout",
     "output_type": "stream",
     "text": [
      "Target: (DUNG_DKAR_TRUMPET_KEY, dung_dkar_trumpet, cis4)\n"
     ]
    },
    {
     "name": "stderr",
     "output_type": "stream",
     "text": [
      " 31%|███       | 3081/10000 [00:44<01:39, 69.39it/s, \t\t\t\t\t\t\t\t\t\t\t\t\t\t\t\t\t\t\t\t\t\t\t\t\t\t\t\t\t\t\t\t\t\t\t\t\t\t\t\t\t\t\t\t\t\t\t\t\t\t\t\t\t\t\t\t\t\t\t\t\t\t\t\t\t\t\t\t\t\t\t\t\t\t\t\t\t\t\t\t\t\t\t\t\t\t\t\t\t\t\t\t\t\t\t\t\t\t\t\tBest individual: [Onset: 0 | (DUNG_DKAR_TRUMPET_KEY, dung_dkar_trumpet, d4) | Fitness: inf], Fitness: 0.0] with fitness 0.0]                                                                                    \n"
     ]
    }
   ],
   "source": [
    "#target_y, target_sr = librosa.load(\"./audio/EvoMix-NormalizedSamples/Normalized/Archive/SingleInstrumentSamples/ForMixing/AcousticGuitar/tr111AGAFM/tr111AGAFM01_E2.wav\")\n",
    "#target_stft = librosa.stft(target_y)\n",
    "target_sample = sample_lib.get_random_sample_uniform()\n",
    "print(\"Target: \" + str(target_sample))\n",
    "result = base_algorithm_1plus1_single_onset(target_sample.y, 10000, sample_lib)"
   ]
  },
  {
   "cell_type": "code",
   "execution_count": 11,
   "metadata": {},
   "outputs": [
    {
     "name": "stderr",
     "output_type": "stream",
     "text": [
      " 41%|████      | 4100/10000 [00:39<00:56, 104.16it/s, \t\t\t\t\t\t\t\t\t\t\t\t\t\t\t\t\t\t\t\t\t\t\t\t\t\t\t\t\t\t\t\t\t\t\t\t\t\t\t\t\t\t\t\t\t\t\t\t\t\t\t\t\t\t\t\t\t\t\t\t\t\t\t\t\t\t\t\t\t\t\t\t\t\t\t\t\t\t\t\t\t\t\t\t\t\t\t\t\t\t\t\t\t\t\t\t\t\t\t\tBest individual: (AcousticGuitar, tr112AGRFM, ais3) with fitness 0.0]                                                  \n"
     ]
    }
   ],
   "source": [
    "result = base_algorithm_1plus1_single_onset(target_sample.y, 10000, sample_lib)"
   ]
  },
  {
   "attachments": {},
   "cell_type": "markdown",
   "metadata": {},
   "source": [
    "## 1+1ES for multiple onsets"
   ]
  },
  {
   "cell_type": "code",
   "execution_count": 4,
   "metadata": {},
   "outputs": [
    {
     "data": {
      "text/plain": [
       "'[(Cello, tr171VCNVM, f5), (Flute, tr332FLVIM, dis4), (Piano, tr011PFPEM, d6), (Flute, tr332FLVIM, cis6), (AcousticGuitar, tr113AGRPM, c3), (Trumpet, tr211TRVIM, d5)], [(Piano, tr012PFPM, fis6), (Violin, tr152VNNVM, d5)], [(Viola, tr161VLNVM, c5), (Violin, tr153VNNVM, e5), (AcousticGuitar, tr113AGRPM, dis3), (ElectricGuitar, tr132EGLPM, c5)], [(Viola, tr163VLNVM, ais3), (Piano, tr011PFPEM, ais4), (Flute, tr331FLNOM, g5), (Cello, tr173VCNOM, g2)]'"
      ]
     },
     "execution_count": 4,
     "metadata": {},
     "output_type": "execute_result"
    }
   ],
   "source": [
    "test = BaseIndividual.create_multi_onset_individual(np.array([0, 1, 2, 3, 4, 5, 6, 7, 8, 9]), 0.5, sample_lib)\n",
    "str(test)"
   ]
  },
  {
   "cell_type": "code",
   "execution_count": 3,
   "metadata": {},
   "outputs": [
    {
     "name": "stderr",
     "output_type": "stream",
     "text": [
      "100%|██████████| 1000/1000 [00:26<00:00, 37.96it/s, \t\t\t\t\t\t\t\t\t\t\t\t\t\t\t\t\t\t\t\t\t\t\t\t\t\t\t\t\t\t\t\t\t\t\t\t\t\t\t\t\t\t\t\t\t\t\t\t\t\t\t\t\t\t\t\t\t\t\t\t\t\t\t\t\t\t\t\t\t\t\t\t\t\t\t\t\t\t\t\t\t\t\t\t\t\t\t\t\t\t\t\t\t\t\t\t\t\t\t\tBest individual: [(AcousticGuitar, tr112AGRFM, a3)], [(AcousticGuitar, tr112AGAFM, c5), (AcousticGuitar, tr111AGRFM, dis3)], [(Flute, tr332FLVIM, e6), (AcousticGuitar, tr112AGRFM, b3)] with fitness 2.161323678861789]                           \n"
     ]
    },
    {
     "data": {
      "text/plain": [
       "<individual.BaseIndividual at 0x1e0227ebf10>"
      ]
     },
     "execution_count": 3,
     "metadata": {},
     "output_type": "execute_result"
    }
   ],
   "source": [
    "raw_y, _ = librosa.load(\"./audio/EvoMix-NormalizedSamples/Normalized/Archive/SingleInstrumentSamples/ForMixing/AcousticGuitar/tr111AGAFM/tr111AGAFM01_E2.wav\")\n",
    "target_y = np.append(raw_y, raw_y)\n",
    "\n",
    "base_algorithm_1plus1_multi_offset(target_y, 1000, sample_lib, 1)"
   ]
  },
  {
   "cell_type": "code",
   "execution_count": 3,
   "metadata": {},
   "outputs": [
    {
     "name": "stderr",
     "output_type": "stream",
     "text": [
      "c:\\Users\\justi\\miniconda3\\envs\\ma\\lib\\site-packages\\librosa\\core\\spectrum.py:256: UserWarning: n_fft=2048 is too large for input signal of length=509\n",
      "  warnings.warn(\n",
      "100%|██████████| 10000/10000 [12:33<00:00, 13.27it/s, \t\t\t\t\t\t\t\t\t\t\t\t\t\t\t\t\t\t\t\t\t\t\t\t\t\t\t\t\t\t\t\t\t\t\t\t\t\t\t\t\t\t\t\t\t\t\t\t\t\t\t\t\t\t\t\t\t\t\t\t\t\t\t\t\t\t\t\t\t\t\t\t\t\t\t\t\t\t\t\t\t\t\t\t\t\t\t\t\t\t\t\t\t\t\t\t\t\t\t\tBest individual: [(ElectricGuitar, tr132EGVFM, cis4)], [(ElectricGuitar, tr133EGLFM, ais3)], [(Viola, tr162VLNOM, b5)], [(Cello, tr173VCNVM, gis2), (Viola, tr161VLSOM, fis3), (Cello, tr171VCSOM, d3)], [(Cello, tr171VCNVM, d3)], [(ElectricGuitar, tr131EGLFM, gis3)], [(Cello, tr171VCNVM, ais2), (Viola, tr163VLNOM, ais5)], [(Piano, tr012PFPM, f6), (Viola, tr163VLNOM, c4), (Flute, tr331FLVIM, fis4)], [(Viola, tr161VLSOM, b3)], [(Viola, tr162VLNVM, ais3)], [(Cello, tr171VCSOM, ais2)], [(Viola, tr162VLNOM, f4), (Viola, tr162VLNOM, ais3), (Cello, tr171VCSOM, g3)], [(Cello, tr171VCSOM, e2)], [(ElectricGuitar, tr132EGLPM, f3)], [(Viola, tr162VLNVM, c6)], [(Violin, tr151VNSOM, ais5), (Violin, tr151VNNOM, c5)], [(Cello, tr172VCNOM, gis2)], [(ElectricGuitar, tr133EGLPM, b3)], [(ElectricGuitar, tr132EGVFM, cis4)], [(Violin, tr151VNSOM, gis4)], [(Viola, tr162VLNOM, e3)], [(ElectricGuitar, tr132EGVPM, cis5)], [(ElectricGuitar, tr133EGLPM, dis3)], [(Violin, tr151VNSOM, e4)], [(Viola, tr163VLNOM, dis5), (Cello, tr171VCNVM, c5)], [(Piano, tr013PFNOM, d3)], [(Flute, tr332FLNOM, d4), (Cello, tr171VCSOM, e3)], [(ElectricGuitar, tr133EGLPM, f2)], [(Viola, tr161VLNVM, f4)] with fitness 1.7361195110452585]                                                                                                                                                                                                                                                                                                                                                                                                                                                                                                                                                                                                                                                                                                                                                                                                                                                                                                                                                                                                                                                                                                                                                                                                                                                                                                                                                                                                                                                                                                                                                                                                                                                                                                                  \n"
     ]
    }
   ],
   "source": [
    "ex, _ = librosa.load(librosa.ex('nutcracker'), duration=15)\n",
    "result = base_algorithm_1plus1_multi_offset(target_y=ex, max_steps=10000, sample_lib=sample_lib, onset_frac=1)"
   ]
  },
  {
   "cell_type": "code",
   "execution_count": 6,
   "metadata": {},
   "outputs": [
    {
     "name": "stdout",
     "output_type": "stream",
     "text": [
      "9.17 ms ± 59.2 µs per loop (mean ± std. dev. of 7 runs, 100 loops each)\n",
      "4.81 ms ± 50.7 µs per loop (mean ± std. dev. of 7 runs, 100 loops each)\n",
      "76.4 µs ± 357 ns per loop (mean ± std. dev. of 7 runs, 10,000 loops each)\n"
     ]
    }
   ],
   "source": [
    "ex_stft = librosa.stft(ex)\n",
    "abs_stft = abs(ex_stft)\n",
    "%timeit librosa.stft(ex)\n",
    "%timeit np.abs(ex_stft)\n",
    "%timeit np.average(abs_stft, axis=1)"
   ]
  },
  {
   "cell_type": "code",
   "execution_count": 6,
   "metadata": {},
   "outputs": [
    {
     "name": "stderr",
     "output_type": "stream",
     "text": [
      "100%|██████████| 10000/10000 [08:26<00:00, 19.73it/s, \t\t\t\t\t\t\t\t\t\t\t\t\t\t\t\t\t\t\t\t\t\t\t\t\t\t\t\t\t\t\t\t\t\t\t\t\t\t\t\t\t\t\t\t\t\t\t\t\t\t\t\t\t\t\t\t\t\t\t\t\t\t\t\t\t\t\t\t\t\t\t\t\t\t\t\t\t\t\t\t\t\t\t\t\t\t\t\t\t\t\t\t\t\t\t\t\t\t\t\tBest individual: [(AcousticGuitar, tr112AGAFM, dis4), (Piano, tr011PFPEM, c5), (Piano, tr013PFNOM, e6)], [(AcousticGuitar, tr113AGAFM, f4), (Cello, tr172VCNOM, gis2)], [(ElectricGuitar, tr133EGLFM, e4), (Piano, tr011PFPEM, e4), (ElectricGuitar, tr132EGLPM, f2)], [(AcousticGuitar, tr111AGAPM, c3), (ElectricGuitar, tr132EGLPM, c5), (Cello, tr172VCNOM, a2), (Cello, tr172VCNVM, d4)], [(ElectricGuitar, tr132EGVFM, f4), (Flute, tr331FLNOM, fis5), (Piano, tr011PFNOM, a4), (ElectricGuitar, tr131EGLFM, e4)], [(Piano, tr013PFPEM, cis2)], [(AcousticGuitar, tr113AGAFM, gis3), (ElectricGuitar, tr132EGVFM, a2)], [(AcousticGuitar, tr113AGRFM, a2), (AcousticGuitar, tr113AGAPM, a4)], [(Piano, tr011PFNOM, f3), (AcousticGuitar, tr112AGAPM, ais3), (Cello, tr172VCNOM, e2)], [(AcousticGuitar, tr112AGAFM, e2), (ElectricGuitar, tr133EGLFM, gis2)], [(Piano, tr011PFPEM, c4), (AcousticGuitar, tr113AGAPM, gis3), (AcousticGuitar, tr113AGAPM, fis3), (AcousticGuitar, tr111AGAPM, f3), (AcousticGuitar, tr111AGAPM, b2)], [(AcousticGuitar, tr111AGRFM, e4), (ElectricGuitar, tr133EGLPM, f2), (Cello, tr171VCSOM, fis3)], [(AcousticGuitar, tr113AGAFM, c5), (Flute, trFltnvib, dis5), (Piano, tr013PFNOM, gis5), (AcousticGuitar, tr113AGRPM, a2)], [(Flute, trFltnvib, e6), (AcousticGuitar, tr111AGRFM, g2)], [(AcousticGuitar, tr113AGRFM, e2), (AcousticGuitar, tr113AGAFM, dis5), (Flute, trFltnvib, d4), (Flute, tr331FLVIM, c4)], [(ElectricGuitar, tr131EGVFM, c3), (AcousticGuitar, tr112AGAFM, ais3), (AcousticGuitar, tr112AGRPM, e3)], [(ElectricGuitar, tr133EGLFM, gis2), (Cello, tr172VCNVM, g5), (AcousticGuitar, tr112AGRPM, a3)], [(AcousticGuitar, tr112AGRFM, f2), (Flute, trFltnvib, dis6), (ElectricGuitar, tr132EGVPM, fis4), (AcousticGuitar, tr111AGRFM, c4)], [(Flute, trflute.novib.mf, a5), (AcousticGuitar, tr112AGAFM, g4), (Viola, tr162VLNVM, d3), (ElectricGuitar, tr131EGLFM, f4)], [(AcousticGuitar, tr113AGAFM, d3), (Piano, tr013PFPEM, f4), (Flute, tr332FLNOM, gis4), (AcousticGuitar, tr113AGAFM, e5)], [(AcousticGuitar, tr113AGRPM, cis3), (Piano, tr011PFNOM, c5), (Flute, trFltnvib, a5), (Flute, trFltnvib, d5), (AcousticGuitar, tr111AGAPM, d4)], [(AcousticGuitar, tr113AGAPM, c3), (Cello, tr171VCSOM, gis4)], [(Flute, trflute.novib.mf, a4), (ElectricGuitar, tr131EGVFM, ais2)], [(Viola, tr161VLNVM, cis5), (AcousticGuitar, tr112AGAFM, cis5), (ElectricGuitar, tr133EGLPM, a4), (Cello, tr172VCNOM, gis2)], [(Viola, tr161VLSOM, dis5), (Cello, tr171VCSOM, d2), (AcousticGuitar, tr113AGAFM, gis3)], [(ElectricGuitar, tr133EGLPM, e4), (Flute, trflute.novib.mf, fis6), (Piano, tr012PFPM, ais3)], [(ElectricGuitar, tr131EGLFM, e4), (AcousticGuitar, tr111AGRFM, fis4)], [(ElectricGuitar, tr132EGVFM, b4), (AcousticGuitar, tr111AGRFM, f4), (AcousticGuitar, tr112AGRPM, ais3)], [(AcousticGuitar, tr111AGAFM, f3), (AcousticGuitar, tr111AGRFM, dis4), (AcousticGuitar, tr112AGAFM, e4), (ElectricGuitar, tr132EGVPM, e3)] with fitness 2.77813111891558]                      \n"
     ]
    }
   ],
   "source": [
    "ex, _ = librosa.load(librosa.ex('nutcracker'), duration=15)\n",
    "result = base_algorithm_1plus1_multi_offset(target_y=ex, max_steps=10000, sample_lib=sample_lib, onset_frac=1)"
   ]
  },
  {
   "cell_type": "code",
   "execution_count": 17,
   "metadata": {},
   "outputs": [
    {
     "name": "stderr",
     "output_type": "stream",
     "text": [
      "100%|██████████| 10000/10000 [05:50<00:00, 28.54it/s, \t\t\t\t\t\t\t\t\t\t\t\t\t\t\t\t\t\t\t\t\t\t\t\t\t\t\t\t\t\t\t\t\t\t\t\t\t\t\t\t\t\t\t\t\t\t\t\t\t\t\t\t\t\t\t\t\t\t\t\t\t\t\t\t\t\t\t\t\t\t\t\t\t\t\t\t\t\t\t\t\t\t\t\t\t\t\t\t\t\t\t\t\t\t\t\t\t\t\t\tBest individual: [(AcousticGuitar, tr111AGRFM, gis4), (ElectricGuitar, tr131EGLFM, e3), (AcousticGuitar, tr112AGAFM, g3)], [(Viola, tr161VLSOM, fis3), (AcousticGuitar, tr112AGAFM, dis4), (AcousticGuitar, tr111AGRFM, g2), (AcousticGuitar, tr113AGAFM, dis3), (Cello, tr173VCNVM, gis2)], [(AcousticGuitar, tr112AGAFM, b3), (ElectricGuitar, tr131EGLFM, c3), (Cello, tr171VCSOM, d3), (AcousticGuitar, tr113AGRFM, f3)], [(AcousticGuitar, tr111AGRFM, b3), (AcousticGuitar, tr112AGAFM, cis3), (AcousticGuitar, tr112AGAPM, dis5), (AcousticGuitar, tr113AGRFM, ais3)], [(AcousticGuitar, tr111AGAPM, a4), (Viola, tr163VLNOM, fis5), (AcousticGuitar, tr112AGRFM, fis4), (Cello, tr173VCNOM, fis4), (AcousticGuitar, tr112AGAFM, g4)], [(AcousticGuitar, tr112AGAFM, dis4), (Flute, trflute.novib.mf, b5), (Piano, tr013PFNOM, dis6), (Cello, tr172VCNVM, dis2), (Cello, tr172VCNOM, a3)], [(ElectricGuitar, tr133EGLFM, fis4), (Flute, tr331FLVIM, c4), (AcousticGuitar, tr111AGRFM, ais2), (AcousticGuitar, tr112AGAFM, e3), (Piano, tr013PFNOM, b4)] with fitness 1.8064907549814895]        \n"
     ]
    }
   ],
   "source": [
    "ex, _ = librosa.load(librosa.ex('nutcracker'), duration=30)\n",
    "result = base_algorithm_1plus1_multi_offset(target_y=ex, max_steps=10000, sample_lib=sample_lib, onset_frac=.1)"
   ]
  },
  {
   "attachments": {},
   "cell_type": "markdown",
   "metadata": {},
   "source": [
    "Performance profiling"
   ]
  },
  {
   "cell_type": "code",
   "execution_count": 4,
   "metadata": {},
   "outputs": [
    {
     "name": "stderr",
     "output_type": "stream",
     "text": [
      "c:\\Users\\justi\\miniconda3\\envs\\ma\\lib\\site-packages\\librosa\\core\\spectrum.py:256: UserWarning: n_fft=2048 is too large for input signal of length=510\n",
      "  warnings.warn(\n",
      "100%|██████████| 250/250 [00:14<00:00, 17.70it/s, \t\t\t\t\t\t\t\t\t\t\t\t\t\t\t\t\t\t\t\t\t\t\t\t\t\t\t\t\t\t\t\t\t\t\t\t\t\t\t\t\t\t\t\t\t\t\t\t\t\t\t\t\t\t\t\t\t\t\t\t\t\t\t\t\t\t\t\t\t\t\t\t\t\t\t\t\t\t\t\t\t\t\t\t\t\t\t\t\t\t\t\t\t\t\t\t\t\t\t\tBest individual: [(Trumpet, tr211TRVIM, b3), (Flute, trFltnvib, e5)], [(Flute, trflute.novib.mf, dis6), (Cello, tr171VCNOM, f3), (Piano, tr013PFPEM, b3)], [(Violin, tr152VNNOM, f5), (Violin, tr152VNNVM, gis4), (Piano, tr011PFPEM, a4)], [(Viola, tr161VLNOM, e3), (Cello, tr173VCNOM, cis4), (Piano, tr011PFPEM, f4)], [(AcousticGuitar, tr112AGRFM, dis3), (AcousticGuitar, tr111AGAPM, e5), (ElectricGuitar, tr131EGVFM, d4)], [(Piano, tr012PFPM, c4), (Viola, tr163VLNVM, d3), (Cello, tr172VCNOM, fis4)], [(AcousticGuitar, tr113AGAPM, gis4), (AcousticGuitar, tr111AGAPM, ais2), (AcousticGuitar, tr111AGRFM, e3)], [(Flute, tr332FLNOM, e5), (AcousticGuitar, tr111AGAPM, gis2), (Cello, tr172VCNVM, g5)], [(AcousticGuitar, tr112AGRFM, g3), (Viola, tr163VLNVM, a3), (Viola, tr163VLNVM, gis4), (Trumpet, tr211TRNOM, cis4)], [(Piano, tr011PFNOM, f5), (Trumpet, tr211TRVIM, f5), (Flute, tr332FLNOM, c6), (ElectricGuitar, tr132EGVPM, g4)], [(ElectricGuitar, tr132EGLPM, cis5), (Viola, tr161VLSOM, g4), (Piano, tr013PFNOM, e4)], [(AcousticGuitar, tr111AGAPM, e3), (AcousticGuitar, tr111AGAFM, cis4), (Piano, tr011PFPEM, d6)], [(ElectricGuitar, tr132EGVFM, a3), (Piano, tr011PFPEM, ais4)], [(Flute, tr331FLVIM, cis4), (AcousticGuitar, tr112AGRFM, c4)], [(Flute, trflute.novib.mf, e4), (AcousticGuitar, tr112AGAPM, f2)], [(Piano, tr013PFNOM, f4), (Flute, trflute.novib.mf, e4), (AcousticGuitar, tr111AGRPM, c4)], [(AcousticGuitar, tr112AGRFM, c5), (AcousticGuitar, tr113AGAFM, e3), (AcousticGuitar, tr111AGRFM, f4)], [(AcousticGuitar, tr111AGRFM, c5), (Cello, tr171VCNOM, d4), (Flute, tr332FLNOM, fis6)], [(Flute, tr331FLVIM, c4), (Trumpet, tr212TRNOM, g4), (ElectricGuitar, tr132EGVFM, a4)], [(Flute, tr332FLVIM, gis5), (ElectricGuitar, tr132EGVPM, gis4), (Trumpet, tr212TRNOM, a5), (Flute, trFltnvib, a4)], [(AcousticGuitar, tr111AGAFM, a2), (Cello, tr173VCNOM, d5)], [(AcousticGuitar, tr112AGRFM, c4), (Viola, tr163VLNVM, g4), (Piano, tr012PFPM, d2), (Violin, tr151VNSOM, e5), (AcousticGuitar, tr113AGRPM, g3)], [(Flute, tr331FLNOM, gis5), (Flute, trflute.novib.mf, cis5), (Trumpet, tr212TRNOM, fis5), (Trumpet, tr211TRVIM, fis4), (Cello, tr173VCNVM, ais4)], [(Viola, tr162VLNOM, dis4), (Violin, tr151VNSOM, b5), (Cello, tr173VCNOM, cis4), (AcousticGuitar, tr111AGRPM, b3)], [(Viola, tr162VLNOM, dis4), (Flute, trflute.novib.mf, gis4)], [(Viola, tr161VLNVM, e5), (AcousticGuitar, tr112AGAFM, g3)], [(Piano, tr013PFNOM, f3), (Piano, tr011PFPEM, cis6), (Cello, tr173VCNVM, cis5), (ElectricGuitar, tr131EGVPM, b3)], [(Flute, tr331FLVIM, d4), (AcousticGuitar, tr112AGRPM, d4)], [(AcousticGuitar, tr113AGRPM, g2), (Flute, trFltnvib, d6), (Cello, tr172VCNVM, a3)] with fitness 7.676873340911481]    "
     ]
    },
    {
     "name": "stdout",
     "output_type": "stream",
     "text": [
      " "
     ]
    },
    {
     "name": "stderr",
     "output_type": "stream",
     "text": [
      "\n"
     ]
    },
    {
     "name": "stdout",
     "output_type": "stream",
     "text": [
      "         2451628 function calls (2410171 primitive calls) in 14.425 seconds\n",
      "\n",
      "   Ordered by: internal time\n",
      "\n",
      "   ncalls  tottime  percall  cumtime  percall filename:lineno(function)\n",
      "    26024    4.167    0.000    4.167    0.000 {built-in method numpy.array}\n",
      "     1029    2.236    0.002    8.113    0.008 individual.py:15(calc_stft)\n",
      "    10849    2.170    0.000    2.170    0.000 {built-in method numpy.fft._pocketfft_internal.execute}\n",
      "     1059    1.635    0.002    4.783    0.005 spectrum.py:45(stft)\n",
      "        1    1.162    1.162   14.416   14.416 base_algorithms.py:39(base_algorithm_1plus1_multi_offset)\n",
      "    11543    0.784    0.000    0.784    0.000 {method 'reduce' of 'numpy.ufunc' objects}\n",
      "     6211    0.141    0.000    0.250    0.000 arraypad.py:86(_pad_simple)\n",
      "     4264    0.107    0.000    0.166    0.000 {method 'choice' of 'numpy.random.mtrand.RandomState' objects}\n",
      "     6212    0.100    0.000    0.100    0.000 {built-in method numpy.empty}\n",
      "   397482    0.081    0.000    0.113    0.000 utils.py:330(<genexpr>)\n",
      "     1184    0.076    0.000    0.076    0.000 {method 'acquire' of '_thread.lock' objects}\n",
      "    10594    0.068    0.000    0.332    0.000 <frozen importlib._bootstrap>:1022(_find_and_load)\n",
      "76021/38217    0.068    0.000    7.968    0.000 {built-in method numpy.core._multiarray_umath.implement_array_function}\n",
      "     6212    0.060    0.000    0.065    0.000 arraypad.py:129(_set_pad_area)\n",
      "     6211    0.058    0.000    0.495    0.000 arraypad.py:529(pad)\n",
      "    21188    0.053    0.000    0.126    0.000 <frozen importlib._bootstrap>:179(_get_module_lock)\n",
      "    21521    0.051    0.000    0.162    0.000 copy.py:66(copy)\n",
      "     1059    0.048    0.000    0.125    0.000 _windows.py:40(general_cosine)\n",
      "89222/88164    0.048    0.000    0.080    0.000 {built-in method builtins.getattr}\n",
      "     1059    0.044    0.000    0.063    0.000 utils.py:239(valid_audio)\n",
      "    42672    0.042    0.000    0.042    0.000 {built-in method _thread.allocate_lock}\n",
      "      148    0.036    0.000    0.149    0.001 {built-in method builtins.sum}\n",
      "    12422    0.035    0.000    0.103    0.000 arraypad.py:454(_as_pairs)\n",
      "    21188    0.035    0.000    0.041    0.000 <frozen importlib._bootstrap>:100(acquire)\n",
      "     3175    0.033    0.000    0.049    0.000 stride_tricks.py:38(as_strided)\n",
      "   397336    0.033    0.000    0.033    0.000 {built-in method unicodedata.east_asian_width}\n",
      "    21521    0.031    0.000    0.060    0.000 copy.py:259(_reconstruct)\n",
      "    21188    0.030    0.000    0.035    0.000 <frozen importlib._bootstrap>:125(release)\n",
      "    10849    0.027    0.000    2.267    0.000 _pocketfft.py:49(_raw_fft)\n",
      "     8350    0.026    0.000    0.732    0.000 fromnumeric.py:69(_wrapreduction)\n",
      "     7250    0.025    0.000    4.371    0.001 individual.py:26(from_copy)\n",
      "    26952    0.025    0.000    0.025    0.000 {built-in method numpy.asarray}\n",
      "    21188    0.024    0.000    0.066    0.000 <frozen importlib._bootstrap>:71(__init__)\n",
      "     1060    0.024    0.000    0.068    0.000 function_base.py:23(linspace)\n",
      "      933    0.023    0.000    0.160    0.000 fitness.py:11(cosh_distance_no_abs)\n",
      "10594/9536    0.022    0.000    0.400    0.000 __init__.py:71(__getattr__)\n",
      "     2121    0.022    0.000    0.022    0.000 {built-in method numpy.zeros}\n",
      "      250    0.019    0.000    4.390    0.018 individual.py:51(<dictcomp>)\n",
      "    21188    0.019    0.000    0.025    0.000 <frozen importlib._bootstrap>:198(cb)\n",
      "    28160    0.018    0.000    0.054    0.000 fromnumeric.py:51(_wrapfunc)\n",
      "     3175    0.018    0.000    0.121    0.000 utils.py:72(frame)\n",
      "    21521    0.017    0.000    0.017    0.000 {method '__reduce_ex__' of 'object' objects}\n",
      "    10849    0.016    0.000    2.288    0.000 _pocketfft.py:320(rfft)\n",
      "     3175    0.015    0.000    0.045    0.000 numeric.py:1410(moveaxis)\n",
      "     2127    0.015    0.000    0.118    0.000 _methods.py:163(_mean)\n",
      "    21698    0.015    0.000    0.067    0.000 <__array_function__ internals>:177(swapaxes)\n",
      "    10594    0.015    0.000    0.372    0.000 __init__.py:108(import_module)\n",
      "     6350    0.014    0.000    0.021    0.000 numeric.py:1347(normalize_axis_tuple)\n",
      "    21667    0.014    0.000    0.014    0.000 {method 'update' of 'dict' objects}\n",
      "    83124    0.013    0.000    0.013    0.000 {method 'get' of 'dict' objects}\n",
      "      250    0.013    0.000    8.117    0.032 mutations.py:26(mutate_individual)\n",
      "    10849    0.013    0.000    2.310    0.000 <__array_function__ internals>:177(rfft)\n",
      "    10594    0.012    0.000    0.093    0.000 <frozen importlib._bootstrap>:216(_lock_unlock_module)\n",
      "    10594    0.011    0.000    0.113    0.000 <frozen importlib._bootstrap>:169(__enter__)\n",
      "    21698    0.011    0.000    0.011    0.000 {method 'swapaxes' of 'numpy.ndarray' objects}\n",
      "    21698    0.010    0.000    0.039    0.000 fromnumeric.py:550(swapaxes)\n",
      "     7250    0.010    0.000    0.172    0.000 individual.py:29(<listcomp>)\n",
      "      444    0.010    0.000    0.010    0.000 socket.py:545(send)\n",
      "    66900    0.010    0.000    0.010    0.000 {built-in method builtins.isinstance}\n",
      "    10594    0.010    0.000    0.351    0.000 <frozen importlib._bootstrap>:1038(_gcd_import)\n",
      "     7272    0.010    0.000    0.010    0.000 {method 'astype' of 'numpy.ndarray' objects}\n",
      "      251    0.009    0.000    0.387    0.002 fitness.py:27(multi_onset_fitness_cached)\n",
      "        1    0.009    0.009   14.425   14.425 <string>:1(<module>)\n",
      "     1059    0.009    0.000    0.138    0.000 _windows.py:2261(get_window)\n",
      "     2127    0.008    0.000    0.009    0.000 _methods.py:66(_count_reduce_items)\n",
      "    21521    0.008    0.000    0.012    0.000 copyreg.py:100(__newobj__)\n",
      "     4294    0.007    0.000    0.065    0.000 fromnumeric.py:2927(prod)\n",
      "    10594    0.007    0.000    0.009    0.000 <frozen importlib._bootstrap>:968(_sanity_check)\n",
      "     7250    0.007    0.000    4.170    0.001 <__array_function__ internals>:177(copy)\n",
      "     6212    0.006    0.000    0.006    0.000 arraypad.py:58(_view_roi)\n",
      "     6211    0.006    0.000    0.513    0.000 <__array_function__ internals>:177(pad)\n",
      "    42376    0.006    0.000    0.006    0.000 {built-in method _imp.acquire_lock}\n",
      "     8350    0.006    0.000    0.006    0.000 fromnumeric.py:70(<dictcomp>)\n",
      "    42524    0.006    0.000    0.006    0.000 {method '__exit__' of '_thread.lock' objects}\n",
      "     1029    0.006    0.000    0.373    0.000 individual.py:23(<listcomp>)\n",
      "     1059    0.006    0.000    0.006    0.000 utils.py:2251(dtype_r2c)\n",
      "     1029    0.006    0.000    1.048    0.001 individual.py:20(to_mixdown)\n",
      "        1    0.006    0.006    0.015    0.015 spectrum.py:2755(_spectrogram)\n",
      "     6211    0.006    0.000    0.028    0.000 <__array_function__ internals>:177(around)\n",
      "    12424    0.006    0.000    0.006    0.000 arraypad.py:33(_slice_at_axis)\n",
      "     6211    0.006    0.000    0.006    0.000 {method 'round' of 'numpy.ndarray' objects}\n",
      "     1866    0.006    0.000    0.121    0.000 function_base.py:396(average)\n",
      "    10595    0.006    0.000    0.006    0.000 {method 'startswith' of 'str' objects}\n",
      "    10594    0.006    0.000    0.006    0.000 <frozen importlib._bootstrap>:165(__init__)\n",
      "     1000    0.006    0.000    8.028    0.008 mutations.py:16(mutate_sample_collection)\n",
      "    42524    0.005    0.000    0.005    0.000 {built-in method _thread.get_ident}\n",
      "    19329    0.005    0.000    0.005    0.000 {built-in method numpy.core._multiarray_umath.normalize_axis_index}\n",
      "    10594    0.005    0.000    0.025    0.000 <frozen importlib._bootstrap>:173(__exit__)\n",
      "     6211    0.005    0.000    0.018    0.000 fromnumeric.py:3214(around)\n",
      "    12423    0.005    0.000    0.005    0.000 arraypad.py:109(<genexpr>)\n",
      "    32147    0.005    0.000    0.005    0.000 {built-in method builtins.issubclass}\n",
      "     1059    0.005    0.000    0.006    0.000 utils.py:473(expand_to)\n",
      "     1962    0.005    0.000    0.655    0.000 fromnumeric.py:2162(sum)\n",
      "     1059    0.005    0.000    0.061    0.000 utils.py:398(pad_center)\n",
      "     1061    0.005    0.000    0.005    0.000 {built-in method numpy.arange}\n",
      "     6211    0.005    0.000    0.033    0.000 fromnumeric.py:3722(round_)\n",
      "        1    0.005    0.005    0.005    0.005 target.py:9(<dictcomp>)\n",
      "     8734    0.005    0.000    0.005    0.000 {built-in method builtins.min}\n",
      "     1059    0.005    0.000    0.143    0.000 filters.py:1159(get_window)\n",
      "      146    0.005    0.000    0.011    0.000 std.py:355(format_meter)\n",
      "    29912    0.004    0.000    0.004    0.000 {built-in method builtins.len}\n",
      "     6211    0.004    0.000    0.042    0.000 <__array_function__ internals>:177(round_)\n",
      "     4294    0.004    0.000    0.074    0.000 <__array_function__ internals>:177(prod)\n",
      "    42376    0.004    0.000    0.004    0.000 {built-in method _imp.release_lock}\n",
      "     2123    0.004    0.000    0.010    0.000 numerictypes.py:356(issubdtype)\n",
      "    12423    0.004    0.000    0.004    0.000 arraypad.py:120(<genexpr>)\n",
      "      409    0.004    0.000    0.017    0.000 sample_library.py:129(get_random_pitch_for_instrument)\n",
      "    12421    0.004    0.000    0.004    0.000 {method 'ravel' of 'numpy.ndarray' objects}\n",
      "     7279    0.004    0.000    0.004    0.000 individual.py:6(__init__)\n",
      "     7250    0.004    0.000    4.156    0.001 function_base.py:870(copy)\n",
      "      250    0.004    0.000    0.004    0.000 individual.py:53(<dictcomp>)\n",
      "     6122    0.004    0.000    0.004    0.000 {built-in method numpy.asanyarray}\n",
      "     3177    0.004    0.000    0.004    0.000 {built-in method builtins.sorted}\n",
      "    21522    0.004    0.000    0.004    0.000 {built-in method __new__ of type object at 0x00007FF9841B4D30}\n",
      "      250    0.004    0.000    0.004    0.000 {method 'normal' of 'numpy.random.mtrand.RandomState' objects}\n",
      "      500    0.003    0.000    0.006    0.000 _methods.py:92(_clip_dep_is_scalar_nan)\n",
      "     6350    0.003    0.000    0.005    0.000 numeric.py:1397(<listcomp>)\n",
      "    21698    0.003    0.000    0.003    0.000 fromnumeric.py:546(_swapaxes_dispatcher)\n",
      "     4246    0.003    0.000    0.005    0.000 numerictypes.py:282(issubclass_)\n",
      "     1060    0.003    0.000    0.008    0.000 {method 'any' of 'numpy.generic' objects}\n",
      "     3175    0.003    0.000    0.052    0.000 <__array_function__ internals>:177(moveaxis)\n",
      "    10849    0.003    0.000    0.003    0.000 _pocketfft.py:78(_get_forward_norm)\n",
      "     1164    0.003    0.000    0.004    0.000 {method 'format' of 'str' objects}\n",
      "     4546    0.003    0.000    0.003    0.000 base_sample.py:9(__str__)\n",
      "     1866    0.003    0.000    0.126    0.000 <__array_function__ internals>:177(average)\n",
      "     1962    0.003    0.000    0.660    0.000 <__array_function__ internals>:177(sum)\n",
      "     1030    0.003    0.000    0.003    0.000 getlimits.py:458(__new__)\n",
      "    22079    0.003    0.000    0.003    0.000 {built-in method builtins.hasattr}\n",
      "     3177    0.002    0.000    0.002    0.000 {method 'transpose' of 'numpy.ndarray' objects}\n",
      "     2122    0.002    0.000    0.002    0.000 {method 'reshape' of 'numpy.ndarray' objects}\n",
      "      385    0.002    0.000    0.020    0.000 mutations.py:53(mutate_instrument)\n",
      "      385    0.002    0.000    0.009    0.000 sample_library.py:114(get_random_instrument_for_pitch)\n",
      "     1059    0.002    0.000    0.128    0.000 _windows.py:947(general_hamming)\n",
      "     1029    0.002    0.000    0.003    0.000 individual.py:22(<listcomp>)\n",
      "     1560    0.002    0.000    0.003    0.000 fromnumeric.py:3121(ndim)\n",
      "     6083    0.002    0.000    0.005    0.000 individual.py:12(<genexpr>)\n",
      "     1060    0.002    0.000    0.014    0.000 fromnumeric.py:2307(any)\n",
      "      261    0.002    0.000    0.007    0.000 fromnumeric.py:3313(mean)\n",
      "  1593/56    0.002    0.000    0.009    0.000 {method 'join' of 'str' objects}\n",
      "      409    0.002    0.000    0.027    0.000 mutations.py:74(mutate_pitch)\n",
      "     3175    0.002    0.000    0.002    0.000 stride_tricks.py:20(__init__)\n",
      "    12422    0.002    0.000    0.002    0.000 fromnumeric.py:3210(_around_dispatcher)\n",
      "    10849    0.002    0.000    0.002    0.000 _pocketfft.py:118(_fft_dispatcher)\n",
      "     1059    0.002    0.000    0.013    0.000 {method 'all' of 'numpy.ndarray' objects}\n",
      "      250    0.002    0.000    0.002    0.000 _methods.py:107(_clip_dep_invoke_with_casting)\n",
      "     8351    0.002    0.000    0.002    0.000 {method 'items' of 'dict' objects}\n",
      "      250    0.002    0.000    4.396    0.018 individual.py:47(from_copy)\n",
      "     1030    0.002    0.000    0.014    0.000 fromnumeric.py:2677(amax)\n",
      "     1866    0.002    0.000    0.115    0.000 {method 'mean' of 'numpy.ndarray' objects}\n",
      "     1560    0.002    0.000    0.007    0.000 <__array_function__ internals>:177(ndim)\n",
      "      250    0.001    0.000    0.012    0.000 {method 'clip' of 'numpy.generic' objects}\n",
      "     3176    0.001    0.000    0.001    0.000 stride_tricks.py:25(_maybe_view_as_subclass)\n",
      "        1    0.001    0.001    0.002    0.002 filters.py:127(mel)\n",
      "     1059    0.001    0.000    0.129    0.000 _windows.py:724(hann)\n",
      "     1060    0.001    0.000    0.072    0.000 <__array_function__ internals>:177(linspace)\n",
      "     3175    0.001    0.000    0.001    0.000 numeric.py:1472(<listcomp>)\n",
      "     1030    0.001    0.000    0.017    0.000 <__array_function__ internals>:177(amax)\n",
      "      444    0.001    0.000    0.014    0.000 iostream.py:203(schedule)\n",
      "     1060    0.001    0.000    0.008    0.000 <__array_function__ internals>:177(result_type)\n",
      "      179    0.001    0.000    0.016    0.000 sample_library.py:108(get_random_sample_uniform)\n",
      "      148    0.001    0.000    0.001    0.000 threading.py:236(__init__)\n",
      "      250    0.001    0.000    0.010    0.000 _methods.py:126(_clip)\n",
      "     1537    0.001    0.000    0.008    0.000 individual.py:11(__str__)\n",
      "      206    0.001    0.000    0.013    0.000 mutations.py:38(mutate_n_samples)\n",
      "     7250    0.001    0.000    0.001    0.000 function_base.py:866(_copy_dispatcher)\n",
      "      148    0.001    0.000    0.086    0.001 iostream.py:479(flush)\n",
      "      149    0.001    0.000    0.013    0.000 iostream.py:534(write)\n",
      "       91    0.001    0.000    0.169    0.002 std.py:1212(update)\n",
      "     1060    0.001    0.000    0.019    0.000 <__array_function__ internals>:177(any)\n",
      "     1590    0.001    0.000    0.009    0.000 individual.py:45(<genexpr>)\n",
      "      704    0.001    0.000    0.001    0.000 std.py:233(__call__)\n",
      "     1059    0.001    0.000    0.011    0.000 _methods.py:60(_all)\n",
      "     7277    0.001    0.000    0.001    0.000 {built-in method builtins.callable}\n",
      "      933    0.001    0.000    0.369    0.000 fitness.py:21(fitness_cached)\n",
      "     6211    0.001    0.000    0.001    0.000 arraypad.py:521(_pad_dispatcher)\n",
      "     7410    0.001    0.000    0.001    0.000 {built-in method _operator.index}\n",
      "     1059    0.001    0.000    0.001    0.000 _windows.py:32(_truncate)\n",
      "      148    0.001    0.000    0.079    0.001 threading.py:589(wait)\n",
      "     1059    0.001    0.000    0.001    0.000 _windows.py:17(_len_guards)\n",
      "      146    0.001    0.000    0.001    0.000 std.py:1460(format_dict)\n",
      "      564    0.001    0.000    0.001    0.000 sample_library.py:101(get_sample)\n",
      "      292    0.001    0.000    0.001    0.000 utils.py:222(_is_ascii)\n",
      "      251    0.001    0.000    0.001    0.000 individual.py:38(__init__)\n",
      "        1    0.001    0.001    0.001    0.001 spectrum.py:1663(power_to_db)\n",
      "      146    0.001    0.000    0.014    0.000 std.py:1164(__str__)\n",
      "      146    0.001    0.000    0.250    0.002 std.py:348(print_status)\n",
      "      500    0.001    0.000    0.001    0.000 _methods.py:102(_clip_dep_is_byte_swapped)\n",
      "     4294    0.001    0.000    0.001    0.000 fromnumeric.py:2922(_prod_dispatcher)\n",
      "      148    0.001    0.000    0.078    0.001 threading.py:288(wait)\n",
      "      251    0.001    0.000    0.171    0.001 std.py:1174(__iter__)\n",
      "     1209    0.001    0.000    0.001    0.000 {built-in method builtins.max}\n",
      "      592    0.001    0.000    0.002    0.000 threading.py:1169(is_alive)\n",
      "      146    0.001    0.000    0.265    0.002 std.py:1478(display)\n",
      "      250    0.001    0.000    0.016    0.000 <__array_function__ internals>:177(clip)\n",
      "     1060    0.001    0.000    0.001    0.000 numeric.py:1873(isscalar)\n",
      "     3175    0.001    0.000    0.001    0.000 {method 'insert' of 'list' objects}\n",
      "      250    0.001    0.000    0.013    0.000 fromnumeric.py:2085(clip)\n",
      "     1061    0.001    0.000    0.005    0.000 _methods.py:54(_any)\n",
      "      294    0.001    0.000    0.099    0.000 utils.py:143(inner)\n",
      "     3175    0.001    0.000    0.001    0.000 numeric.py:1406(_moveaxis_dispatcher)\n",
      "      145    0.001    0.000    0.265    0.002 std.py:1339(refresh)\n",
      "      146    0.001    0.000    0.001    0.000 std.py:188(__format__)\n",
      "      146    0.001    0.000    0.099    0.001 std.py:342(fp_write)\n",
      "     1059    0.001    0.000    0.001    0.000 fft.py:45(get_fftlib)\n",
      "        1    0.001    0.001    0.020    0.020 onset.py:424(onset_strength_multi)\n",
      "     1059    0.001    0.000    0.001    0.000 spectrum.py:261(<listcomp>)\n",
      "      290    0.001    0.000    0.002    0.000 std.py:288(format_interval)\n",
      "      149    0.001    0.000    0.001    0.000 std.py:108(release)\n",
      "     1059    0.001    0.000    0.001    0.000 _windows.py:24(_extend)\n",
      "      146    0.000    0.000    0.000    0.000 {method 'sub' of 're.Pattern' objects}\n",
      "      149    0.000    0.000    0.001    0.000 std.py:104(acquire)\n",
      "       53    0.000    0.000    0.010    0.000 individual.py:44(__str__)\n",
      "      444    0.000    0.000    0.000    0.000 iostream.py:90(_event_pipe)\n",
      "        1    0.000    0.000    0.000    0.000 {built-in method io.open}\n",
      "      592    0.000    0.000    0.001    0.000 threading.py:1102(_wait_for_tstate_lock)\n",
      "     1866    0.000    0.000    0.000    0.000 function_base.py:391(_average_dispatcher)\n",
      "      149    0.000    0.000    0.000    0.000 {method 'acquire' of '_multiprocessing.SemLock' objects}\n",
      "      261    0.000    0.000    0.008    0.000 <__array_function__ internals>:177(mean)\n",
      "      148    0.000    0.000    0.002    0.000 threading.py:545(__init__)\n",
      "        1    0.000    0.000    0.000    0.000 {method 'readlines' of '_io._IOBase' objects}\n",
      "     1962    0.000    0.000    0.000    0.000 fromnumeric.py:2157(_sum_dispatcher)\n",
      "      144    0.000    0.000    0.000    0.000 {built-in method now}\n",
      "     1560    0.000    0.000    0.000    0.000 fromnumeric.py:3117(_ndim_dispatcher)\n",
      "      149    0.000    0.000    0.011    0.000 iostream.py:464(_schedule_flush)\n",
      "     1066    0.000    0.000    0.000    0.000 {method 'setdefault' of 'dict' objects}\n",
      "      146    0.000    0.000    0.150    0.001 utils.py:333(disp_len)\n",
      "     1060    0.000    0.000    0.000    0.000 multiarray.py:664(result_type)\n",
      "     3066    0.000    0.000    0.000    0.000 {built-in method builtins.ord}\n",
      "      146    0.000    0.000    0.000    0.000 std.py:155(__init__)\n",
      "     1060    0.000    0.000    0.000    0.000 function_base.py:18(_linspace_dispatcher)\n",
      "      206    0.000    0.000    0.000    0.000 {method 'random' of 'numpy.random.mtrand.RandomState' objects}\n",
      "      149    0.000    0.000    0.000    0.000 iostream.py:443(_is_master_process)\n",
      "     1060    0.000    0.000    0.000    0.000 fromnumeric.py:2302(_any_dispatcher)\n",
      "      146    0.000    0.000    0.149    0.001 utils.py:329(_text_width)\n",
      "        1    0.000    0.000    0.041    0.041 target.py:11(calc_stft_for_snippets)\n",
      "     1030    0.000    0.000    0.000    0.000 fromnumeric.py:2672(_amax_dispatcher)\n",
      "        1    0.000    0.000    0.000    0.000 {method 'outer' of 'numpy.ufunc' objects}\n",
      "      148    0.000    0.000    0.000    0.000 threading.py:276(_acquire_restore)\n",
      "      148    0.000    0.000    0.000    0.000 threading.py:1430(current_thread)\n",
      "        1    0.000    0.000    0.007    0.007 base_algorithms.py:64(create_multi_onset_individual)\n",
      "      251    0.000    0.000    0.000    0.000 individual.py:40(<dictcomp>)\n",
      "      296    0.000    0.000    0.000    0.000 threading.py:1145(ident)\n",
      "      454    0.000    0.000    0.000    0.000 {built-in method time.time}\n",
      "       53    0.000    0.000    0.098    0.002 std.py:1447(set_postfix_str)\n",
      "      726    0.000    0.000    0.000    0.000 {built-in method builtins.divmod}\n",
      "      149    0.000    0.000    0.000    0.000 {method 'acquire' of '_thread.RLock' objects}\n",
      "        1    0.000    0.000    0.000    0.000 {built-in method nt.stat}\n",
      "      146    0.000    0.000    0.000    0.000 utils.py:57(__init__)\n",
      "      149    0.000    0.000    0.000    0.000 {method 'release' of '_multiprocessing.SemLock' objects}\n",
      "      593    0.000    0.000    0.000    0.000 threading.py:553(is_set)\n",
      "      148    0.000    0.000    0.000    0.000 threading.py:264(__enter__)\n",
      "      592    0.000    0.000    0.000    0.000 {method 'append' of 'collections.deque' objects}\n",
      "      149    0.000    0.000    0.000    0.000 {method 'write' of '_io.StringIO' objects}\n",
      "      148    0.000    0.000    0.000    0.000 threading.py:267(__exit__)\n",
      "      149    0.000    0.000    0.000    0.000 {built-in method nt.getpid}\n",
      "      146    0.000    0.000    0.000    0.000 utils.py:61(__format__)\n",
      "      148    0.000    0.000    0.000    0.000 threading.py:279(_is_owned)\n",
      "      250    0.000    0.000    0.000    0.000 fromnumeric.py:2081(_clip_dispatcher)\n",
      "        1    0.000    0.000    0.018    0.018 spectral.py:2021(melspectrogram)\n",
      "      261    0.000    0.000    0.000    0.000 fromnumeric.py:3308(_mean_dispatcher)\n",
      "        1    0.000    0.000    0.000    0.000 utils.py:1220(peak_pick)\n",
      "      146    0.000    0.000    0.000    0.000 std.py:169(colour)\n",
      "      148    0.000    0.000    0.000    0.000 threading.py:273(_release_save)\n",
      "      148    0.000    0.000    0.000    0.000 {built-in method builtins.abs}\n",
      "      251    0.000    0.000    0.000    0.000 {method 'values' of 'dict' objects}\n",
      "        1    0.000    0.000   14.425   14.425 {built-in method builtins.exec}\n",
      "      117    0.000    0.000    0.000    0.000 {method 'pop' of 'list' objects}\n",
      "      251    0.000    0.000    0.000    0.000 individual.py:42(<dictcomp>)\n",
      "        1    0.000    0.000    0.001    0.001 warnings.py:96(_showwarnmsg)\n",
      "      222    0.000    0.000    0.000    0.000 {method 'append' of 'list' objects}\n",
      "        1    0.000    0.000    0.021    0.021 onset.py:29(onset_detect)\n",
      "        3    0.000    0.000    0.001    0.000 {built-in method _warnings.warn}\n",
      "      148    0.000    0.000    0.000    0.000 {method '__enter__' of '_thread.lock' objects}\n",
      "        1    0.000    0.000    0.000    0.000 einsumfunc.py:523(_parse_einsum_input)\n",
      "      149    0.000    0.000    0.000    0.000 {method 'release' of '_thread.RLock' objects}\n",
      "      146    0.000    0.000    0.000    0.000 std.py:165(colour)\n",
      "        1    0.000    0.000    0.002    0.002 std.py:846(__init__)\n",
      "        1    0.000    0.000    0.000    0.000 einsumfunc.py:706(einsum_path)\n",
      "        1    0.000    0.000    0.000    0.000 __init__.py:48(create_string_buffer)\n",
      "        1    0.000    0.000    0.000    0.000 {method '__exit__' of '_io._IOBase' objects}\n",
      "      149    0.000    0.000    0.000    0.000 {method '__exit__' of '_thread.RLock' objects}\n",
      "        2    0.000    0.000    0.000    0.000 {method 'readline' of '_io.BufferedReader' objects}\n",
      "        1    0.000    0.000    0.000    0.000 utils.py:246(_screen_shape_windows)\n",
      "       13    0.000    0.000    0.000    0.000 {built-in method _codecs.utf_8_decode}\n",
      "        1    0.000    0.000    0.000    0.000 convert.py:1268(mel_to_hz)\n",
      "        2    0.000    0.000    0.000    0.000 convert.py:1193(hz_to_mel)\n",
      "      148    0.000    0.000    0.000    0.000 {method 'release' of '_thread.lock' objects}\n",
      "        1    0.000    0.000    0.020    0.020 onset.py:194(onset_strength)\n",
      "        1    0.000    0.000    0.000    0.000 stride_tricks.py:340(_broadcast_to)\n",
      "        1    0.000    0.000    0.001    0.001 einsumfunc.py:1009(einsum)\n",
      "        1    0.000    0.000    0.000    0.000 function_base.py:1319(diff)\n",
      "        1    0.000    0.000    0.001    0.001 numeric.py:949(tensordot)\n",
      "        1    0.000    0.000    0.001    0.001 tokenize.py:390(open)\n",
      "        1    0.000    0.000    0.000    0.000 helper.py:172(rfftfreq)\n",
      "        1    0.000    0.000    0.000    0.000 utils.py:1576(sync)\n",
      "        1    0.000    0.000    0.001    0.001 linecache.py:80(updatecache)\n",
      "        1    0.000    0.000    0.067    0.067 target.py:5(__init__)\n",
      "        2    0.000    0.000    0.000    0.000 _ni_support.py:73(_get_output)\n",
      "        1    0.000    0.000    0.000    0.000 std.py:560(__new__)\n",
      "        5    0.000    0.000    0.000    0.000 utils.py:321(valid_int)\n",
      "        1    0.000    0.000    0.001    0.001 warnings.py:35(_formatwarnmsg_impl)\n",
      "        1    0.000    0.000    0.000    0.000 {built-in method scipy.ndimage._nd_image.min_or_max_filter1d}\n",
      "       13    0.000    0.000    0.000    0.000 codecs.py:319(decode)\n",
      "        1    0.000    0.000    0.000    0.000 convert.py:82(frames_to_samples)\n",
      "        1    0.000    0.000    0.000    0.000 getlimits.py:540(smallest_normal)\n",
      "        1    0.000    0.000    0.001    0.001 std.py:329(status_printer)\n",
      "        2    0.000    0.000    0.002    0.001 std.py:1279(close)\n",
      "        2    0.000    0.000    0.000    0.000 _dtype.py:344(_name_get)\n",
      "        1    0.000    0.000    0.000    0.000 _filters.py:1055(maximum_filter1d)\n",
      "        1    0.000    0.000    0.000    0.000 std.py:583(_decr_instances)\n",
      "        2    0.000    0.000    0.000    0.000 tokenize.py:327(find_cookie)\n",
      "        1    0.000    0.000    0.000    0.000 tokenize.py:297(detect_encoding)\n",
      "        2    0.000    0.000    0.000    0.000 filters.py:25(__getattr__)\n",
      "        3    0.000    0.000    0.000    0.000 _weakrefset.py:63(__iter__)\n",
      "        1    0.000    0.000    0.000    0.000 convert.py:1602(fft_frequencies)\n",
      "        1    0.000    0.000    0.000    0.000 einsumfunc.py:413(_can_dot)\n",
      "        1    0.000    0.000    0.000    0.000 {method 'nonzero' of 'numpy.ndarray' objects}\n",
      "        1    0.000    0.000    0.000    0.000 utils.py:162(__init__)\n",
      "        3    0.000    0.000    0.000    0.000 fromnumeric.py:2406(all)\n",
      "        1    0.000    0.000    0.000    0.000 utils.py:201(_is_utf)\n",
      "        1    0.000    0.000    0.000    0.000 std.py:576(_get_free_pos)\n",
      "        1    0.000    0.000    0.000    0.000 utils.py:1825(tiny)\n",
      "        2    0.000    0.000    0.000    0.000 {built-in method utcfromtimestamp}\n",
      "        3    0.000    0.000    0.000    0.000 {method 'match' of 're.Pattern' objects}\n",
      "        1    0.000    0.000    0.001    0.001 linecache.py:36(getlines)\n",
      "        9    0.000    0.000    0.000    0.000 {method 'replace' of 'str' objects}\n",
      "        1    0.000    0.000    0.000    0.000 _filters.py:894(uniform_filter1d)\n",
      "        2    0.000    0.000    0.000    0.000 _weakrefset.py:27(__exit__)\n",
      "        1    0.000    0.000    0.000    0.000 convert.py:1667(mel_frequencies)\n",
      "        1    0.000    0.000    0.000    0.000 fromnumeric.py:1866(nonzero)\n",
      "        2    0.000    0.000    0.000    0.000 _weakrefset.py:53(_commit_removals)\n",
      "        1    0.000    0.000    0.000    0.000 {built-in method scipy.ndimage._nd_image.uniform_filter1d}\n",
      "        1    0.000    0.000    0.000    0.000 warnings.py:403(__init__)\n",
      "        1    0.000    0.000    0.000    0.000 _weakrefset.py:86(add)\n",
      "        1    0.000    0.000    0.000    0.000 einsumfunc.py:85(_find_contraction)\n",
      "        3    0.000    0.000    0.000    0.000 <__array_function__ internals>:177(all)\n",
      "        1    0.000    0.000    0.001    0.001 warnings.py:20(_showwarnmsg_impl)\n",
      "       11    0.000    0.000    0.000    0.000 {method 'count' of 'str' objects}\n",
      "        3    0.000    0.000    0.000    0.000 utils.py:101(wrapper_setattr)\n",
      "        2    0.000    0.000    0.000    0.000 {method 'max' of 'numpy.ndarray' objects}\n",
      "        2    0.000    0.000    0.000    0.000 std.py:1300(fp_write)\n",
      "        1    0.000    0.000    0.000    0.000 tokenize.py:286(_get_normal_name)\n",
      "        2    0.000    0.000    0.000    0.000 tokenize.py:321(read_or_stop)\n",
      "        2    0.000    0.000    0.000    0.000 _dtype.py:330(_name_includes_bit_suffix)\n",
      "        2    0.000    0.000    0.000    0.000 utils.py:136(disable_on_exception)\n",
      "        1    0.000    0.000    0.000    0.000 utils.py:215(_supports_unicode)\n",
      "        1    0.000    0.000    0.000    0.000 shape_base.py:81(atleast_2d)\n",
      "        1    0.000    0.000    0.001    0.001 <__array_function__ internals>:177(einsum)\n",
      "        3    0.000    0.000    0.000    0.000 {method 'remove' of 'set' objects}\n",
      "        7    0.000    0.000    0.000    0.000 {method 'split' of 'str' objects}\n",
      "        3    0.000    0.000    0.000    0.000 utils.py:354(is_positive_int)\n",
      "        4    0.000    0.000    0.000    0.000 std.py:112(__enter__)\n",
      "        6    0.000    0.000    0.000    0.000 einsumfunc.py:56(_compute_size_by_dict)\n",
      "        1    0.000    0.000    0.000    0.000 _weakrefset.py:111(remove)\n",
      "        4    0.000    0.000    0.000    0.000 std.py:115(__exit__)\n",
      "        2    0.000    0.000    0.000    0.000 _weakrefset.py:17(__init__)\n",
      "        1    0.000    0.000    0.001    0.001 linecache.py:26(getline)\n",
      "        2    0.000    0.000    0.000    0.000 std.py:1171(__hash__)\n",
      "        2    0.000    0.000    0.000    0.000 _methods.py:38(_amax)\n",
      "        1    0.000    0.000    0.000    0.000 {method 'encode' of 'str' objects}\n",
      "        4    0.000    0.000    0.000    0.000 utils.py:171(__eq__)\n",
      "        1    0.000    0.000    0.000    0.000 fromnumeric.py:2802(amin)\n",
      "        1    0.000    0.000    0.000    0.000 <frozen importlib._bootstrap>:1053(_handle_fromlist)\n",
      "        1    0.000    0.000    0.000    0.000 codecs.py:309(__init__)\n",
      "        2    0.000    0.000    0.000    0.000 _weakrefset.py:21(__enter__)\n",
      "        3    0.000    0.000    0.000    0.000 std.py:228(__init__)\n",
      "        2    0.000    0.000    0.000    0.000 einsumfunc.py:18(_flop_count)\n",
      "        1    0.000    0.000    0.000    0.000 type_check.py:303(iscomplexobj)\n",
      "        3    0.000    0.000    0.000    0.000 {method 'add' of 'set' objects}\n",
      "        1    0.000    0.000    0.000    0.000 <__array_function__ internals>:177(atleast_2d)\n",
      "        1    0.000    0.000    0.001    0.001 <__array_function__ internals>:177(tensordot)\n",
      "        1    0.000    0.000    0.000    0.000 einsumfunc.py:887(<listcomp>)\n",
      "        5    0.000    0.000    0.000    0.000 einsumfunc.py:1001(_einsum_dispatcher)\n",
      "        2    0.000    0.000    0.000    0.000 {method 'min' of 'numpy.ndarray' objects}\n",
      "        1    0.000    0.000    0.000    0.000 {built-in method _codecs.lookup}\n",
      "        1    0.000    0.000    0.000    0.000 _monitor.py:94(report)\n",
      "        1    0.000    0.000    0.000    0.000 <__array_function__ internals>:177(einsum_path)\n",
      "        2    0.000    0.000    0.000    0.000 _ni_support.py:36(_extend_mode_to_code)\n",
      "        1    0.000    0.000    0.001    0.001 <__array_function__ internals>:177(dot)\n",
      "        1    0.000    0.000    0.000    0.000 function_base.py:346(iterable)\n",
      "        1    0.000    0.000    0.000    0.000 {method 'any' of 'numpy.ndarray' objects}\n",
      "        1    0.000    0.000    0.000    0.000 utils.py:105(__init__)\n",
      "        1    0.000    0.000    0.000    0.000 <__array_function__ internals>:177(iscomplexobj)\n",
      "        1    0.000    0.000    0.000    0.000 stride_tricks.py:367(broadcast_to)\n",
      "        1    0.000    0.000    0.000    0.000 <__array_function__ internals>:177(diff)\n",
      "        1    0.000    0.000    0.001    0.001 warnings.py:117(_formatwarnmsg)\n",
      "        1    0.000    0.000    0.000    0.000 std.py:579(<setcomp>)\n",
      "        2    0.000    0.000    0.000    0.000 _dtype.py:24(_kind_name)\n",
      "        2    0.000    0.000    0.000    0.000 _methods.py:42(_amin)\n",
      "        1    0.000    0.000    0.000    0.000 <__array_function__ internals>:177(nonzero)\n",
      "        1    0.000    0.000    0.000    0.000 <__array_function__ internals>:177(amin)\n",
      "        1    0.000    0.000    0.000    0.000 {method 'disable' of '_lsprof.Profiler' objects}\n",
      "        2    0.000    0.000    0.000    0.000 std.py:1167(_comparable)\n",
      "        1    0.000    0.000    0.000    0.000 utils.py:74(__eq__)\n",
      "        1    0.000    0.000    0.000    0.000 numeric.py:505(isfortran)\n",
      "        1    0.000    0.000    0.000    0.000 mutations.py:13(__init__)\n",
      "        1    0.000    0.000    0.000    0.000 {method 'startswith' of 'bytes' objects}\n",
      "        1    0.000    0.000    0.000    0.000 {built-in method builtins.any}\n",
      "        1    0.000    0.000    0.000    0.000 einsumfunc.py:555(<listcomp>)\n",
      "        1    0.000    0.000    0.000    0.000 <__array_function__ internals>:177(broadcast_to)\n",
      "        2    0.000    0.000    0.000    0.000 {built-in method builtins.id}\n",
      "        1    0.000    0.000    0.000    0.000 utils.py:1680(<listcomp>)\n",
      "        1    0.000    0.000    0.000    0.000 codecs.py:260(__init__)\n",
      "        1    0.000    0.000    0.000    0.000 getlimits.py:563(tiny)\n",
      "        3    0.000    0.000    0.000    0.000 stride_tricks.py:345(<genexpr>)\n",
      "        2    0.000    0.000    0.000    0.000 {method 'decode' of 'bytes' objects}\n",
      "        1    0.000    0.000    0.000    0.000 std.py:1161(__del__)\n",
      "        3    0.000    0.000    0.000    0.000 fromnumeric.py:2401(_all_dispatcher)\n",
      "        3    0.000    0.000    0.000    0.000 einsumfunc.py:898(<genexpr>)\n",
      "        1    0.000    0.000    0.000    0.000 einsumfunc.py:1397(<listcomp>)\n",
      "        1    0.000    0.000    0.000    0.000 std.py:657(get_lock)\n",
      "        1    0.000    0.000    0.000    0.000 einsumfunc.py:852(<listcomp>)\n",
      "        1    0.000    0.000    0.000    0.000 {method 'tolist' of 'numpy.ndarray' objects}\n",
      "        2    0.000    0.000    0.000    0.000 {built-in method _weakref.proxy}\n",
      "        2    0.000    0.000    0.000    0.000 {method 'find' of 'str' objects}\n",
      "        1    0.000    0.000    0.000    0.000 utils.py:231(_screen_shape_wrapper)\n",
      "        1    0.000    0.000    0.000    0.000 {method 'endswith' of 'str' objects}\n",
      "        1    0.000    0.000    0.000    0.000 onset.py:607(<listcomp>)\n",
      "        1    0.000    0.000    0.000    0.000 numeric.py:1120(<listcomp>)\n",
      "        4    0.000    0.000    0.000    0.000 {method 'keys' of 'dict' objects}\n",
      "        1    0.000    0.000    0.000    0.000 utils.py:88(__getattr__)\n",
      "        1    0.000    0.000    0.000    0.000 numeric.py:1125(<listcomp>)\n",
      "        1    0.000    0.000    0.000    0.000 einsumfunc.py:858(<listcomp>)\n",
      "        1    0.000    0.000    0.000    0.000 einsumfunc.py:884(<listcomp>)\n",
      "        1    0.000    0.000    0.000    0.000 {method 'group' of 're.Match' objects}\n",
      "        1    0.000    0.000    0.000    0.000 {method 'seek' of '_io.BufferedReader' objects}\n",
      "        2    0.000    0.000    0.000    0.000 {built-in method builtins.iter}\n",
      "        1    0.000    0.000    0.000    0.000 shape_base.py:77(_atleast_2d_dispatcher)\n",
      "        1    0.000    0.000    0.000    0.000 stride_tricks.py:363(_broadcast_to_dispatcher)\n",
      "        1    0.000    0.000    0.000    0.000 {method 'lower' of 'str' objects}\n",
      "        1    0.000    0.000    0.000    0.000 {method 'strip' of 'str' objects}\n",
      "        1    0.000    0.000    0.000    0.000 {method 'upper' of 'str' objects}\n",
      "        1    0.000    0.000    0.000    0.000 multiarray.py:736(dot)\n",
      "        1    0.000    0.000    0.000    0.000 numeric.py:1128(<listcomp>)\n",
      "        1    0.000    0.000    0.000    0.000 numeric.py:1133(<listcomp>)\n",
      "        1    0.000    0.000    0.000    0.000 numeric.py:1134(<listcomp>)\n",
      "        1    0.000    0.000    0.000    0.000 fromnumeric.py:2797(_amin_dispatcher)\n",
      "        1    0.000    0.000    0.000    0.000 type_check.py:206(_is_type_dispatcher)\n",
      "        1    0.000    0.000    0.000    0.000 function_base.py:1315(_diff_dispatcher)\n",
      "        1    0.000    0.000    0.000    0.000 {method '__exit__' of 'numpy.nditer' objects}\n",
      "        1    0.000    0.000    0.000    0.000 {method 'copy' of 'set' objects}\n",
      "        1    0.000    0.000    0.000    0.000 {method 'difference' of 'set' objects}\n",
      "        1    0.000    0.000    0.000    0.000 std.py:1315(<lambda>)\n",
      "        1    0.000    0.000    0.000    0.000 numeric.py:945(_tensordot_dispatcher)\n",
      "        1    0.000    0.000    0.000    0.000 numeric.py:1126(<listcomp>)\n",
      "        1    0.000    0.000    0.000    0.000 fromnumeric.py:1862(_nonzero_dispatcher)\n",
      "        1    0.000    0.000    0.000    0.000 einsumfunc.py:696(_einsum_path_dispatcher)\n",
      "        1    0.000    0.000    0.000    0.000 einsumfunc.py:1376(<listcomp>)\n",
      "        1    0.000    0.000    0.000    0.000 {method 'pop' of 'dict' objects}\n",
      "        1    0.000    0.000    0.000    0.000 {built-in method sys.audit}"
     ]
    }
   ],
   "source": [
    "ex, _ = librosa.load(librosa.ex('nutcracker'), duration=15)\n",
    "%prun base_algorithm_1plus1_multi_offset(target_y=ex, max_steps=250, sample_lib=sample_lib, onset_frac=1)"
   ]
  },
  {
   "attachments": {},
   "cell_type": "markdown",
   "metadata": {},
   "source": [
    "Copy operation optimization"
   ]
  },
  {
   "cell_type": "code",
   "execution_count": 5,
   "metadata": {},
   "outputs": [
    {
     "name": "stdout",
     "output_type": "stream",
     "text": [
      "[(ElectricGuitar, tr131EGLFM, c4), (Violin, tr151VNNVM, fis6), (Viola, tr163VLNVM, fis4)], [(AcousticGuitar, tr111AGRPM, c5), (Cello, tr171VCNOM, b2), (Flute, tr332FLVIM, fis6), (AcousticGuitar, tr113AGAPM, b4)]\n",
      "[(ElectricGuitar, tr131EGLFM, c4), (Violin, tr151VNNVM, fis6), (Viola, tr163VLNVM, fis4)], [(AcousticGuitar, tr111AGRPM, c5), (Cello, tr171VCNOM, b2), (Flute, tr332FLVIM, fis6), (AcousticGuitar, tr113AGAPM, b4)]\n",
      "[(ElectricGuitar, tr131EGLFM, c4), (Violin, tr151VNNVM, fis6), (Viola, tr163VLNVM, fis4), (Violin, tr153VNNVM, ais3)], [(AcousticGuitar, tr111AGRPM, c5), (Cello, tr171VCNOM, b2), (Flute, tr332FLVIM, fis6), (AcousticGuitar, tr113AGAPM, d5)]\n"
     ]
    }
   ],
   "source": [
    "from copy import deepcopy\n",
    "from individual import BaseIndividual\n",
    "from mutations import Mutator\n",
    "individual_1 = BaseIndividual.create_multi_onset_individual(np.array([0, 100]), 1, sample_lib)\n",
    "mutator = Mutator(sample_lib)\n",
    "print(individual_1)\n",
    "temp_ind = deepcopy(individual_1)\n",
    "individual_2 = mutator.mutate_individual(temp_ind)\n",
    "print(individual_1)\n",
    "print(individual_2)"
   ]
  },
  {
   "cell_type": "code",
   "execution_count": 6,
   "metadata": {},
   "outputs": [
    {
     "name": "stdout",
     "output_type": "stream",
     "text": [
      "(Cello, tr173VCNVM, e4), (Flute, tr332FLVIM, f4), (Flute, tr332FLNOM, e4)\n",
      "(Cello, tr173VCNVM, e4), (Flute, tr332FLVIM, f4), (Flute, tr332FLNOM, e4)\n",
      "(Cello, tr173VCNVM, e4), (Flute, tr332FLVIM, f4), (Flute, tr332FLNOM, e4)\n",
      "(Cello, tr173VCNVM, e4), (Flute, tr332FLVIM, a4), (Flute, tr332FLNOM, e4)\n"
     ]
    }
   ],
   "source": [
    "from individual import SampleCollection\n",
    "individual_1 = BaseIndividual.create_multi_onset_individual(np.array([0, 100]), 1, sample_lib)\n",
    "sample_1 = individual_1.sample_collections[0]\n",
    "sample_2 = SampleCollection.from_copy(sample_1)\n",
    "print(sample_1)\n",
    "print(sample_2)\n",
    "mutator.mutate_pitch(sample_2)\n",
    "print(sample_1)\n",
    "print(sample_2)"
   ]
  },
  {
   "cell_type": "code",
   "execution_count": 9,
   "metadata": {},
   "outputs": [
    {
     "name": "stdout",
     "output_type": "stream",
     "text": [
      "[(Cello, tr171VCNOM, g4), (Cello, tr172VCNVM, dis5)], [(Violin, tr153VNNVM, e6), (Violin, tr152VNNVM, a5)]\n",
      "[(Cello, tr171VCNOM, g4), (Cello, tr172VCNVM, dis5)], [(Violin, tr153VNNVM, e6), (Violin, tr152VNNVM, a5)]\n",
      "[(Cello, tr171VCNOM, g4), (Cello, tr172VCNVM, dis5)], [(Violin, tr153VNNVM, e6), (Violin, tr152VNNVM, a5)]\n",
      "[(Cello, tr171VCNVM, f2), (Cello, tr172VCNVM, dis5), (Trumpet, tr211TRNOM, a5)], [(Violin, tr152VNNOM, a5), (Trumpet, trCTpt, a3)]\n"
     ]
    }
   ],
   "source": [
    "from individual import SampleCollection\n",
    "individual_1 = BaseIndividual.create_multi_onset_individual(np.array([0, 100]), 1, sample_lib)\n",
    "individual_2 = BaseIndividual.from_copy(individual_1)\n",
    "print(individual_1)\n",
    "print(individual_2)\n",
    "mutator.mutate_individual(individual_2)\n",
    "print(individual_1)\n",
    "print(individual_2)"
   ]
  },
  {
   "cell_type": "code",
   "execution_count": 10,
   "metadata": {},
   "outputs": [
    {
     "name": "stdout",
     "output_type": "stream",
     "text": [
      "194 µs ± 2.19 µs per loop (mean ± std. dev. of 7 runs, 1,000 loops each)\n",
      "19.8 µs ± 87.8 ns per loop (mean ± std. dev. of 7 runs, 100,000 loops each)\n"
     ]
    }
   ],
   "source": [
    "%timeit deepcopy(individual_1)\n",
    "%timeit BaseIndividual.from_copy(individual_1)"
   ]
  },
  {
   "attachments": {},
   "cell_type": "markdown",
   "metadata": {},
   "source": [
    "# Full Population Testing"
   ]
  },
  {
   "cell_type": "code",
   "execution_count": 8,
   "metadata": {
    "tags": [
     "parameters"
    ]
   },
   "outputs": [],
   "source": [
    "MAX_STEPS = 10000\n",
    "ONSET_FRAC = 0.1\n",
    "POPSIZE = 400\n",
    "N_OFFSPRING = 1"
   ]
  },
  {
   "cell_type": "code",
   "execution_count": 3,
   "metadata": {},
   "outputs": [
    {
     "name": "stderr",
     "output_type": "stream",
     "text": [
      "Initializing Population: 100%|██████████| 400/400 [00:01<00:00, 298.51it/s]\n",
      "Calculating initial fitness: 100%|██████████| 400/400 [00:21<00:00, 18.35it/s]\n",
      "100%|██████████| 3000/3000 [01:19<00:00, 37.73it/s, \t\t\t\t\t\t\t\t\t\t\t\t\t\t\t\t\t\t\t\t\t\t\t\t\t\t\t\t\t\t\t\t\t\t\t\t\t\t\t\t\t\t\t\t\t\t\t\t\t\t\t\t\t\t\t\t\t\t\t\t\t\t\t\t\t\t\t\t\t\t\t\t\t\t\t\t\t\t\t\t\t\t\t\t\t\t\t\t\t\t\t\t\t\t\t\t\t\t\t\tBest individual: [Onset: 62976 | (AcousticGuitar, tr113AGAFM, ais3), (MELODICA_KEY, melodica, d5) | Fitness: 7.18200790777439], [Onset: 621056 | (Viola, tr163VLNVM, gis5), (TURKEY_SAZ, turkey_saz, g4), (Clarinet, Clarinet_Essential, d4) | Fitness: 5.423022103658536], [Onset: 175616 | (Trombone, BassTrombone_SessionHornsPro, d1), (Violin, tr153VNNOM, dis5), (Piano, tr011PFPEM, g5), (AcousticGuitar, tr113AGAFM, d4), (Bassoon, Bassoons_Essential, cis5) | Fitness: 14.211370045731707], [Onset: 472576 | (ElectricPiano, Scarbee_Clavinet_Full_DI, a3), (CUMBUS_OPEN_STRINGS, cumbus, b4), (TURKEY_SAZ, turkey_saz, e5) | Fitness: 7.226913109756097], [Onset: 603136 | (Saxophone, AltoSax_SessionHornsPro, ais3), (Viola, Violas_SessionStringsPro, ais5), (ElectricGuitar, tr131EGLFM, dis4) | Fitness: 9.32578887195122], [Onset: 330752 | (MORIN_KHUUR_VIOLIN_KEY, morin_khuur_violin, f4), (Viola, tr162VLNVM, ais4), (AcousticGuitar, tr112AGAFM, b3) | Fitness: 8.391640625], [Onset: 484352 | (Violin, tr151VNSOM, f6), (Viola, tr161VLSOM, ais3), (Flute, tr332FLVIM, gis4) | Fitness: 8.198084984756097], Fitness: 8.565546806946864]]                \n"
     ]
    }
   ],
   "source": [
    "ex, _ = librosa.load(librosa.ex('nutcracker'), duration=30)\n",
    "result = approximate_piece(target_y=ex, max_steps=MAX_STEPS, sample_lib=sample_lib, onset_frac=ONSET_FRAC, popsize=POPSIZE, n_offspring=N_OFFSPRING)"
   ]
  },
  {
   "cell_type": "code",
   "execution_count": 9,
   "metadata": {},
   "outputs": [
    {
     "name": "stderr",
     "output_type": "stream",
     "text": [
      "Initializing Population: 100%|██████████| 400/400 [00:01<00:00, 276.05it/s]\n",
      "Calculating initial fitness: 100%|██████████| 400/400 [00:21<00:00, 18.32it/s]\n",
      "100%|██████████| 30000/30000 [13:41<00:00, 36.54it/s, \t\t\t\t\t\t\t\t\t\t\t\t\t\t\t\t\t\t\t\t\t\t\t\t\t\t\t\t\t\t\t\t\t\t\t\t\t\t\t\t\t\t\t\t\t\t\t\t\t\t\t\t\t\t\t\t\t\t\t\t\t\t\t\t\t\t\t\t\t\t\t\t\t\t\t\t\t\t\t\t\t\t\t\t\t\t\t\t\t\t\t\t\t\t\t\t\t\t\t\tBest individual: [Onset: 318976 | (Piano, The_Gentleman, f7), (Piano, The_Gentleman, d4), (AcousticGuitar, tr112AGAFM, gis2), (BANJO_FRAMUS, banjo_framus, dis5) | Fitness: 2.8275564500762194], [Onset: 614912 | (AcousticGuitar, tr112AGAFM, gis2), (TURKEY_SAZ, turkey_saz, fis4), (AcousticGuitar, tr113AGRFM, g4), (SHAKUHACHI_KEY, shakuhachi, b3) | Fitness: 1.4497013147865854], [Onset: 594432 | (AcousticGuitar, tr111AGRPM, cis3), (Bass, Basses_Essential, cis4), (PINKILLO_KEY, pinkillo, g5), (BANJO_FRAMUS, banjo_framus, ais2) | Fitness: 3.7699666539634147], [Onset: 125952 | (AcousticGuitar, tr111AGRFM, d5) | Fitness: 2.104592225609756], [Onset: 163328 | (AcousticGuitar, tr111AGRFM, e2) | Fitness: 3.8078125], [Onset: 259584 | (Cello, tr171VCNOM, f4), (ElectricGuitar, tr132EGVFM, dis4), (AcousticGuitar, tr111AGAFM, fis4) | Fitness: 2.99140625], [Onset: 212480 | (Piano, tr013PFPEM, dis5), (FUJARA_KEY, fujara, dis3), (AcousticGuitar, tr111AGRPM, ais3) | Fitness: 3.3469493140243904], Fitness: 2.8997121012086238]]                                                                                                                                                                                   \n"
     ]
    }
   ],
   "source": [
    "ex, _ = librosa.load(librosa.ex('nutcracker'), duration=30)\n",
    "result = approximate_piece(target_y=ex, max_steps=MAX_STEPS, sample_lib=sample_lib, onset_frac=ONSET_FRAC, popsize=POPSIZE, n_offspring=N_OFFSPRING)"
   ]
  },
  {
   "cell_type": "code",
   "execution_count": 9,
   "metadata": {},
   "outputs": [
    {
     "name": "stderr",
     "output_type": "stream",
     "text": [
      "Initializing Population: 100%|██████████| 400/400 [00:01<00:00, 256.41it/s]\n",
      "Calculating initial fitness: 100%|██████████| 400/400 [00:22<00:00, 17.59it/s]\n",
      "100%|██████████| 10000/10000 [05:12<00:00, 32.04it/s, \t\t\t\t\t\t\t\t\t\t\t\t\t\t\t\t\t\t\t\t\t\t\t\t\t\t\t\t\t\t\t\t\t\t\t\t\t\t\t\t\t\t\t\t\t\t\t\t\t\t\t\t\t\t\t\t\t\t\t\t\t\t\t\t\t\t\t\t\t\t\t\t\t\t\t\t\t\t\t\t\t\t\t\t\t\t\t\t\t\t\t\t\t\t\t\t\t\t\t\tBest individual: [Onset: 301568 | (OUD, oud, dis3), (Viola, tr163VLNVM, e3), (AcousticGuitar, tr112AGAFM, gis2), (Contrabassoon, Contrabassoon_Essential, ais3) | Fitness: 3.639306164253049], [Onset: 295424 | (AcousticGuitar, tr111AGAPM, cis5), (Viola, tr161VLSOM, ais3), (Trumpet, Trumpets_Essential, cis3), (AcousticGuitar, tr111AGAPM, e5) | Fitness: 4.828129287347561], [Onset: 307200 | (AcousticGuitar, tr111AGAPM, d5), (Piano, Alicias_Keys, g1), (Trumpet, tr211TRVIM, d4) | Fitness: 5.361230945121951], [Onset: 138240 | (ElectricPiano, Scarbee_Pianet_DI, ais4), (Piano, tr011PFNOM, fis5) | Fitness: 5.6667911585365855], [Onset: 621056 | (Cello, Cellos_Essential, d2), (Flute, tr331FLNOM, e5), (PINKILLO_KEY, pinkillo, dis5) | Fitness: 2.0832369474085364], [Onset: 236032 | (Piano, tr011PFPEM, e3), (Piano, tr012PFPM, fis4), (AcousticGuitar, tr111AGAPM, dis3) | Fitness: 6.50011337652439], [Onset: 414720 | (Viola, tr162VLNVM, b4), (OUD, oud, gis2), (BANJO_FRAMUS, banjo_framus, cis4) | Fitness: 5.32760575457317], Fitness: 4.7723448048236055]]                                                                                                                                                                            \n"
     ]
    }
   ],
   "source": [
    "# Logging test\n",
    "ex, _ = librosa.load(librosa.ex('nutcracker'), duration=30)\n",
    "logger = PopulationLogger()\n",
    "result = approximate_piece(target_y=ex, max_steps=MAX_STEPS, sample_lib=sample_lib, onset_frac=ONSET_FRAC, popsize=POPSIZE, n_offspring=N_OFFSPRING, logger=logger)"
   ]
  },
  {
   "cell_type": "code",
   "execution_count": 22,
   "metadata": {},
   "outputs": [
    {
     "data": {
      "text/plain": [
       "<matplotlib.legend.Legend at 0x25a5d390460>"
      ]
     },
     "execution_count": 22,
     "metadata": {},
     "output_type": "execute_result"
    },
    {
     "data": {
      "image/png": "[encoded data removed]",
      "text/plain": [
       "<Figure size 640x480 with 1 Axes>"
      ]
     },
     "metadata": {},
     "output_type": "display_data"
    }
   ],
   "source": [
    "import matplotlib.pyplot as plt\n",
    "plt.plot(logger.logged_steps, logger.mean_fitness, \"b\", label=\"mean individual fitness\")\n",
    "plt.plot(logger.logged_steps, logger.mean_fitness_best_records, \"g\", label=\"mean best record fitness\")\n",
    "plt.plot(logger.logged_steps, logger.elitist_fitness, \"r\", label=\"elitist individual fitness\")\n",
    "plt.xlabel(\"Steps\")\n",
    "plt.ylabel(\"Fitness\")\n",
    "plt.ylim((4, 10))\n",
    "plt.legend()\n"
   ]
  },
  {
   "cell_type": "code",
   "execution_count": 18,
   "metadata": {},
   "outputs": [
    {
     "data": {
      "text/plain": [
       "[0.3388488471798783,\n",
       " 0.7047827743902442,\n",
       " 3.3165158155487804,\n",
       " 3.9930766482469515,\n",
       " 1.0116134717987804,\n",
       " 3.2051209984756097,\n",
       " 3.4653670445884144]"
      ]
     },
     "execution_count": 18,
     "metadata": {},
     "output_type": "execute_result"
    }
   ],
   "source": [
    "share = [collection for collection in result.get_best_individual().sample_collections.values() if collection == result.best_collections_per_onset[collection.onset]]\n",
    "len(share)\n",
    "distances = [collection.fitness - result.best_collections_per_onset[collection.onset].fitness for collection in result.get_best_individual().sample_collections.values()]\n",
    "distances"
   ]
  },
  {
   "cell_type": "code",
   "execution_count": 10,
   "metadata": {},
   "outputs": [
    {
     "name": "stdout",
     "output_type": "stream",
     "text": [
      "Onset: 212480 | (AcousticGuitar, tr113AGRFM, ais3), (FUJARA_KEY, fujara, dis4), (AcousticGuitar, tr113AGAFM, g2) | Fitness: 1.7776495807926829\n",
      "Onset: 259584 | (ElectricBass, Scarbee_Rickenbacker_Bass_Crunsher, fis3), (AcousticGuitar, tr111AGRFM, fis4), (Bassoon, Bassoons_Essential, g2) | Fitness: 1.6483517530487806\n",
      "Onset: 414720 | (AcousticGuitar, tr111AGAPM, cis5), (ElectricPiano, Scarbee_A200_WheresWallee, e3), (Viola, tr162VLNOM, dis3) | Fitness: 2.1652405678353657\n",
      "Onset: 372224 | (AcousticGuitar, tr112AGRFM, a3), (PINKILLO_KEY, pinkillo, d5), (DALLAPE_ACCORDION_KEY, dallape_accordion, d2), (PANFLUTE_KEY, panflute, a2) | Fitness: 17.39076219512195\n",
      "Onset: 566784 | (AcousticGuitar, tr113AGAFM, g2), (ElectricBass, Scarbee_JayBass_Slap_Neck, g3), (Trombone, BassTrombone_SessionHornsPro, gis1) | Fitness: 2.794596512957317\n",
      "Onset: 342528 | (Flute, tr331FLVIM, cis4), (Flute, trFltnvib, a4) | Fitness: 8.320756478658536\n",
      "Onset: 366080 | (Bassoon, Bassoons_Essential, dis3), (Flute, tr332FLNOM, b5) | Fitness: 7.242317073170732\n",
      "Onset: 472576 | (Violin, Violins1_Essential, b3), (Flute, trflute.novib.mf, dis5), (ElectricPiano, Scarbee_MarkI_PinkPlayboy, ais1) | Fitness: 1.9370598323170731\n",
      "Onset: 283136 | (BAWU_KEY, bawu, f5), (KANTELE_LOW_WIDE_RANGE, kantele, gis5), (FUJARA_KEY, fujara, ais3), (Flute, trFltnvib, d4) | Fitness: 4.412318978658536\n",
      "Onset: 325120 | (AcousticGuitar, tr111AGRPM, gis3), (AcousticGuitar, tr113AGAFM, fis3), (BANDURA, bandura, dis3) | Fitness: 3.4554525533536586\n",
      "Onset: 112640 | (AcousticGuitar, tr111AGRFM, gis2), (Organ, Basic_Jazz_2, cis2), (DOMRA_KEY, domra, c3) | Fitness: 2.676768292682927\n",
      "Onset: 301568 | (AcousticGuitar, tr111AGAPM, b3), (EGYPTIAN_FIDDLE, egyptian_fiddle, e4) | Fitness: 6.640321074695122\n",
      "Onset: 175616 | (ElectricGuitar, tr132EGLPM, fis4), (Flute, trflute.novib.mf, a4) | Fitness: 8.076939786585365\n",
      "Onset: 519680 | (FUJARA_KEY, fujara, g4), (Tuba, Tuba_SessionHornsPro, d4), (AcousticGuitar, tr113AGAFM, fis3), (Trombone, Trombone_Essential, g1), (BALALAIKA_KEY, balalaika, f5) | Fitness: 3.9641844512195124\n",
      "Onset: 26112 | (Piano, tr011PFNOM, cis4) | Fitness: 6.010635480182927\n",
      "Onset: 125952 | (AcousticGuitar, tr111AGRFM, g2), (DOMRA_KEY, domra, e3) | Fitness: 1.5190196265243903\n",
      "Onset: 271872 | (PIVANA_FLUTE_KEY, pivana_flute, c5), (Trumpet, tr211TRVIM, e5) | Fitness: 4.471458650914634\n",
      "Onset: 651264 | (Cello, tr172VCNOM, f3), (Flute, tr332FLNOM, g4), (Flute, trflute.novib.mf, a5) | Fitness: 6.122504763719512\n",
      "Onset: 51200 | (OUD, oud, d3), (Piano, The_Maverick, dis6), (AcousticGuitar, tr111AGRFM, d5), (BANJO_FRAMUS, banjo_framus, e3) | Fitness: 9.391852134146342\n",
      "Onset: 460800 | (AcousticGuitar, tr113AGRPM, g4), (ElectricGuitar, tr133EGLFM, f3), (AcousticGuitar, tr111AGAPM, g4), (CUMBUS_OPEN_STRINGS, cumbus, gis2) | Fitness: 3.771748285060976\n",
      "Onset: 601088 | (Organ, C3_Jazz, b2), (Horn, Flugelhorn_SessionHornsPro, a5), (Trombone, TenorTrombone_SessionHornsPro, e2), (ElectricBass, Scarbee_PreBass, c4), (Flute, trFltnvib, d4) | Fitness: 5.4152924923780485\n",
      "Onset: 425472 | (Piano, The_Gentleman, fis4), (TURKEY_SAZ, turkey_saz, g2), (Flute, trflute.novib.mf, d6), (ElectricBass, Scarbee_MMBass, b0) | Fitness: 3.4751379096798782\n",
      "Onset: 438272 | (AcousticGuitar, tr113AGRFM, gis3), (Trombone, BassTrombone_SessionHornsPro, d2), (SHAKUHACHI_KEY, shakuhachi, g4) | Fitness: 3.2363555163871953\n",
      "Onset: 354304 | (ElectricPiano, Scarbee_Pianet_DI, f3), (AcousticGuitar, tr112AGAFM, ais2), (Flute, tr331FLVIM, ais5), (ElectricPiano, Scarbee_MarkI_PinkPlayboy, b3) | Fitness: 4.369783727134147\n",
      "Onset: 514048 | (ElectricPiano, Scarbee_Pianet_DI, ais1), (Flute, tr332FLVIM, fis4), (Violin, Violins2_Essential, e4), (Bassoon, Bassoons_Essential, gis1) | Fitness: 6.1646193788109755\n",
      "Onset: 248320 | (BANDURA, bandura, dis5), (AcousticGuitar, tr112AGRFM, f3) | Fitness: 4.0915891768292685\n",
      "Onset: 37888 | (AcousticGuitar, tr111AGAPM, e5), (ElectricPiano, Scarbee_Clavinet_Full_DI, c6) | Fitness: 4.4757088414634145\n",
      "Onset: 377856 | (MORIN_KHUUR_VIOLIN_KEY, morin_khuur_violin, d3), (TANBUR, tanbur, a4), (AcousticGuitar, tr113AGRFM, fis2) | Fitness: 3.6659451219512196\n",
      "Onset: 543232 | (Trumpet, Trumpet_Essential, d6), (AcousticGuitar, tr113AGRPM, cis5), (MORIN_KHUUR_VIOLIN_KEY, morin_khuur_violin, e4) | Fitness: 4.416537728658537\n",
      "Onset: 62976 | (Piano, The_Gentleman, g4), (BAWU_KEY, bawu, cis5), (Piano, tr013PFPEM, b2) | Fitness: 5.773802400914634\n",
      "Onset: 484352 | (Flute, tr332FLVIM, b5), (TURKEY_SAZ, turkey_saz, dis4), (Violin, tr153VNNOM, a5), (ElectricPiano, Scarbee_Pianet_DI, g1) | Fitness: 5.293270769817073\n",
      "Onset: 307200 | (Piano, tr013PFNOM, d5), (Piano, tr013PFNOM, a5), (Piano, The_Maverick, e6) | Fitness: 2.575208650914634\n",
      "Onset: 242176 | (Piano, tr011PFNOM, ais5), (Trumpet, tr211TRVIM, e4), (UKULELE_KEY, ukulele, a3) | Fitness: 5.19625381097561\n",
      "Onset: 555520 | (AcousticGuitar, tr111AGAFM, fis4), (Bass, Basses_Essential, g2), (ERHU_KEY, erhu_key, c6), (Bass, Basses_Essential, dis2), (Piano, tr011PFNOM, ais2) | Fitness: 5.401627286585366\n",
      "Onset: 449024 | (TAMPURA_P_AND_BROTHERS, tampura, g2), (AcousticGuitar, tr113AGRFM, ais3) | Fitness: 8.608254573170731\n",
      "Onset: 507904 | (FUJARA_KEY, fujara, fis5), (Violin, tr153VNNVM, cis4), (Piano, tr013PFNOM, gis5), (Trumpet, tr211TRVIM, g3) | Fitness: 3.189623427972561\n",
      "Onset: 496128 | (Trumpet, tr211TRVIM, e5), (Flute, tr332FLVIM, g4), (Cello, tr171VCNVM, f3), (AcousticGuitar, tr113AGRPM, ais4) | Fitness: 4.461154725609756\n",
      "Onset: 490496 | (FUJARA_KEY, fujara, e4), (CEYLON_GUITAR, ceylon_guitar, d3), (AcousticGuitar, tr112AGAFM, f2), (KANTELE_LOW_WIDE_RANGE, kantele, c2) | Fitness: 3.052388290777439\n",
      "Onset: 538112 | (Saxophone, Saxophones_Essential, fis3), (Piano, tr011PFNOM, g2) | Fitness: 12.329825647865853\n",
      "Onset: 638976 | (AcousticGuitar, tr113AGRFM, a2), (Viola, tr163VLNOM, e4), (KANTELE_LOW_WIDE_RANGE, kantele, c3) | Fitness: 6.723966749237805\n",
      "Onset: 295424 | (ElectricPiano, Scarbee_MarkI_DI, cis1), (AcousticGuitar, tr111AGRFM, fis3), (Trombone, BassTrombone_SessionHornsPro, fis1), (Organ, C3_Jazz, gis5), (BANJO_FRAMUS, banjo_framus, cis3) | Fitness: 7.272437118902439\n",
      "Onset: 603136 | (Bass, Basses_Essential, e1), (Flute, trflute.novib.mf, cis6), (Trombone, BassTrombone_SessionHornsPro, a3) | Fitness: 2.714400724085366\n",
      "Onset: 627200 | (FUJARA_KEY, fujara, f3), (Violin, tr151VNNOM, a3), (SHAKUHACHI_KEY, shakuhachi, b3) | Fitness: 7.946049923780488\n",
      "Onset: 163328 | (AcousticGuitar, tr112AGAFM, gis2), (DUNG_DKAR_TRUMPET_KEY, dung_dkar_trumpet, f3) | Fitness: 1.851841534870427\n",
      "Onset: 390144 | (ElectricGuitar, tr131EGVFM, a2), (Piano, tr011PFPEM, a2), (AcousticGuitar, tr113AGRFM, b3), (Cello, tr171VCNVM, g5), (Bass, Basses_Essential, b1) | Fitness: 3.355070026676829\n",
      "Onset: 101376 | (AcousticGuitar, tr112AGAPM, b2), (AcousticGuitar, tr112AGRFM, f3) | Fitness: 4.701329077743902\n",
      "Onset: 330752 | (Tuba, Tuba_Essential, g2), (DILRUBA_KEY, dilruba, fis5), (ElectricGuitar, tr132EGLPM, c5), (Flute, trflute.novib.mf, e4) | Fitness: 6.041215701219512\n",
      "Onset: 236032 | (ElectricPiano, Scarbee_A200_WheresWallee, a2), (Violin, tr151VNNVM, gis5), (Trumpet, trCTpt, b4) | Fitness: 5.008002096036585\n",
      "Onset: 88064 | (ElectricGuitar, tr131EGVFM, d4), (TURKEY_SAZ, turkey_saz, cis4) | Fitness: 11.091647294207316\n",
      "Onset: 187904 | (AcousticGuitar, tr111AGRFM, d3), (DUNG_DKAR_TRUMPET_KEY, dung_dkar_trumpet, dis4) | Fitness: 1.678461199504573\n",
      "Onset: 348672 | (Viola, tr161VLNVM, e4), (AcousticGuitar, tr112AGRPM, gis4), (AcousticGuitar, tr113AGRFM, dis3) | Fitness: 5.786269054878049\n",
      "Onset: 621056 | (ElectricPiano, Scarbee_Pianet_DI, dis3), (Violin, tr153VNNVM, gis4), (OUD, oud, g2), (Bass, Basses_Essential, e2) | Fitness: 1.5790744092987805\n",
      "Onset: 384512 | (CEYLON_GUITAR, ceylon_guitar, cis3), (Violin, tr153VNNOM, ais4), (Cello, tr172VCNOM, e4) | Fitness: 5.353946265243902\n",
      "Onset: 151040 | (Flute, trFltnvib, f6), (Violin, tr153VNNVM, dis4), (Horn, Horn1_Essential, g5) | Fitness: 9.734838033536585\n",
      "Onset: 531456 | (Flute, trFltnvib, c6), (CUMBUS_OPEN_STRINGS, cumbus, a3), (ElectricGuitar, tr131EGVPM, f4) | Fitness: 7.354417397103658\n",
      "Onset: 76288 | (AcousticGuitar, tr111AGRFM, fis4), (BANJO_FRAMUS, banjo_framus, c5), (Organ, C3_Jazz, f2) | Fitness: 4.774695598323171\n",
      "Onset: 138240 | (AcousticGuitar, tr113AGAPM, c3) | Fitness: 4.501502477134147\n",
      "Onset: 318976 | (Piano, The_Gentleman, f7), (AcousticGuitar, tr112AGAFM, gis2), (BANJO_FRAMUS, banjo_framus, d6), (DUNG_DKAR_TRUMPET_KEY, dung_dkar_trumpet, cis5) | Fitness: 1.9492593607088415\n",
      "Onset: 594432 | (AcousticGuitar, tr113AGAPM, gis3), (Bass, Basses_Essential, f1), (PINKILLO_KEY, pinkillo, f6), (ElectricGuitar, tr132EGVPM, b4) | Fitness: 1.871680282964939\n",
      "Onset: 201216 | (Piano, tr013PFNOM, d2), (SHAKUHACHI_KEY, shakuhachi, dis4), (Piano, tr011PFNOM, d5) | Fitness: 9.912482850609756\n",
      "Onset: 578560 | (Piano, Alicias_Keys, cis7), (Contrabassoon, Contrabassoon_Essential, e1) | Fitness: 3.5729501714939023\n",
      "Onset: 614912 | (AcousticGuitar, tr112AGAFM, gis2), (TURKEY_SAZ, turkey_saz, c3), (SHAKUHACHI_KEY, shakuhachi, c5) | Fitness: 1.1385296779725609\n",
      "Onset: 224768 | (Bass, Basses_SessionStringsPro, gis2), (AcousticGuitar, tr113AGAFM, gis2) | Fitness: 1.6418984613185976\n"
     ]
    }
   ],
   "source": [
    "print(\"\\n\".join([str(collection) for collection in result.best_collections_per_onset.values()])) # g = 30000"
   ]
  },
  {
   "cell_type": "code",
   "execution_count": 7,
   "metadata": {},
   "outputs": [
    {
     "name": "stdout",
     "output_type": "stream",
     "text": [
      "Onset: 372224 | (Trumpet, tr211TRVIM, e3), (Violin, Violins_SessionStringsPro, c7) | Fitness: 18.096575838414633\n",
      "Onset: 490496 | (AcousticGuitar, tr112AGRPM, e2), (SITAR_KEY, sitar, gis4), (Violin, tr152VNNVM, a4) | Fitness: 8.062132240853659\n",
      "Onset: 62976 | (Piano, tr011PFNOM, dis5), (AcousticGuitar, tr113AGAFM, cis4) | Fitness: 2.854128239329268\n",
      "Onset: 460800 | (AcousticGuitar, tr112AGAFM, gis3), (Piano, The_Giant_soft, dis7), (SHAKUHACHI_KEY, shakuhachi, cis5) | Fitness: 3.379405011432927\n",
      "Onset: 614912 | (MORIN_KHUUR_VIOLIN_KEY, morin_khuur_violin, b4), (AcousticGuitar, tr112AGRPM, g3), (DUNG_DKAR_TRUMPET_KEY, dung_dkar_trumpet, c5) | Fitness: 2.8543564214939026\n",
      "Onset: 519680 | (CEYLON_GUITAR, ceylon_guitar, d2), (Violin, tr152VNNOM, a5), (Flute, trflute.novib.mf, dis5), (BOUZOUKI_SAKIS_KEY, boizouki, ais4), (KANTELE_LOW_WIDE_RANGE, kantele, dis5) | Fitness: 8.205895579268292\n",
      "Onset: 236032 | (ERHU_KEY, erhu_key, ais4), (Flute, tr332FLNOM, d6), (Flute, trFltnvib, d4), (UKULELE_KEY, ukulele, gis4), (FUJARA_KEY, fujara, ais4) | Fitness: 4.521115663109756\n",
      "Onset: 507904 | (AcousticGuitar, tr113AGRFM, g3), (Horn, Flugelhorn_SessionHornsPro, f4), (BOUZOUKI_SAKIS_KEY, boizouki, cis3) | Fitness: 5.250528772865854\n",
      "Onset: 438272 | (BANJOLIN, banjolin, e5), (Organ, C3_Jazz, fis1), (Flute, trFltnvib, fis6), (BAWU_KEY, bawu, e4), (Flute, tr332FLNOM, dis4) | Fitness: 5.050678353658537\n",
      "Onset: 163328 | (Piano, The_Gentleman, e7), (Organ, C3_Jazz, d3), (AcousticGuitar, tr111AGAFM, g2) | Fitness: 5.996546303353658\n",
      "Onset: 555520 | (MELODICA_KEY, melodica, e4), (Trombone, Trombone_Essential, f2), (AcousticGuitar, tr112AGRFM, e5), (Bassoon, Bassoons_Essential, ais4), (Contrabassoon, Contrabassoon_Essential, cis1) | Fitness: 4.851150914634147\n",
      "Onset: 531456 | (Flute, trFltnvib, c6), (TANBUR, tanbur, c5), (Viola, tr161VLSOM, c3) | Fitness: 5.5463366996951216\n",
      "Onset: 76288 | (AcousticGuitar, tr111AGAFM, dis5), (AcousticGuitar, tr112AGAPM, dis5) | Fitness: 6.8537723894817075\n",
      "Onset: 514048 | (Saxophone, Saxophone_Essential, ais3), (Flute, trflute.novib.mf, e6), (OUD, oud, a3), (ElectricBass, Scarbee_Rickenbacker_Bass_Crunsher, d2), (PANFLUTE_KEY, panflute, e4) | Fitness: 11.136310975609756\n",
      "Onset: 112640 | (KANTELE_LOW_WIDE_RANGE, kantele, gis1), (AcousticGuitar, tr112AGRPM, gis3) | Fitness: 3.853589700838415\n",
      "Onset: 330752 | (MORIN_KHUUR_VIOLIN_KEY, morin_khuur_violin, b3), (Piano, tr011PFPEM, f5), (AcousticGuitar, tr111AGRPM, e3) | Fitness: 7.704180640243902\n",
      "Onset: 295424 | (Bass, Basses_Essential, fis2), (AcousticGuitar, tr112AGAFM, gis3), (Viola, tr161VLSOM, d6) | Fitness: 6.896455792682927\n",
      "Onset: 377856 | (ElectricBass, Scarbee_JayBass_Slap_Neck, e2), (ERHU_KEY, erhu_key, c4), (ERHU_KEY, erhu_key, a4), (AcousticGuitar, tr112AGRFM, e5) | Fitness: 9.31874237804878\n",
      "Onset: 627200 | (EGYPTIAN_FIDDLE, egyptian_fiddle, c5), (AcousticGuitar, tr113AGRPM, a4), (Trumpet, tr211TRVIM, d5) | Fitness: 6.464111089939024\n",
      "Onset: 259584 | (Flute, tr331FLNOM, e6), (KANTELE_LOW_WIDE_RANGE, kantele, d5), (FUJARA_KEY, fujara, g2) | Fitness: 4.002285632621951\n",
      "Onset: 325120 | (Horn, Horns_Essential, dis4), (Flute, tr332FLNOM, b5) | Fitness: 5.881106612042683\n",
      "Onset: 543232 | (Flute, trFltnvib, c5), (Piano, tr011PFNOM, g5) | Fitness: 5.096514862804878\n",
      "Onset: 354304 | (Cello, tr173VCNVM, fis4), (Tuba, Tubas_Essential, ais4), (Piano, Alicias_Keys, cis6), (OUD, oud, ais4) | Fitness: 4.623233612804878\n",
      "Onset: 651264 | (ElectricPiano, Scarbee_MarkI_PinkPlayboy, c1), (Flute, trflute.novib.mf, a5), (Viola, tr161VLSOM, cis5), (Cello, tr173VCNVM, a4) | Fitness: 7.003178353658536\n",
      "Onset: 638976 | (BALALAIKA_KEY, balalaika, dis3), (ElectricPiano, Scarbee_A200_WheresWallee, d6), (Trumpet, trCTpt, g3), (Saxophone, BaritoneSax_SessionHornsPro, e4) | Fitness: 7.570479230182927\n",
      "Onset: 125952 | (Piano, tr013PFNOM, fis6) | Fitness: 4.917358993902439\n",
      "Onset: 601088 | (CEYLON_GUITAR, ceylon_guitar, f3), (Bassoon, Basson_Essential, c2), (AcousticGuitar, tr111AGRFM, c3), (BANJO_FRAMUS, banjo_framus, fis5) | Fitness: 5.979427877286585\n",
      "Onset: 151040 | (Flute, tr331FLVIM, cis4) | Fitness: 9.429291158536586\n",
      "Onset: 342528 | (Piano, tr011PFPEM, c3), (ERHU_KEY, erhu_key, c6), (SHAKUHACHI_KEY, shakuhachi, f4), (FUJARA_KEY, fujara, b4), (BANDURA, bandura, cis2) | Fitness: 10.561431974085366\n",
      "Onset: 603136 | (Horn, Flugelhorn_SessionHornsPro, ais3), (Piano, Alicias_Keys, b5), (MORIN_KHUUR_VIOLIN_KEY, morin_khuur_violin, g5), (DILRUBA_KEY, dilruba, g3) | Fitness: 3.0105997522865855\n",
      "Onset: 271872 | (Cello, tr171VCNOM, cis2), (Viola, tr163VLNVM, ais3), (Flute, tr332FLNOM, e5), (Tuba, Tubas_Essential, fis4) | Fitness: 3.4621493902439022\n",
      "Onset: 26112 | (AcousticGuitar, tr111AGAPM, e5), (CUMBUS_OPEN_STRINGS, cumbus, c3) | Fitness: 8.174035823170732\n",
      "Onset: 101376 | (SHAKUHACHI_KEY, shakuhachi, c5), (AcousticGuitar, tr113AGAFM, cis3) | Fitness: 6.4268535632621955\n",
      "Onset: 578560 | (Flute, trflute.novib.mf, cis4), (ElectricBass, Scarbee_MMBass, dis4), (AcousticGuitar, tr111AGAPM, g4) | Fitness: 3.5875381097560974\n",
      "Onset: 496128 | (AcousticGuitar, tr111AGAFM, g2), (Contrabassoon, Contrabassoon_Essential, ais0), (Bass, Basses_SessionStringsPro, f2) | Fitness: 3.156569883765244\n",
      "Onset: 484352 | (PIVANA_FLUTE_KEY, pivana_flute, g5), (AcousticGuitar, tr112AGRFM, ais2), (Violin, tr151VNNVM, a3), (ElectricBass, Scarbee_Rickenbacker_Bass_PalmMuted, cis3) | Fitness: 4.087047446646341\n",
      "Onset: 566784 | (KANTELE_LOW_WIDE_RANGE, kantele, dis1), (KANTELE_LOW_WIDE_RANGE, kantele, d5), (Violin, tr153VNNOM, f5), (FUJARA_KEY, fujara, g6) | Fitness: 5.973310785060976\n",
      "Onset: 37888 | (DUNG_DKAR_TRUMPET_KEY, dung_dkar_trumpet, gis3), (AcousticGuitar, tr111AGAPM, g4) | Fitness: 4.981370522103658\n",
      "Onset: 449024 | (ElectricPiano, Scarbee_Pianet_DI, dis5), (AcousticGuitar, tr111AGRPM, g2), (Contrabassoon, Contrabassoon_Essential, b0) | Fitness: 5.70620331554878\n",
      "Onset: 187904 | (AcousticGuitar, tr111AGAPM, f3), (Violin, tr153VNNVM, g5) | Fitness: 5.711263338414634\n",
      "Onset: 307200 | (Piano, The_Gentleman, g2), (MELODICA_KEY, melodica, c6), (Horn, Horns_Essential, fis2), (Flute, trflute.novib.mf, c6) | Fitness: 4.0097918254573175\n",
      "Onset: 390144 | (MORIN_KHUUR_VIOLIN_KEY, morin_khuur_violin, e3), (AcousticGuitar, tr113AGAPM, fis2), (Cello, tr171VCSOM, f4) | Fitness: 4.010443025914634\n",
      "Onset: 594432 | (Organ, Little_Girl, ais1), (AcousticGuitar, tr111AGRFM, b2), (Flute, tr331FLNOM, b5) | Fitness: 3.501355516387195\n",
      "Onset: 88064 | (AcousticGuitar, tr113AGRFM, c5), (ElectricGuitar, tr133EGLFM, d4) | Fitness: 5.814381669207317\n",
      "Onset: 472576 | (UKULELE_KEY, ukulele, b3), (MORIN_KHUUR_VIOLIN_KEY, morin_khuur_violin, d4), (AcousticGuitar, tr113AGAPM, a2) | Fitness: 3.073528487042683\n",
      "Onset: 175616 | (AcousticGuitar, tr112AGAFM, b3), (AcousticGuitar, tr111AGAFM, g2) | Fitness: 4.785127667682927\n",
      "Onset: 318976 | (AcousticGuitar, tr111AGAPM, cis3), (CUMBUS_OPEN_STRINGS, cumbus, d3), (ElectricGuitar, tr131EGLFM, b3) | Fitness: 3.306372665777439\n",
      "Onset: 301568 | (Viola, tr161VLNOM, cis4), (AcousticGuitar, tr112AGAFM, fis4), (CEYLON_GUITAR, ceylon_guitar, dis3) | Fitness: 6.149145865091463\n",
      "Onset: 138240 | (AcousticGuitar, tr112AGAFM, fis4), (Trumpet, tr212TRNOM, g4) | Fitness: 4.803449885670732\n",
      "Onset: 224768 | (ElectricPiano, Scarbee_A200_DI, c1), (Flute, tr331FLVIM, cis4), (SITAR_KEY, sitar, g4) | Fitness: 11.277127477134146\n",
      "Onset: 51200 | (CEYLON_GUITAR, ceylon_guitar, ais3), (AcousticGuitar, tr112AGRFM, dis4), (AcousticGuitar, tr113AGRFM, fis2), (ElectricPiano, Scarbee_A200_DI, dis1), (AcousticGuitar, tr113AGAPM, f2) | Fitness: 6.681562023628048\n",
      "Onset: 283136 | (CEYLON_GUITAR, ceylon_guitar, fis2), (AcousticGuitar, tr113AGAFM, gis2) | Fitness: 4.148449885670732\n",
      "Onset: 414720 | (ElectricGuitar, tr131EGLPM, cis4), (Piano, The_Grandeur, f1), (AcousticGuitar, tr112AGRFM, c4), (Trombone, Trombone_Essential, g4) | Fitness: 2.1720302972560974\n",
      "Onset: 212480 | (Piano, The_Gentleman, e4), (ERHU_KEY, erhu_key, gis5), (ElectricPiano, Scarbee_A200_DI, g6) | Fitness: 9.91186737804878\n",
      "Onset: 366080 | (TANBUR, tanbur, c2), (SCALE_CHANGER_HARMONIUM, scale_changer_harmonium, c4), (AcousticGuitar, tr112AGAFM, ais2) | Fitness: 6.0168364138719515\n",
      "Onset: 425472 | (TAMPURA_P_AND_BROTHERS, tampura, c3), (AcousticGuitar, tr112AGRPM, cis4), (BANJO_FRAMUS, banjo_framus, b2) | Fitness: 2.724678925304878\n",
      "Onset: 538112 | (AcousticGuitar, tr111AGAFM, d4), (Violin, tr152VNNOM, c4), (SHAKUHACHI_KEY, shakuhachi, cis5), (BANJO_FRAMUS, banjo_framus, a4) | Fitness: 12.487540967987805\n",
      "Onset: 621056 | (Trombone, Trombones_Essential, c3), (Flute, tr332FLVIM, fis4), (Piano, The_Giant_hard, ais0) | Fitness: 1.5358852181783536\n",
      "Onset: 348672 | (PIVANA_FLUTE_KEY, pivana_flute, fis5), (ERHU_KEY, erhu_key, cis5), (AcousticGuitar, tr112AGRPM, a3) | Fitness: 4.137566215701219\n",
      "Onset: 384512 | (Saxophone, TenorSax_SessionHornsPro, c4), (Bassoon, Bassoons_Essential, a2), (AcousticGuitar, tr112AGAFM, cis3) | Fitness: 7.730934641768292\n",
      "Onset: 242176 | (AcousticGuitar, tr112AGAFM, e3), (BANJOLIN, banjolin, a3) | Fitness: 8.054717987804878\n",
      "Onset: 248320 | (ElectricPiano, Scarbee_MarkI_PinkPlayboy, gis6), (Tuba, Tubas_Essential, fis2), (PINKILLO_KEY, pinkillo, e6) | Fitness: 5.534737519054878\n",
      "Onset: 201216 | (Tuba, Tubas_Essential, gis3), (KANTELE_LOW_WIDE_RANGE, kantele, fis1), (AcousticGuitar, tr112AGAPM, b4) | Fitness: 9.125353467987805\n"
     ]
    }
   ],
   "source": [
    "print(\"\\n\".join([str(collection) for collection in result.best_collections_per_onset.values()])) # g = 3000"
   ]
  },
  {
   "cell_type": "code",
   "execution_count": 11,
   "metadata": {},
   "outputs": [],
   "source": [
    "result.save_as_file(\"30k_gen_nutcracker.pkl\")"
   ]
  },
  {
   "cell_type": "code",
   "execution_count": 2,
   "metadata": {},
   "outputs": [],
   "source": [
    "loaded = Population.from_file(\"test.pkl\")"
   ]
  },
  {
   "attachments": {},
   "cell_type": "markdown",
   "metadata": {},
   "source": [
    "Multithreading POC"
   ]
  },
  {
   "cell_type": "code",
   "execution_count": 21,
   "metadata": {},
   "outputs": [
    {
     "name": "stderr",
     "output_type": "stream",
     "text": [
      "Initializing Population: 100%|██████████| 400/400 [00:01<00:00, 288.08it/s]\n",
      "Calculating initial fitness: 100%|██████████| 400/400 [00:11<00:00, 34.20it/s]\n",
      "100%|██████████| 30000/30000 [06:44<00:00, 74.10it/s] \n"
     ]
    }
   ],
   "source": [
    "def single_step(population:Population, n_offspring:int, target:Target, mutator:Mutator):\n",
    "    # Create lambda offspring\n",
    "    parents = np.random.choice(len(population.individuals), size=n_offspring)\n",
    "    offspring = [mutator.mutate_individual(BaseIndividual.from_copy(population.individuals[individual_idx])) for individual_idx in parents]\n",
    "    \n",
    "    # Evaluate fitness of offspring\n",
    "    for individual in offspring:\n",
    "        individual.fitness = multi_onset_fitness_cached(target, individual)\n",
    "        # Insert individual into population\n",
    "        population.insert_individual(individual)\n",
    "    \n",
    "    # Remove lambda worst individuals\n",
    "    population.remove_worst(n_offspring)\n",
    "\n",
    "    # Update progress bar\n",
    "    #pbar.set_postfix_str('\\t' * 100 + f\"Best individual: {str(population.get_best_individual())}\")\n",
    "\n",
    "def approximate_piece_multithreaded(target_y:Union[np.ndarray, list], max_steps:int, sample_lib:SampleLibrary, popsize:int, n_offspring:int, onset_frac:float, n_threads:int) -> Population:\n",
    "    \"\"\"Evolutionary approximation of a polyphonic musical piece\n",
    "\n",
    "    Parameters\n",
    "    ----------\n",
    "    target_y : Union[np.ndarray, list]\n",
    "        signal of the target musical piece, as imported by librosa\n",
    "    max_steps : int\n",
    "        Maximum number of iterations (generations) before termination\n",
    "    sample_lib : SampleLibrary\n",
    "        Library of samples which define the algorithm's search space\n",
    "    popsize : int\n",
    "        Size of the population (µ)\n",
    "    n_offspring : int\n",
    "        Number of offspring (λ) per generation \n",
    "    onset_frac : float\n",
    "        Fraction of approximated onsets (φ) per individual\n",
    "\n",
    "    Returns\n",
    "    -------\n",
    "    Population\n",
    "        The full population of individual approximations after max_steps of iterations\n",
    "    \"\"\"\n",
    "    # Initialization\n",
    "    mutator = Mutator(sample_lib) # Applies mutations and handles stft updates\n",
    "    target = Target(target_y)\n",
    "\n",
    "    # Create initial population\n",
    "    population = Population()\n",
    "    population.individuals = [BaseIndividual.create_multi_onset_individual(target.onsets, onset_frac, sample_lib) for _ in tqdm(range(popsize), desc=\"Initializing Population\")]\n",
    "    def fitness_init(individual):\n",
    "        individual.fitness = multi_onset_fitness_cached(target, individual)\n",
    "    thread_map(fitness_init, population.individuals, max_workers=n_threads, desc=\"Calculating initial fitness\")\n",
    "    # for individual in tqdm(population.individuals, desc=\"Calculating initial fitness\"):\n",
    "    #     # Calc initial fitness\n",
    "    #     individual.fitness = multi_onset_fitness_cached(target, individual)\n",
    "    population.calc_best_fitnesses_per_onset() # Initial record of best approximations of each onset\n",
    "    population.sort_individuals_by_fitness() # Sort population for easier management\n",
    "\n",
    "    # Evolutionary Loop\n",
    "    thread_map(single_step, repeat(population, max_steps), repeat(n_offspring, max_steps), repeat(target, max_steps), repeat(mutator, max_steps), max_workers=n_threads, chunksize=1)\n",
    "    # for step in (pbar := tqdm(range(max_steps))):\n",
    "    #     # Create lambda offspring\n",
    "    #     parents = np.random.choice(population.individuals, size=n_offspring)\n",
    "    #     offspring = [mutator.mutate_individual(BaseIndividual.from_copy(individual)) for individual in parents]\n",
    "        \n",
    "    #     # Evaluate fitness of offspring\n",
    "    #     for individual in offspring:\n",
    "    #         individual.fitness = multi_onset_fitness_cached(target, individual)\n",
    "    #         # Insert individual into population\n",
    "    #         population.insert_individual(individual)\n",
    "        \n",
    "    #     # Remove lambda worst individuals\n",
    "    #     population.remove_worst(n_offspring)\n",
    "\n",
    "    #     # Update progress bar\n",
    "    #     pbar.set_postfix_str('\\t' * 100 + f\"Best individual: {str(population.get_best_individual())}\")\n",
    "\n",
    "    # Return final population\n",
    "    return population\n",
    "ex, _ = librosa.load(librosa.ex('nutcracker'), duration=30)\n",
    "result = approximate_piece_multithreaded(ex, MAX_STEPS, sample_lib, POPSIZE, N_OFFSPRING, ONSET_FRAC, n_threads=4)"
   ]
  },
  {
   "attachments": {},
   "cell_type": "markdown",
   "metadata": {},
   "source": [
    "Notes: The threaded implementation leads to incorrect results as of right now, with n_threads multiples of some individuals within the final pop."
   ]
  },
  {
   "attachments": {},
   "cell_type": "markdown",
   "metadata": {},
   "source": [
    "## Multiprocessing with subpopulations"
   ]
  },
  {
   "cell_type": "code",
   "execution_count": null,
   "metadata": {},
   "outputs": [],
   "source": []
  }
 ],
 "metadata": {
  "kernelspec": {
   "display_name": "ma",
   "language": "python",
   "name": "python3"
  },
  "language_info": {
   "codemirror_mode": {
    "name": "ipython",
    "version": 3
   },
   "file_extension": ".py",
   "mimetype": "text/x-python",
   "name": "python",
   "nbconvert_exporter": "python",
   "pygments_lexer": "ipython3",
   "version": "3.10.8"
  },
  "orig_nbformat": 4,
  "vscode": {
   "interpreter": {
    "hash": "e64d2645d10406c485d9857eaab5d37f8c8efad32a47710fb4de5b20809a4099"
   }
  }
 },
 "nbformat": 4,
 "nbformat_minor": 2
}
