{
 "cells": [
  {
   "cell_type": "code",
   "execution_count": 2,
   "metadata": {},
   "outputs": [
    {
     "name": "stdout",
     "output_type": "stream",
     "text": [
      "c:\\Users\\justi\\coding\\Uni\\MA\n"
     ]
    }
   ],
   "source": [
    "%cd ..\n",
    "#%load_ext autoreload\n",
    "#%autoreload 2"
   ]
  },
  {
   "cell_type": "code",
   "execution_count": 3,
   "metadata": {},
   "outputs": [
    {
     "name": "stderr",
     "output_type": "stream",
     "text": [
      "c:\\Users\\justi\\miniconda3\\envs\\ma\\lib\\site-packages\\tqdm\\auto.py:22: TqdmWarning: IProgress not found. Please update jupyter and ipywidgets. See https://ipywidgets.readthedocs.io/en/stable/user_install.html\n",
      "  from .autonotebook import tqdm as notebook_tqdm\n"
     ]
    }
   ],
   "source": [
    "import librosa\n",
    "from glob import glob\n",
    "\n",
    "from evoaudio.base_algorithms import approximate_piece\n",
    "from evoaudio.sample_library import SampleLibrary\n",
    "from evoaudio.population_logging import PopulationLogger\n",
    "from parsing.arff_parsing import parse_arff"
   ]
  },
  {
   "cell_type": "code",
   "execution_count": 4,
   "metadata": {},
   "outputs": [
    {
     "name": "stderr",
     "output_type": "stream",
     "text": [
      "Loading samples: 100%|██████████| 6826/6826 [00:11<00:00, 613.10it/s] \n"
     ]
    }
   ],
   "source": [
    "sample_lib = SampleLibrary()"
   ]
  },
  {
   "cell_type": "code",
   "execution_count": 5,
   "metadata": {},
   "outputs": [
    {
     "data": {
      "text/plain": [
       "20"
      ]
     },
     "execution_count": 5,
     "metadata": {},
     "output_type": "execute_result"
    }
   ],
   "source": [
    "# File IO\n",
    "mixes = {file.split('_mix.mp3')[0][-4:]: librosa.load(file) for file in glob(\"./audio/tiny_aam/audio-mixes-mp3/*.mp3\")}\n",
    "annotations = {file.split('_onsets.arff')[0][-4:]: parse_arff(file) for file in glob(\"./audio/tiny_aam/annotations/*onsets.arff\")}\n",
    "len(annotations)"
   ]
  },
  {
   "cell_type": "code",
   "execution_count": 6,
   "metadata": {},
   "outputs": [],
   "source": [
    "MAX_STEPS = 1000\n",
    "ONSET_FRAC = 0.05\n",
    "POPSIZE = 300\n",
    "N_OFFSPRING = 1"
   ]
  },
  {
   "attachments": {},
   "cell_type": "markdown",
   "metadata": {},
   "source": [
    "### Multi Onset Experiments (Full piece approximation)"
   ]
  },
  {
   "cell_type": "code",
   "execution_count": 7,
   "metadata": {},
   "outputs": [
    {
     "name": "stderr",
     "output_type": "stream",
     "text": [
      "Initializing Population: 100%|██████████| 300/300 [00:00<00:00, 1910.83it/s]\n",
      "Calculating initial fitness: 100%|██████████| 300/300 [00:12<00:00, 23.51it/s]\n",
      "100%|██████████| 1000/1000 [00:45<00:00, 22.15it/s, Best individual: Fitness: 3.0031779775754175 | (Flute, tr332FLVIM, c4), (Piano, The_Gentleman, a1), (Drums, ARVintage_IvoryKit, FXCymbal1)]                                            \n"
     ]
    }
   ],
   "source": [
    "# Run experiment for each mix\n",
    "name = list(mixes.keys())[0]\n",
    "mix = mixes[name][0]\n",
    "annotation = annotations[name]\n",
    "onsets = [int(round(float(onset_time) * 22050)) for onset_time in annotation.keys()]\n",
    "logger = PopulationLogger()\n",
    "result = approximate_piece(target_y=mix, max_steps=MAX_STEPS, sample_lib=sample_lib, popsize=POPSIZE, n_offspring=N_OFFSPRING, onset_frac=ONSET_FRAC, logger=logger, onsets=onsets)"
   ]
  },
  {
   "cell_type": "code",
   "execution_count": 6,
   "metadata": {},
   "outputs": [],
   "source": [
    "import os\n",
    "def run_all_onset_experiment(mp3_file:str, annotation_file:str, max_steps:int, onset_frac:float, popsize:int, n_offspring:int, sample_lib:SampleLibrary, run_name:str=None):\n",
    "    target_y, sr = librosa.load(mp3_file)\n",
    "    annotations = parse_arff(annotation_file)\n",
    "    onsets = [int(round(float(onset_time) * sr)) for onset_time in annotations.keys()]\n",
    "    population = approximate_piece(target_y=target_y, max_steps=max_steps, sample_lib=sample_lib, popsize=popsize, n_offspring=n_offspring, onset_frac=onset_frac, onsets=onsets)\n",
    "    if run_name is None:\n",
    "        run_name = os.path.basename(mp3_file).replace(\".mp3\", \"\")\n",
    "    population.save_as_file(run_name + \".pkl\")"
   ]
  },
  {
   "cell_type": "code",
   "execution_count": 7,
   "metadata": {},
   "outputs": [
    {
     "name": "stderr",
     "output_type": "stream",
     "text": [
      "Initializing Population: 100%|██████████| 300/300 [00:00<00:00, 2097.96it/s]\n",
      "Calculating initial fitness: 100%|██████████| 300/300 [00:12<00:00, 23.99it/s]\n",
      "100%|██████████| 5000/5000 [03:49<00:00, 21.76it/s, Best individual: Fitness: 1.855023793525353 | (EgyptianFiddle, egyptian_fiddle, c4), (Piano, The_Gentleman, c1), (Drums, AR80s_ChromeKit, Hihat_Closed), (Piano, The_Giant_soft, ais7), (AcousticGuitar, tr113AGAFM, gis3)]          \n",
      "Initializing Population: 100%|██████████| 300/300 [00:00<00:00, 2006.71it/s]\n",
      "Calculating initial fitness: 100%|██████████| 300/300 [00:15<00:00, 18.92it/s]\n",
      "100%|██████████| 5000/5000 [04:54<00:00, 16.98it/s, Best individual: Fitness: 0.9273340415396342 | (Drums, ARVintage_IvoryKit, Hihat_Closed_Pedal), (Piano, The_Giant_soft, g7)]                                                                              \n",
      "Initializing Population: 100%|██████████| 300/300 [00:00<00:00, 2083.32it/s]\n",
      "Calculating initial fitness: 100%|██████████| 300/300 [00:13<00:00, 22.27it/s]\n",
      "100%|██████████| 5000/5000 [04:11<00:00, 19.87it/s, Best individual: Fitness: 1.7799061189977134 | (Cello, tr171VCNOM, gis3), (Trombone, BassTrombone_SessionHornsPro, dis3), (Flute, tr332FLVIM, c4), (Piano, The_Grandeur, d1)]                                    \n",
      "Initializing Population: 100%|██████████| 300/300 [00:00<00:00, 2047.80it/s]\n",
      "Calculating initial fitness: 100%|██████████| 300/300 [00:24<00:00, 12.32it/s]\n",
      "100%|██████████| 5000/5000 [07:16<00:00, 11.46it/s, Best individual: Fitness: 1.398614608701108 | (Drums, AR60s_LateKit, FXCymbal3), (ElectricGuitar, tr132EGLPM, fis2), (Trombone, Trombones_Essential, c1)]                                         \n",
      "Initializing Population: 100%|██████████| 300/300 [00:00<00:00, 2027.05it/s]\n",
      "Calculating initial fitness: 100%|██████████| 300/300 [00:19<00:00, 15.69it/s]\n",
      "100%|██████████| 5000/5000 [05:57<00:00, 13.97it/s, Best individual: Fitness: 1.223760801733994 | (Cello, Cellos_SessionStringsPro, gis2), (Contrabassoon, Contrabassoon_Essential, a1), (Piano, Alicias_Keys, c8), (Drums, ARVintage_IvoryKit, Hihat_Closed)]                                      \n",
      "Initializing Population: 100%|██████████| 300/300 [00:00<00:00, 2068.92it/s]\n",
      "Calculating initial fitness: 100%|██████████| 300/300 [00:19<00:00, 15.54it/s]\n",
      "100%|██████████| 5000/5000 [06:03<00:00, 13.74it/s, Best individual: Fitness: 1.368013628207571 | (Drums, ARVintage_IvoryKit, Hihat_Closed_Pedal), (Trombone, Trombones_Essential, ais0), (Piano, The_Maverick, ais7)]                                                   \n",
      "Initializing Population: 100%|██████████| 300/300 [00:00<00:00, 2181.83it/s]\n",
      "Calculating initial fitness: 100%|██████████| 300/300 [00:21<00:00, 13.76it/s]\n",
      "100%|██████████| 5000/5000 [06:38<00:00, 12.55it/s, Best individual: Fitness: 1.0890509760020624 | (ElectricPiano, Scarbee_MarkI_PinkPlayboy, c1), (Drums, ARVintage_IvoryKit, Hihat_Closed_Pedal), (Shakuhachi, shakuhachi, gis5), (Fujara, fujara, dis5)]         \n",
      "Initializing Population: 100%|██████████| 300/300 [00:00<00:00, 2020.20it/s]\n",
      "Calculating initial fitness: 100%|██████████| 300/300 [00:17<00:00, 17.27it/s]\n",
      "100%|██████████| 5000/5000 [05:21<00:00, 15.55it/s, Best individual: Fitness: 1.966748697779778 | (Drums, ARMordern_WhiteKit, Snare_Roll), (AcousticGuitar, tr112AGRFM, fis4), (Tanbur, tanbur, ais3), (AcousticGuitar, tr112AGAFM, a2)]                    \n",
      "Initializing Population: 100%|██████████| 300/300 [00:00<00:00, 2083.33it/s]\n",
      "Calculating initial fitness: 100%|██████████| 300/300 [00:15<00:00, 18.76it/s]\n",
      "100%|██████████| 5000/5000 [05:00<00:00, 16.66it/s, Best individual: Fitness: 1.5822926133032367 | (ElectricBass, Scarbee_PreBass, cis1), (Flute, tr332FLNOM, b5), (Drums, AR70s_TightKit, Snare_Roll), (Trombone, Trombone_Essential, dis1)]                                       \n",
      "c:\\Users\\justi\\miniconda3\\envs\\ma\\lib\\site-packages\\librosa\\core\\spectrum.py:256: UserWarning: n_fft=2048 is too large for input signal of length=1901\n",
      "  warnings.warn(\n",
      "c:\\Users\\justi\\miniconda3\\envs\\ma\\lib\\site-packages\\librosa\\core\\spectrum.py:256: UserWarning: n_fft=2048 is too large for input signal of length=1900\n",
      "  warnings.warn(\n",
      "Initializing Population: 100%|██████████| 300/300 [00:00<00:00, 2000.03it/s]\n",
      "Calculating initial fitness: 100%|██████████| 300/300 [00:13<00:00, 21.55it/s]\n",
      "100%|██████████| 5000/5000 [04:24<00:00, 18.92it/s, Best individual: Fitness: 1.686280542389164 | (ElectricBass, Scarbee_JayBass_Slap_Neck, d1), (Drums, AR60s_LateKit, FXCymbal2), (Flute, tr332FLVIM, c4)]                                               \n",
      "Initializing Population: 100%|██████████| 300/300 [00:00<00:00, 2150.53it/s]\n",
      "Calculating initial fitness: 100%|██████████| 300/300 [00:18<00:00, 15.93it/s]\n",
      "100%|██████████| 5000/5000 [05:36<00:00, 14.86it/s, Best individual: Fitness: 1.9188320742771439 | (Drums, AR60s_EarlyKit, Snare_Roll), (Drums, ARMordern_SparkleKit, Hihat_Closed), (ElectricGuitar, tr132EGVPM, g3), (Piano, tr013PFNOM, d2)]                              \n",
      "Initializing Population: 100%|██████████| 300/300 [00:00<00:00, 2120.15it/s]\n",
      "Calculating initial fitness: 100%|██████████| 300/300 [00:14<00:00, 20.26it/s]\n",
      "100%|██████████| 5000/5000 [04:37<00:00, 17.99it/s, Best individual: Fitness: 1.4279181950266768 | (Drums, AR60s_LateKit, FXCymbal3), (Cello, tr171VCNVM, c2), (Drums, AR60s_EarlyKit, Snare_Sidestick), (ElectricPiano, Scarbee_Pianet_DI, cis1)]                          \n",
      "Initializing Population: 100%|██████████| 300/300 [00:00<00:00, 2020.23it/s]\n",
      "Calculating initial fitness: 100%|██████████| 300/300 [00:20<00:00, 14.54it/s]\n",
      "100%|██████████| 5000/5000 [06:17<00:00, 13.25it/s, Best individual: Fitness: 1.7079870196086604 | (Piano, The_Maverick, e2), (AcousticGuitar, tr111AGRFM, g2), (Drums, ARVintage_IvoryKit, Hihat_Closed), (Piano, The_Maverick, d3)]                                                                \n",
      "Initializing Population: 100%|██████████| 300/300 [00:00<00:00, 2076.14it/s]\n",
      "Calculating initial fitness: 100%|██████████| 300/300 [00:12<00:00, 24.79it/s]\n",
      "100%|██████████| 5000/5000 [03:49<00:00, 21.81it/s, Best individual: Fitness: 0.9904913369253452 | (Drums, AR50s_AutumnKit, Hihat_Closed_Pedal), (Drums, AR50s_AutumnKit, Hihat_Closed_Pedal), (ElectricGuitar, tr133EGLFM, e5)]                                                               \n",
      "Initializing Population: 100%|██████████| 300/300 [00:00<00:00, 2033.89it/s]\n",
      "Calculating initial fitness: 100%|██████████| 300/300 [00:22<00:00, 13.60it/s]\n",
      "100%|██████████| 5000/5000 [06:38<00:00, 12.55it/s, Best individual: Fitness: 1.690592259636324 | (Drums, ARVintage_IvoryKit, Hihat_Closed_Pedal), (ElectricPiano, Scarbee_Clavinet_Full_DI, fis5), (Tuba, Tuba_SessionHornsPro, e1)]                                    \n",
      "Initializing Population: 100%|██████████| 300/300 [00:00<00:00, 2047.80it/s]\n",
      "Calculating initial fitness: 100%|██████████| 300/300 [00:19<00:00, 15.24it/s]\n",
      "100%|██████████| 5000/5000 [06:07<00:00, 13.62it/s, Best individual: Fitness: 1.0216420595291713 | (Trombone, Trombones_Essential, a0), (Drums, ARVintage_IvoryKit, Hihat_Closed_Pedal), (Organ, C3_Jazz, e3), (Drums, AR50s_AutumnKit, Hihat_Open)]                       \n",
      "c:\\Users\\justi\\miniconda3\\envs\\ma\\lib\\site-packages\\librosa\\core\\spectrum.py:256: UserWarning: n_fft=2048 is too large for input signal of length=1957\n",
      "  warnings.warn(\n",
      "Initializing Population: 100%|██████████| 300/300 [00:00<00:00, 2061.88it/s]\n",
      "Calculating initial fitness: 100%|██████████| 300/300 [00:12<00:00, 23.84it/s]\n",
      "100%|██████████| 5000/5000 [03:55<00:00, 21.21it/s, Best individual: Fitness: 1.6443417432831553 | (Drums, AR50s_SpringKit, Snare_Halfway), (Drums, AR60s_LateKit, FXCymbal3), (Tuba, Tuba_SessionHornsPro, e1), (Drums, AR70s_OpenKit, Snare_RimOnly)]          \n",
      "Initializing Population: 100%|██████████| 300/300 [00:00<00:00, 2047.78it/s]\n",
      "Calculating initial fitness: 100%|██████████| 300/300 [00:30<00:00,  9.84it/s]\n",
      "100%|██████████| 5000/5000 [09:07<00:00,  9.14it/s, Best individual: Fitness: 1.937468492303046 | (Drums, ARVintage_IvoryKit, Hihat_Closed_Pedal), (Viola, tr162VLNOM, fis3), (Contrabassoon, Contrabassoon_Essential, d1)]                                                     \n",
      "Initializing Population: 100%|██████████| 300/300 [00:00<00:00, 2013.40it/s]\n",
      "Calculating initial fitness: 100%|██████████| 300/300 [00:22<00:00, 13.41it/s]\n",
      "100%|██████████| 5000/5000 [06:54<00:00, 12.05it/s, Best individual: Fitness: 1.2545280103488587 | (AcousticGuitar, tr113AGAFM, fis3), (Drums, AR70s_TightKit, Snare_Roll), (Cello, Cellos_SessionStringsPro, g2)]                                                                                                         \n",
      "Initializing Population: 100%|██████████| 300/300 [00:00<00:00, 2027.03it/s]\n",
      "Calculating initial fitness: 100%|██████████| 300/300 [00:12<00:00, 24.40it/s]\n",
      "100%|██████████| 5000/5000 [03:49<00:00, 21.75it/s, Best individual: Fitness: 1.2262947225509468 | (Drums, ARVintage_IvoryKit, Hihat_Closed_Pedal), (Drums, AR60s_LateKit, Snare_Roll), (Fujara, fujara, ais4)]                                                                                     \n"
     ]
    }
   ],
   "source": [
    "annotations = glob(\"./audio/tiny_aam/annotations/*onsets.arff\")\n",
    "for i, file in enumerate(glob(\"./audio/tiny_aam/audio-mixes-mp3/*.mp3\")):\n",
    "    run_all_onset_experiment(mp3_file=file, annotation_file=annotations[i], max_steps=MAX_STEPS, onset_frac=ONSET_FRAC, popsize=POPSIZE, n_offspring=N_OFFSPRING, sample_lib=sample_lib)"
   ]
  },
  {
   "cell_type": "code",
   "execution_count": 7,
   "metadata": {},
   "outputs": [
    {
     "ename": "KeyboardInterrupt",
     "evalue": "",
     "output_type": "error",
     "traceback": [
      "\u001b[1;31m---------------------------------------------------------------------------\u001b[0m",
      "\u001b[1;31mKeyboardInterrupt\u001b[0m                         Traceback (most recent call last)",
      "Cell \u001b[1;32mIn[7], line 1\u001b[0m\n\u001b[1;32m----> 1\u001b[0m \u001b[39mfrom\u001b[39;00m \u001b[39mmutations\u001b[39;00m \u001b[39mimport\u001b[39;00m Mutator\n\u001b[0;32m      2\u001b[0m mutator \u001b[39m=\u001b[39m Mutator(sample_library\u001b[39m=\u001b[39msample_lib, l_bound\u001b[39m=\u001b[39m\u001b[39m1\u001b[39m, u_bound\u001b[39m=\u001b[39m\u001b[39m1\u001b[39m)\n\u001b[0;32m      4\u001b[0m name \u001b[39m=\u001b[39m \u001b[39mlist\u001b[39m(mixes\u001b[39m.\u001b[39mkeys())[\u001b[39m0\u001b[39m]\n",
      "Cell \u001b[1;32mIn[7], line 1\u001b[0m\n\u001b[1;32m----> 1\u001b[0m \u001b[39mfrom\u001b[39;00m \u001b[39mmutations\u001b[39;00m \u001b[39mimport\u001b[39;00m Mutator\n\u001b[0;32m      2\u001b[0m mutator \u001b[39m=\u001b[39m Mutator(sample_library\u001b[39m=\u001b[39msample_lib, l_bound\u001b[39m=\u001b[39m\u001b[39m1\u001b[39m, u_bound\u001b[39m=\u001b[39m\u001b[39m1\u001b[39m)\n\u001b[0;32m      4\u001b[0m name \u001b[39m=\u001b[39m \u001b[39mlist\u001b[39m(mixes\u001b[39m.\u001b[39mkeys())[\u001b[39m0\u001b[39m]\n",
      "File \u001b[1;32m_pydevd_bundle/pydevd_cython.pyx:1457\u001b[0m, in \u001b[0;36m_pydevd_bundle.pydevd_cython.SafeCallWrapper.__call__\u001b[1;34m()\u001b[0m\n",
      "File \u001b[1;32m_pydevd_bundle/pydevd_cython.pyx:701\u001b[0m, in \u001b[0;36m_pydevd_bundle.pydevd_cython.PyDBFrame.trace_dispatch\u001b[1;34m()\u001b[0m\n",
      "File \u001b[1;32m_pydevd_bundle/pydevd_cython.pyx:1152\u001b[0m, in \u001b[0;36m_pydevd_bundle.pydevd_cython.PyDBFrame.trace_dispatch\u001b[1;34m()\u001b[0m\n",
      "File \u001b[1;32m_pydevd_bundle/pydevd_cython.pyx:1135\u001b[0m, in \u001b[0;36m_pydevd_bundle.pydevd_cython.PyDBFrame.trace_dispatch\u001b[1;34m()\u001b[0m\n",
      "File \u001b[1;32m_pydevd_bundle/pydevd_cython.pyx:312\u001b[0m, in \u001b[0;36m_pydevd_bundle.pydevd_cython.PyDBFrame.do_wait_suspend\u001b[1;34m()\u001b[0m\n",
      "File \u001b[1;32mc:\\Users\\justi\\miniconda3\\envs\\ma\\lib\\site-packages\\debugpy\\_vendored\\pydevd\\pydevd.py:2070\u001b[0m, in \u001b[0;36mPyDB.do_wait_suspend\u001b[1;34m(self, thread, frame, event, arg, exception_type)\u001b[0m\n\u001b[0;32m   2067\u001b[0m             from_this_thread\u001b[39m.\u001b[39mappend(frame_custom_thread_id)\n\u001b[0;32m   2069\u001b[0m     \u001b[39mwith\u001b[39;00m \u001b[39mself\u001b[39m\u001b[39m.\u001b[39m_threads_suspended_single_notification\u001b[39m.\u001b[39mnotify_thread_suspended(thread_id, thread, stop_reason):\n\u001b[1;32m-> 2070\u001b[0m         keep_suspended \u001b[39m=\u001b[39m \u001b[39mself\u001b[39;49m\u001b[39m.\u001b[39;49m_do_wait_suspend(thread, frame, event, arg, suspend_type, from_this_thread, frames_tracker)\n\u001b[0;32m   2072\u001b[0m frames_list \u001b[39m=\u001b[39m \u001b[39mNone\u001b[39;00m\n\u001b[0;32m   2074\u001b[0m \u001b[39mif\u001b[39;00m keep_suspended:\n\u001b[0;32m   2075\u001b[0m     \u001b[39m# This means that we should pause again after a set next statement.\u001b[39;00m\n",
      "File \u001b[1;32mc:\\Users\\justi\\miniconda3\\envs\\ma\\lib\\site-packages\\debugpy\\_vendored\\pydevd\\pydevd.py:2106\u001b[0m, in \u001b[0;36mPyDB._do_wait_suspend\u001b[1;34m(self, thread, frame, event, arg, suspend_type, from_this_thread, frames_tracker)\u001b[0m\n\u001b[0;32m   2103\u001b[0m         \u001b[39mself\u001b[39m\u001b[39m.\u001b[39m_call_input_hook()\n\u001b[0;32m   2105\u001b[0m     \u001b[39mself\u001b[39m\u001b[39m.\u001b[39mprocess_internal_commands()\n\u001b[1;32m-> 2106\u001b[0m     time\u001b[39m.\u001b[39;49msleep(\u001b[39m0.01\u001b[39;49m)\n\u001b[0;32m   2108\u001b[0m \u001b[39mself\u001b[39m\u001b[39m.\u001b[39mcancel_async_evaluation(get_current_thread_id(thread), \u001b[39mstr\u001b[39m(\u001b[39mid\u001b[39m(frame)))\n\u001b[0;32m   2110\u001b[0m \u001b[39m# process any stepping instructions\u001b[39;00m\n",
      "\u001b[1;31mKeyboardInterrupt\u001b[0m: "
     ]
    }
   ],
   "source": [
    "from mutations import Mutator\n",
    "mutator = Mutator(sample_library=sample_lib, l_bound=1, u_bound=1)\n",
    "\n",
    "name = list(mixes.keys())[0]\n",
    "mix = mixes[name][0]\n",
    "annotation = annotations[name]\n",
    "onsets = [int(round(float(onset_time) * 22050)) for onset_time in annotation.keys()]\n",
    "logger = PopulationLogger()\n",
    "result_2 = approximate_piece(target_y=mix, max_steps=MAX_STEPS, sample_lib=sample_lib, popsize=POPSIZE, n_offspring=N_OFFSPRING, onset_frac=ONSET_FRAC, logger=logger, onsets=onsets)"
   ]
  },
  {
   "cell_type": "code",
   "execution_count": 70,
   "metadata": {},
   "outputs": [
    {
     "data": {
      "text/plain": [
       "<matplotlib.legend.Legend at 0x25743ad0dc0>"
      ]
     },
     "execution_count": 70,
     "metadata": {},
     "output_type": "execute_result"
    },
    {
     "data": {
      "image/png": "[encoded data removed]",
      "text/plain": [
       "<Figure size 640x480 with 1 Axes>"
      ]
     },
     "metadata": {},
     "output_type": "display_data"
    }
   ],
   "source": [
    "import matplotlib.pyplot as plt\n",
    "plt.plot(logger.logged_steps, logger.mean_fitness, \"b\", label=\"mean individual fitness\")\n",
    "plt.plot(logger.logged_steps, logger.mean_fitness_best_records, \"g\", label=\"mean best record fitness\")\n",
    "plt.plot(logger.logged_steps, logger.elitist_fitness, \"r\", label=\"elitist individual fitness\")\n",
    "plt.xlabel(\"Steps\")\n",
    "plt.ylabel(\"Fitness\")\n",
    "#plt.ylim((4, 10))\n",
    "plt.legend()\n"
   ]
  },
  {
   "attachments": {},
   "cell_type": "markdown",
   "metadata": {},
   "source": [
    "### Experiment analysis"
   ]
  },
  {
   "cell_type": "code",
   "execution_count": 8,
   "metadata": {},
   "outputs": [],
   "source": [
    "from evoaudio.population import Population\n",
    "for pop_file in glob(\"*mix.pkl\"):\n",
    "    pop = Population.from_file(pop_file)\n"
   ]
  },
  {
   "attachments": {},
   "cell_type": "markdown",
   "metadata": {},
   "source": [
    "### Single Onset Experiments"
   ]
  },
  {
   "cell_type": "code",
   "execution_count": 23,
   "metadata": {},
   "outputs": [
    {
     "name": "stderr",
     "output_type": "stream",
     "text": [
      "Initializing Population: 100%|██████████| 10/10 [00:00<00:00, 1817.45it/s]\n",
      "Calculating initial fitness: 100%|██████████| 10/10 [00:00<00:00, 108.11it/s]\n",
      "100%|██████████| 10000/10000 [01:51<00:00, 89.67it/s, Best individual: Fitness: 0.9135556997903963 | (Tanbur, tanbur, fis1), (Flute, tr332FLVIM, c4), (Fujara, fujara, f3), (AcousticGuitar, tr113AGRFM, fis2), (Tanbur, tanbur, gis1)]                                 \n"
     ]
    }
   ],
   "source": [
    "from evoaudio.base_algorithms import approximate_single_onset\n",
    "from evoaudio.mutations import Mutator\n",
    "\n",
    "# Run experiment for each onsetfrom mutations import Mutator\n",
    "mutator = Mutator(sample_library=sample_lib, l_bound=1, u_bound=1)\n",
    "\n",
    "name = list(mixes.keys())[0]\n",
    "mix = mixes[name][0]\n",
    "annotation = annotations[name]\n",
    "onsets = [int(round(float(onset_time) * 22050)) for onset_time in annotation.keys()]\n",
    "logger = PopulationLogger()\n",
    "result = approximate_single_onset(target_y=mix, max_steps=10000, sample_lib=sample_lib, popsize=10, n_offspring=1, onset_start=onsets[0], onset_end=onsets[1], logger=logger)"
   ]
  },
  {
   "cell_type": "code",
   "execution_count": 25,
   "metadata": {},
   "outputs": [
    {
     "data": {
      "text/plain": [
       "<matplotlib.legend.Legend at 0x13f41f103d0>"
      ]
     },
     "execution_count": 25,
     "metadata": {},
     "output_type": "execute_result"
    },
    {
     "data": {
      "image/png": "[encoded data removed]",
      "text/plain": [
       "<Figure size 640x480 with 1 Axes>"
      ]
     },
     "metadata": {},
     "output_type": "display_data"
    }
   ],
   "source": [
    "import matplotlib.pyplot as plt\n",
    "plt.plot(logger.logged_steps, logger.mean_fitness, \"b\", label=\"mean individual fitness\")\n",
    "plt.plot(logger.logged_steps, logger.mean_fitness_best_records, \"g\", label=\"mean best record fitness\")\n",
    "plt.plot(logger.logged_steps, logger.elitist_fitness, \"r\", label=\"elitist individual fitness\")\n",
    "plt.xlabel(\"Steps\")\n",
    "plt.ylabel(\"Fitness\")\n",
    "#plt.ylim((4, 10))\n",
    "plt.legend()\n"
   ]
  },
  {
   "cell_type": "code",
   "execution_count": 4,
   "metadata": {},
   "outputs": [],
   "source": [
    "from multiprocessing import Process\n",
    "from multiprocessing.managers import BaseManager\n",
    "\n",
    "# File IO\n",
    "mixes = {file.split('_mix.mp3')[0][-4:]: librosa.load(file) for file in glob(\"./audio/tiny_aam/audio-mixes-mp3/*.mp3\")}\n",
    "annotations = {file.split('_onsets.arff')[0][-4:]: parse_arff(file) for file in glob(\"./audio/tiny_aam/annotations/*onsets.arff\")}\n",
    "onsets = list(annotations.keys())\n",
    "\n",
    "class LibraryManager(BaseManager):\n",
    "    pass\n",
    "\n",
    "LibraryManager.register('SampleLibrary', SampleLibrary)\n",
    "with LibraryManager() as manager:\n",
    "    shared_lib = manager.SampleLibrary()\n",
    "    processes = [Process(target=approximate_piece, args=(y[0], MAX_STEPS, shared_lib, POPSIZE, N_OFFSPRING, ONSET_FRAC, None, None, onsets[i])) for i, y in enumerate(mixes[:2])]\n",
    "    for process in processes:\n",
    "        process.start()\n",
    "    for process in processes:\n",
    "        process.join()\n",
    "    print(\"Done\")"
   ]
  },
  {
   "attachments": {},
   "cell_type": "markdown",
   "metadata": {},
   "source": [
    "Experiment Analysis"
   ]
  },
  {
   "cell_type": "code",
   "execution_count": 6,
   "metadata": {},
   "outputs": [
    {
     "data": {
      "text/plain": [
       "j_i     0.804837\n",
       "j_p     0.844846\n",
       "j_ip    1.000000\n",
       "dtype: float64"
      ]
     },
     "execution_count": 6,
     "metadata": {},
     "output_type": "execute_result"
    }
   ],
   "source": [
    "from evoaudio.individual import BaseIndividual\n",
    "from evoaudio.population import Population\n",
    "from enum import Enum\n",
    "import numpy as np\n",
    "import os\n",
    "import pandas as pd\n",
    "from glob import glob\n",
    "\n",
    "class class_mode(Enum):\n",
    "    INSTRUMENTS = 0\n",
    "    PITCHES = 1\n",
    "    COMBINED = 2\n",
    "\n",
    "def extract_instruments(individual:BaseIndividual):\n",
    "    seen_instruments = []\n",
    "    for sample in individual.samples:\n",
    "        if sample.instrument not in seen_instruments:\n",
    "            seen_instruments.append(sample.instrument)\n",
    "    return seen_instruments\n",
    "\n",
    "def extract_pitches(individual:BaseIndividual):\n",
    "    seen_pitches = []\n",
    "    for sample in individual.samples:\n",
    "        if sample.pitch not in seen_pitches:\n",
    "            seen_pitches.append(sample.pitch)\n",
    "    return seen_pitches\n",
    "\n",
    "def extract_samples(individual:BaseIndividual):\n",
    "    seen_samples = []\n",
    "    for sample in individual.samples:\n",
    "        if (sample.instrument, sample.pitch) not in seen_samples:\n",
    "            seen_samples.append((sample.instrument, sample.pitch))\n",
    "    return seen_samples\n",
    "\n",
    "def jaccard_error(population:Population, annotations:dict, mode:class_mode):\n",
    "    \"\"\"Iteratively calculates the jaccard error for each onset, then returns the mean.\n",
    "\n",
    "    Parameters\n",
    "    ----------\n",
    "    population : Population\n",
    "        candidate population.\n",
    "    annotations : dict\n",
    "        extracted annotations in style {onset: [(instrument1, pitch1), (instrument2, pitch2), ...]}\n",
    "    mode : class_mode\n",
    "        whether to calculate the error for instrument, pitch or combined approximation\n",
    "\n",
    "    Returns\n",
    "    -------\n",
    "    float\n",
    "        mean jaccard error across all onsets.\n",
    "    \"\"\"\n",
    "    time_onsets = list(annotations.keys())\n",
    "    jaccard_errors_per_onset = []\n",
    "    for i, onset in enumerate(population.archive):\n",
    "        individual = population.archive[onset].individual\n",
    "        time_onset = time_onsets[i]\n",
    "        match mode:\n",
    "            case class_mode.INSTRUMENTS:\n",
    "                extracted_features = extract_instruments(individual)\n",
    "                annotated_features = [annotation[0] for annotation in annotations[time_onset]]\n",
    "            case class_mode.PITCHES:\n",
    "                extracted_features = extract_pitches(individual)\n",
    "                annotated_features = [int(annotation[1].replace(\"+\", \"\")) for annotation in annotations[time_onset]]\n",
    "            case class_mode.COMBINED:\n",
    "                extracted_features = extract_samples(individual)\n",
    "                annotated_features = annotations[time_onset]\n",
    "        intersection = [instrument for instrument in extracted_features if instrument in annotated_features]\n",
    "        union = list(set(extracted_features) | set(annotated_features))\n",
    "        false_positives = set(extracted_features).symmetric_difference(intersection)\n",
    "        false_negatives = set(annotated_features).symmetric_difference(intersection)\n",
    "        jaccard_errors_per_onset.append((len(false_positives) + len(false_negatives)) / len(union))\n",
    "\n",
    "    return np.mean(jaccard_errors_per_onset)\n",
    "j_i = []\n",
    "j_p = []\n",
    "j_ip = []\n",
    "experiment_name = 'tiny_aam/300_1_10000_0.05_5_10_1_20_0.9954_15_10_1sec_repeat'\n",
    "popfiles = glob(f'./experiments/{experiment_name}/**/*.pkl', recursive=True)\n",
    "run_names = []\n",
    "for popfile in popfiles:\n",
    "    run_name = os.path.basename(popfile).split(\"_\")[0].replace(\".pkl\", \"\")\n",
    "    run_names.append(run_name)\n",
    "    pop = Population.from_file(popfile)\n",
    "    annotations = parse_arff(f'./audio/tiny_aam/annotations/{run_name}_onsets.arff')\n",
    "    j_i.append(jaccard_error(pop, annotations, class_mode.INSTRUMENTS))\n",
    "    j_p.append(jaccard_error(pop, annotations, class_mode.PITCHES))\n",
    "    j_ip.append(jaccard_error(pop, annotations, class_mode.COMBINED))\n",
    "df = pd.DataFrame({'j_i': j_i, 'j_p': j_p, 'j_ip': j_ip}, index=run_names)\n",
    "df.to_csv(f'./experiments/{experiment_name}_results.csv')\n",
    "df.mean()\n",
    "# np.mean(j_i), np.mean(j_p), np.mean(j_ip)"
   ]
  },
  {
   "cell_type": "code",
   "execution_count": 36,
   "metadata": {},
   "outputs": [
    {
     "data": {
      "text/plain": [
       "3.462162162162162"
      ]
     },
     "execution_count": 36,
     "metadata": {},
     "output_type": "execute_result"
    }
   ],
   "source": [
    "lengths = [len(record.individual.samples) for record in pop.archive.values()]\n",
    "np.mean(lengths)"
   ]
  }
 ],
 "metadata": {
  "kernelspec": {
   "display_name": "ma",
   "language": "python",
   "name": "python3"
  },
  "language_info": {
   "codemirror_mode": {
    "name": "ipython",
    "version": 3
   },
   "file_extension": ".py",
   "mimetype": "text/x-python",
   "name": "python",
   "nbconvert_exporter": "python",
   "pygments_lexer": "ipython3",
   "version": "3.10.8"
  },
  "orig_nbformat": 4,
  "vscode": {
   "interpreter": {
    "hash": "e64d2645d10406c485d9857eaab5d37f8c8efad32a47710fb4de5b20809a4099"
   }
  }
 },
 "nbformat": 4,
 "nbformat_minor": 2
}
