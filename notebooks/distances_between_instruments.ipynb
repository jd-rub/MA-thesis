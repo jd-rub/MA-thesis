{
 "cells": [
  {
   "cell_type": "code",
   "execution_count": 9,
   "metadata": {},
   "outputs": [
    {
     "name": "stdout",
     "output_type": "stream",
     "text": [
      "c:\\Users\\justi\\coding\\Uni\\MA\n"
     ]
    }
   ],
   "source": [
    "%cd ..\n",
    "%load_ext autoreload\n",
    "%autoreload 2"
   ]
  },
  {
   "cell_type": "code",
   "execution_count": 10,
   "metadata": {},
   "outputs": [
    {
     "name": "stderr",
     "output_type": "stream",
     "text": [
      "c:\\Users\\justi\\miniconda3\\envs\\ma\\lib\\site-packages\\tqdm\\auto.py:22: TqdmWarning: IProgress not found. Please update jupyter and ipywidgets. See https://ipywidgets.readthedocs.io/en/stable/user_install.html\n",
      "  from .autonotebook import tqdm as notebook_tqdm\n"
     ]
    }
   ],
   "source": [
    "import librosa\n",
    "\n",
    "from evoaudio.sample_library import SampleLibrary\n",
    "from evoaudio.fitness import cosh_distance\n",
    "from evoaudio.individual import BaseIndividual"
   ]
  },
  {
   "cell_type": "code",
   "execution_count": 4,
   "metadata": {},
   "outputs": [
    {
     "name": "stderr",
     "output_type": "stream",
     "text": [
      "Loading samples:  79%|███████▊  | 5360/6826 [00:18<00:05, 291.19it/s]\n"
     ]
    },
    {
     "ename": "KeyboardInterrupt",
     "evalue": "",
     "output_type": "error",
     "traceback": [
      "\u001b[1;31m---------------------------------------------------------------------------\u001b[0m",
      "\u001b[1;31mKeyboardInterrupt\u001b[0m                         Traceback (most recent call last)",
      "Cell \u001b[1;32mIn[4], line 2\u001b[0m\n\u001b[0;32m      1\u001b[0m \u001b[39m# Import Samples\u001b[39;00m\n\u001b[1;32m----> 2\u001b[0m sample_lib \u001b[39m=\u001b[39m SampleLibrary()\n\u001b[0;32m      3\u001b[0m all_samples \u001b[39m=\u001b[39m []\n\u001b[0;32m      4\u001b[0m \u001b[39mfor\u001b[39;00m instrument \u001b[39min\u001b[39;00m sample_lib\u001b[39m.\u001b[39msamples:\n",
      "File \u001b[1;32mc:\\Users\\justi\\coding\\Uni\\MA\\sample_library.py:22\u001b[0m, in \u001b[0;36mSampleLibrary.__init__\u001b[1;34m(self, path)\u001b[0m\n\u001b[0;32m     20\u001b[0m \u001b[39mself\u001b[39m\u001b[39m.\u001b[39msamples \u001b[39m=\u001b[39m \u001b[39mdict\u001b[39m()\n\u001b[0;32m     21\u001b[0m \u001b[39mself\u001b[39m\u001b[39m.\u001b[39m_init_samples \u001b[39m=\u001b[39m []\n\u001b[1;32m---> 22\u001b[0m \u001b[39mself\u001b[39;49m\u001b[39m.\u001b[39;49mload_samples_multithreaded(path\u001b[39m=\u001b[39;49mpath, n_threads\u001b[39m=\u001b[39;49m\u001b[39m8\u001b[39;49m)\n\u001b[0;32m     23\u001b[0m \u001b[39m# self.load_samples_single_thread(path)\u001b[39;00m\n\u001b[0;32m     24\u001b[0m \u001b[39mself\u001b[39m\u001b[39m.\u001b[39mcreate_sample_dict()\n",
      "File \u001b[1;32mc:\\Users\\justi\\coding\\Uni\\MA\\sample_library.py:40\u001b[0m, in \u001b[0;36mSampleLibrary.load_samples_multithreaded\u001b[1;34m(self, path, n_threads)\u001b[0m\n\u001b[0;32m     38\u001b[0m wav_files \u001b[39m=\u001b[39m glob(path \u001b[39m+\u001b[39m \u001b[39m\"\u001b[39m\u001b[39m**/*.wav\u001b[39m\u001b[39m\"\u001b[39m, recursive\u001b[39m=\u001b[39m\u001b[39mTrue\u001b[39;00m)\n\u001b[0;32m     39\u001b[0m \u001b[39m# wav_files = [file for file in wav_files if \"Drums\" not in file]\u001b[39;00m\n\u001b[1;32m---> 40\u001b[0m thread_map(\u001b[39mself\u001b[39;49m\u001b[39m.\u001b[39;49mload_file, wav_files, max_workers\u001b[39m=\u001b[39;49mn_threads, chunksize\u001b[39m=\u001b[39;49m\u001b[39mlen\u001b[39;49m(wav_files)\u001b[39m/\u001b[39;49m\u001b[39m/\u001b[39;49mn_threads\u001b[39m/\u001b[39;49m\u001b[39m/\u001b[39;49m\u001b[39m10\u001b[39;49m, desc\u001b[39m=\u001b[39;49m\u001b[39m\"\u001b[39;49m\u001b[39mLoading samples\u001b[39;49m\u001b[39m\"\u001b[39;49m)\n",
      "File \u001b[1;32mc:\\Users\\justi\\miniconda3\\envs\\ma\\lib\\site-packages\\tqdm\\contrib\\concurrent.py:94\u001b[0m, in \u001b[0;36mthread_map\u001b[1;34m(fn, *iterables, **tqdm_kwargs)\u001b[0m\n\u001b[0;32m     80\u001b[0m \u001b[39m\u001b[39m\u001b[39m\"\"\"\u001b[39;00m\n\u001b[0;32m     81\u001b[0m \u001b[39mEquivalent of `list(map(fn, *iterables))`\u001b[39;00m\n\u001b[0;32m     82\u001b[0m \u001b[39mdriven by `concurrent.futures.ThreadPoolExecutor`.\u001b[39;00m\n\u001b[1;32m   (...)\u001b[0m\n\u001b[0;32m     91\u001b[0m \u001b[39m    [default: max(32, cpu_count() + 4)].\u001b[39;00m\n\u001b[0;32m     92\u001b[0m \u001b[39m\"\"\"\u001b[39;00m\n\u001b[0;32m     93\u001b[0m \u001b[39mfrom\u001b[39;00m \u001b[39mconcurrent\u001b[39;00m\u001b[39m.\u001b[39;00m\u001b[39mfutures\u001b[39;00m \u001b[39mimport\u001b[39;00m ThreadPoolExecutor\n\u001b[1;32m---> 94\u001b[0m \u001b[39mreturn\u001b[39;00m _executor_map(ThreadPoolExecutor, fn, \u001b[39m*\u001b[39miterables, \u001b[39m*\u001b[39m\u001b[39m*\u001b[39mtqdm_kwargs)\n",
      "File \u001b[1;32mc:\\Users\\justi\\miniconda3\\envs\\ma\\lib\\site-packages\\tqdm\\contrib\\concurrent.py:76\u001b[0m, in \u001b[0;36m_executor_map\u001b[1;34m(PoolExecutor, fn, *iterables, **tqdm_kwargs)\u001b[0m\n\u001b[0;32m     74\u001b[0m     map_args\u001b[39m.\u001b[39mupdate(chunksize\u001b[39m=\u001b[39mchunksize)\n\u001b[0;32m     75\u001b[0m \u001b[39mwith\u001b[39;00m PoolExecutor(\u001b[39m*\u001b[39m\u001b[39m*\u001b[39mpool_kwargs) \u001b[39mas\u001b[39;00m ex:\n\u001b[1;32m---> 76\u001b[0m     \u001b[39mreturn\u001b[39;00m \u001b[39mlist\u001b[39;49m(tqdm_class(ex\u001b[39m.\u001b[39;49mmap(fn, \u001b[39m*\u001b[39;49miterables, \u001b[39m*\u001b[39;49m\u001b[39m*\u001b[39;49mmap_args), \u001b[39m*\u001b[39;49m\u001b[39m*\u001b[39;49mkwargs))\n",
      "File \u001b[1;32mc:\\Users\\justi\\miniconda3\\envs\\ma\\lib\\site-packages\\tqdm\\std.py:1195\u001b[0m, in \u001b[0;36mtqdm.__iter__\u001b[1;34m(self)\u001b[0m\n\u001b[0;32m   1192\u001b[0m time \u001b[39m=\u001b[39m \u001b[39mself\u001b[39m\u001b[39m.\u001b[39m_time\n\u001b[0;32m   1194\u001b[0m \u001b[39mtry\u001b[39;00m:\n\u001b[1;32m-> 1195\u001b[0m     \u001b[39mfor\u001b[39;00m obj \u001b[39min\u001b[39;00m iterable:\n\u001b[0;32m   1196\u001b[0m         \u001b[39myield\u001b[39;00m obj\n\u001b[0;32m   1197\u001b[0m         \u001b[39m# Update and possibly print the progressbar.\u001b[39;00m\n\u001b[0;32m   1198\u001b[0m         \u001b[39m# Note: does not call self.update(1) for speed optimisation.\u001b[39;00m\n",
      "File \u001b[1;32mc:\\Users\\justi\\miniconda3\\envs\\ma\\lib\\concurrent\\futures\\_base.py:621\u001b[0m, in \u001b[0;36mExecutor.map.<locals>.result_iterator\u001b[1;34m()\u001b[0m\n\u001b[0;32m    618\u001b[0m \u001b[39mwhile\u001b[39;00m fs:\n\u001b[0;32m    619\u001b[0m     \u001b[39m# Careful not to keep a reference to the popped future\u001b[39;00m\n\u001b[0;32m    620\u001b[0m     \u001b[39mif\u001b[39;00m timeout \u001b[39mis\u001b[39;00m \u001b[39mNone\u001b[39;00m:\n\u001b[1;32m--> 621\u001b[0m         \u001b[39myield\u001b[39;00m _result_or_cancel(fs\u001b[39m.\u001b[39;49mpop())\n\u001b[0;32m    622\u001b[0m     \u001b[39melse\u001b[39;00m:\n\u001b[0;32m    623\u001b[0m         \u001b[39myield\u001b[39;00m _result_or_cancel(fs\u001b[39m.\u001b[39mpop(), end_time \u001b[39m-\u001b[39m time\u001b[39m.\u001b[39mmonotonic())\n",
      "File \u001b[1;32mc:\\Users\\justi\\miniconda3\\envs\\ma\\lib\\concurrent\\futures\\_base.py:319\u001b[0m, in \u001b[0;36m_result_or_cancel\u001b[1;34m(***failed resolving arguments***)\u001b[0m\n\u001b[0;32m    317\u001b[0m \u001b[39mtry\u001b[39;00m:\n\u001b[0;32m    318\u001b[0m     \u001b[39mtry\u001b[39;00m:\n\u001b[1;32m--> 319\u001b[0m         \u001b[39mreturn\u001b[39;00m fut\u001b[39m.\u001b[39;49mresult(timeout)\n\u001b[0;32m    320\u001b[0m     \u001b[39mfinally\u001b[39;00m:\n\u001b[0;32m    321\u001b[0m         fut\u001b[39m.\u001b[39mcancel()\n",
      "File \u001b[1;32mc:\\Users\\justi\\miniconda3\\envs\\ma\\lib\\concurrent\\futures\\_base.py:453\u001b[0m, in \u001b[0;36mFuture.result\u001b[1;34m(self, timeout)\u001b[0m\n\u001b[0;32m    450\u001b[0m \u001b[39melif\u001b[39;00m \u001b[39mself\u001b[39m\u001b[39m.\u001b[39m_state \u001b[39m==\u001b[39m FINISHED:\n\u001b[0;32m    451\u001b[0m     \u001b[39mreturn\u001b[39;00m \u001b[39mself\u001b[39m\u001b[39m.\u001b[39m__get_result()\n\u001b[1;32m--> 453\u001b[0m \u001b[39mself\u001b[39;49m\u001b[39m.\u001b[39;49m_condition\u001b[39m.\u001b[39;49mwait(timeout)\n\u001b[0;32m    455\u001b[0m \u001b[39mif\u001b[39;00m \u001b[39mself\u001b[39m\u001b[39m.\u001b[39m_state \u001b[39min\u001b[39;00m [CANCELLED, CANCELLED_AND_NOTIFIED]:\n\u001b[0;32m    456\u001b[0m     \u001b[39mraise\u001b[39;00m CancelledError()\n",
      "File \u001b[1;32mc:\\Users\\justi\\miniconda3\\envs\\ma\\lib\\threading.py:320\u001b[0m, in \u001b[0;36mCondition.wait\u001b[1;34m(self, timeout)\u001b[0m\n\u001b[0;32m    318\u001b[0m \u001b[39mtry\u001b[39;00m:    \u001b[39m# restore state no matter what (e.g., KeyboardInterrupt)\u001b[39;00m\n\u001b[0;32m    319\u001b[0m     \u001b[39mif\u001b[39;00m timeout \u001b[39mis\u001b[39;00m \u001b[39mNone\u001b[39;00m:\n\u001b[1;32m--> 320\u001b[0m         waiter\u001b[39m.\u001b[39;49macquire()\n\u001b[0;32m    321\u001b[0m         gotit \u001b[39m=\u001b[39m \u001b[39mTrue\u001b[39;00m\n\u001b[0;32m    322\u001b[0m     \u001b[39melse\u001b[39;00m:\n",
      "\u001b[1;31mKeyboardInterrupt\u001b[0m: "
     ]
    }
   ],
   "source": [
    "# Import Samples\n",
    "sample_lib = SampleLibrary()\n",
    "all_samples = []\n",
    "for instrument in sample_lib.samples:\n",
    "    for style in sample_lib.samples[instrument]:\n",
    "        for pitch in sample_lib.samples[instrument][style]:\n",
    "            all_samples.append(sample_lib.samples[instrument][style][pitch])"
   ]
  },
  {
   "cell_type": "code",
   "execution_count": null,
   "metadata": {},
   "outputs": [],
   "source": [
    "# Find common pitches for two instruments\n"
   ]
  },
  {
   "cell_type": "code",
   "execution_count": 15,
   "metadata": {},
   "outputs": [
    {
     "ename": "NameError",
     "evalue": "name 'sample_lib' is not defined",
     "output_type": "error",
     "traceback": [
      "\u001b[1;31m---------------------------------------------------------------------------\u001b[0m",
      "\u001b[1;31mNameError\u001b[0m                                 Traceback (most recent call last)",
      "Cell \u001b[1;32mIn[15], line 1\u001b[0m\n\u001b[1;32m----> 1\u001b[0m distance_matrix \u001b[39m=\u001b[39m [[cosh_distance(librosa\u001b[39m.\u001b[39mstft(sample_lib\u001b[39m.\u001b[39mget_sample(instrument, sample_lib\u001b[39m.\u001b[39mget_random_style_for_instrument(instrument), \u001b[39m50\u001b[39m)\u001b[39m.\u001b[39mto_audio()), librosa\u001b[39m.\u001b[39mstft(sample_lib\u001b[39m.\u001b[39mget_sample(instrument_2, sample_lib\u001b[39m.\u001b[39mget_random_style_for_instrument(instrument_2), \u001b[39m50\u001b[39m)\u001b[39m.\u001b[39mto_audio())) \u001b[39mfor\u001b[39;00m instrument_2 \u001b[39min\u001b[39;00m sample_lib\u001b[39m.\u001b[39msamples]\u001b[39mfor\u001b[39;00m instrument \u001b[39min\u001b[39;00m sample_lib\u001b[39m.\u001b[39msamples]\n",
      "\u001b[1;31mNameError\u001b[0m: name 'sample_lib' is not defined"
     ]
    }
   ],
   "source": [
    "distance_matrix = [[cosh_distance(librosa.stft(sample_lib.get_sample(instrument, sample_lib.get_random_style_for_instrument(instrument), 50).to_audio()), librosa.stft(sample_lib.get_sample(instrument_2, sample_lib.get_random_style_for_instrument(instrument_2), 50).to_audio())) for instrument_2 in sample_lib.samples]for instrument in sample_lib.samples]"
   ]
  }
 ],
 "metadata": {
  "kernelspec": {
   "display_name": "ma",
   "language": "python",
   "name": "python3"
  },
  "language_info": {
   "codemirror_mode": {
    "name": "ipython",
    "version": 3
   },
   "file_extension": ".py",
   "mimetype": "text/x-python",
   "name": "python",
   "nbconvert_exporter": "python",
   "pygments_lexer": "ipython3",
   "version": "3.10.8"
  },
  "orig_nbformat": 4
 },
 "nbformat": 4,
 "nbformat_minor": 2
}
