{
 "cells": [
  {
   "attachments": {},
   "cell_type": "markdown",
   "metadata": {},
   "source": [
    "# Approximation of individual chords\n",
    "## Ginsel et. al. 2022, Experiment A"
   ]
  },
  {
   "cell_type": "code",
   "execution_count": 8,
   "metadata": {},
   "outputs": [],
   "source": [
    "%cd ..\n",
    "from evoaudio.sample_library import SampleLibrary\n",
    "from evoaudio.base_algorithms import approximate_piece\n",
    "from evoaudio.population import Population\n",
    "from evoaudio.mutations import Mutator\n",
    "from evoaudio.pitch import Pitch\n",
    "from evoaudio.individual import BaseIndividual\n",
    "from evoaudio.fitness import fitness"
   ]
  },
  {
   "attachments": {},
   "cell_type": "markdown",
   "metadata": {},
   "source": [
    "### Approximation of pitches only"
   ]
  },
  {
   "cell_type": "code",
   "execution_count": 3,
   "metadata": {},
   "outputs": [],
   "source": [
    "POPSIZE = 10\n",
    "N_OFFSPRING = 1\n",
    "MAX_STEPS = 1000\n",
    "ALPHA = 5\n",
    "BETA = 10\n",
    "L_BOUND = 1\n",
    "U_BOUND = 20\n",
    "ZETA = 0.9954"
   ]
  },
  {
   "cell_type": "code",
   "execution_count": 4,
   "metadata": {},
   "outputs": [
    {
     "name": "stderr",
     "output_type": "stream",
     "text": [
      "Loading samples: 100%|██████████| 6826/6826 [00:13<00:00, 496.78it/s]\n"
     ]
    }
   ],
   "source": [
    "sample_lib = SampleLibrary()"
   ]
  },
  {
   "cell_type": "code",
   "execution_count": 5,
   "metadata": {},
   "outputs": [],
   "source": [
    "# Create sample set\n",
    "target_chords = [\n",
    "    [(\"Trumpet\", Pitch.c4)],\n",
    "    [(\"Violin\", Pitch.c4)],\n",
    "    [(\"Piano\", Pitch.c4)],\n",
    "    [(\"Trumpet\", Pitch.c4), (\"Trombone\", Pitch.e4)],\n",
    "    [(\"Violin\", Pitch.c4), (\"Viola\", Pitch.e4)],\n",
    "    [(\"Piano\", Pitch.c4), (\"Piano\", Pitch.e4)],\n",
    "    [(\"Trumpet\", Pitch.c4), (\"Trombone\", Pitch.e4), (\"Tuba\", Pitch.c3), (\"Trumpet\", Pitch.g4)],\n",
    "    [(\"Violin\", Pitch.c4), (\"Viola\", Pitch.e4), (\"Cello\", Pitch.c3), (\"Violin\", Pitch.g4)],\n",
    "    [(\"Piano\", Pitch.c4), (\"Piano\", Pitch.e4), (\"Piano\", Pitch.g4), (\"Piano\", Pitch.c3)],\n",
    "    [(\"Cello\", Pitch.c3), (\"Trumpet\", Pitch.c4), (\"Trumpet\", Pitch.e4), (\"Piano\", Pitch.g4), (\"Piano\", Pitch.c5)]    \n",
    "]\n",
    "samples = [[sample_lib.get_sample(instrument=note[0], pitch=note[1]) for note in chord] for chord in target_chords ]\n",
    "target_individuals = [BaseIndividual() for i in range(len(samples))]\n",
    "for i, target in enumerate(target_individuals):\n",
    "    target.samples = samples[i]\n",
    "target_mixes = [individual.to_mixdown() for individual in target_individuals]"
   ]
  },
  {
   "attachments": {},
   "cell_type": "markdown",
   "metadata": {},
   "source": [
    "With a-priori knowledge of instruments, approximate only pitches"
   ]
  },
  {
   "cell_type": "code",
   "execution_count": 21,
   "metadata": {},
   "outputs": [
    {
     "name": "stdout",
     "output_type": "stream",
     "text": [
      "Could not find sample: Trombone, BassTrombone_SessionHornsPro, 76\n",
      "Could not find sample: Trombone, TenorTrombone_SessionHornsPro, 36\n",
      "Could not find sample: Violin, tr151VNSOM, 91\n",
      "Could not find sample: Trombone, TenorTrombone_SessionHornsPro, 33\n",
      "Could not find sample: Trombone, TenorTrombone_SessionHornsPro, 33\n",
      "Could not find sample: Trumpet, tr212TRNOM, 89\n",
      "Could not find sample: Trombone, TenorTrombone_SessionHornsPro, 27\n",
      "Could not find sample: Trumpet, tr211TRVIM, 84\n",
      "Could not find sample: Trombone, BassTrombone_SessionHornsPro, 79\n",
      "Could not find sample: Tuba, Tuba_SessionHornsPro, 67\n",
      "Could not find sample: Violin, tr152VNNOM, 55\n",
      "Could not find sample: Piano, tr013PFPEM, 27\n",
      "Could not find sample: Piano, tr011PFNOM, 22\n",
      "Could not find sample: Piano, tr012PFPM, 106\n",
      "Could not find sample: Piano, tr011PFPEM, 91\n",
      "Could not find sample: Piano, tr013PFPEM, 102\n",
      "Could not find sample: Piano, tr011PFPEM, 99\n",
      "Could not find sample: Piano, tr011PFNOM, 93\n",
      "Could not find sample: Trumpet, tr211TRVIM, 83\n",
      "Could not find sample: Trumpet, tr211TRVIM, 87\n",
      "Could not find sample: Piano, tr012PFPM, 32\n",
      "Could not find sample: Piano, tr013PFNOM, 108\n",
      "Could not find sample: Piano, tr011PFPEM, 101\n"
     ]
    }
   ],
   "source": [
    "def get_valid_sample(sample_lib, instrument):\n",
    "    try:\n",
    "        return sample_lib.get_sample(instrument=instrument, pitch=sample_lib.get_random_pitch_for_instrument_uniform(instrument, sample_lib.get_random_style_for_instrument(instrument)))\n",
    "    except:\n",
    "        return get_valid_sample(sample_lib, instrument)\n",
    "# Initialize populations with a-priori knowledge\n",
    "populations = [Population() for _ in range(len(target_chords))]\n",
    "for i, pop in enumerate(populations):\n",
    "    for j in range(POPSIZE):\n",
    "        individual = BaseIndividual()\n",
    "        for note in target_chords[i]:\n",
    "            individual.samples.append(get_valid_sample(sample_lib, note[0]))\n",
    "        individual.fitness = fitness(target_mixes[i], individual.to_mixdown())\n",
    "        individual.fitness_per_onset.append(individual.fitness)\n",
    "        pop.insert_individual(individual)\n",
    "# Only allow the mutate_pitch mutation\n",
    "mutator = Mutator(sample_library=sample_lib, alpha=ALPHA, beta=BETA, l_bound=L_BOUND, u_bound=U_BOUND, choose_mutation_p=[0, 0, 1]) "
   ]
  },
  {
   "cell_type": "code",
   "execution_count": 22,
   "metadata": {},
   "outputs": [
    {
     "name": "stderr",
     "output_type": "stream",
     "text": [
      "100%|██████████| 1000/1000 [00:12<00:00, 80.62it/s, Best individual: Fitness: 0.0 | (Trumpet, MuteTrumpet_SessionHornsPro, c4)]\n",
      "100%|██████████| 1000/1000 [00:12<00:00, 82.46it/s, Best individual: Fitness: 0.0 | (Violin, Violins2_Essential, c4)]              \n",
      "100%|██████████| 1000/1000 [00:12<00:00, 81.95it/s, Best individual: Fitness: 1.8287629811356707 | (Piano, The_Giant_soft, g5)]\n",
      "100%|██████████| 1000/1000 [00:12<00:00, 78.63it/s, Best individual: Fitness: 4.025412538109756 | (Trumpet, Trumpet2_SessionHornsPro, g5), (Trombone, Trombone_Essential, a2)]   \n",
      "100%|██████████| 1000/1000 [00:12<00:00, 81.42it/s, Best individual: Fitness: 0.034964986661585366 | (Violin, Violins1_Essential, c4), (Viola, tr161VLSOM, e4)]\n",
      "100%|██████████| 1000/1000 [00:12<00:00, 77.59it/s, Best individual: Fitness: 1.2834341653963415 | (Piano, The_Maverick, c4), (Piano, The_Giant_soft, cis1)]\n",
      "100%|██████████| 1000/1000 [00:14<00:00, 70.00it/s, Best individual: Fitness: 2.7897513338414632 | (Trumpet, trCTpt, g5), (Trombone, TenorTrombone_SessionHornsPro, c3), (Tuba, Tubas_Essential, e4), (Trumpet, Trumpets_Essential, d6)]\n",
      "100%|██████████| 1000/1000 [00:13<00:00, 72.71it/s, Best individual: Fitness: 0.7559659632240854 | (Violin, tr151VNSOM, g4), (Viola, Violas_Essential, c3), (Cello, tr171VCSOM, c3), (Violin, tr152VNNOM, e4)]   \n",
      "100%|██████████| 1000/1000 [00:13<00:00, 72.44it/s, Best individual: Fitness: 0.7596695169588414 | (Piano, tr011PFNOM, g4), (Piano, The_Maverick, e4), (Piano, tr011PFNOM, c3), (Piano, The_Grandeur, c4)]  \n",
      "100%|██████████| 1000/1000 [00:14<00:00, 69.99it/s, Best individual: Fitness: 1.3987831078506097 | (Cello, tr171VCNVM, e3), (Trumpet, tr211TRNOM, c4), (Trumpet, tr211TRNOM, c6), (Piano, Alicias_Keys, e5), (Piano, The_Giant_soft, c8)]  \n"
     ]
    }
   ],
   "source": [
    "results = []\n",
    "for i, pop in enumerate(populations):\n",
    "    result = approximate_piece(target_y=target_mixes[i], max_steps=MAX_STEPS, sample_lib=sample_lib, popsize=POPSIZE, n_offspring=N_OFFSPRING, onset_frac=1, zeta=ZETA, population=pop, mutator=mutator, onsets=[0])\n",
    "    results.append(result)"
   ]
  },
  {
   "attachments": {},
   "cell_type": "markdown",
   "metadata": {},
   "source": [
    "With a-priori knowledge, approximate only instruments"
   ]
  },
  {
   "cell_type": "code",
   "execution_count": 24,
   "metadata": {},
   "outputs": [],
   "source": [
    "def get_valid_sample(sample_lib:SampleLibrary, pitch:Pitch):\n",
    "    instrument, style = sample_lib.get_random_instrument_for_pitch(pitch=pitch)\n",
    "    return sample_lib.get_sample(instrument=instrument, style=style, pitch=pitch)\n",
    "# Initialize populations with a-priori knowledge\n",
    "populations = [Population() for _ in range(len(target_chords))]\n",
    "for i, pop in enumerate(populations):\n",
    "    for j in range(POPSIZE):\n",
    "        individual = BaseIndividual()\n",
    "        for note in target_chords[i]:\n",
    "            individual.samples.append(get_valid_sample(sample_lib, note[1]))\n",
    "        individual.fitness = fitness(target_mixes[i], individual.to_mixdown())\n",
    "        individual.fitness_per_onset.append(individual.fitness)\n",
    "        pop.insert_individual(individual)\n",
    "# Only allow the mutate_instrument mutation\n",
    "mutator = Mutator(sample_library=sample_lib, alpha=ALPHA, beta=BETA, l_bound=L_BOUND, u_bound=U_BOUND, choose_mutation_p=[0, 1, 0]) "
   ]
  },
  {
   "cell_type": "code",
   "execution_count": 25,
   "metadata": {},
   "outputs": [
    {
     "name": "stderr",
     "output_type": "stream",
     "text": [
      "100%|██████████| 1000/1000 [00:10<00:00, 94.80it/s, Best individual: Fitness: 0.0 | (Trumpet, MuteTrumpet_SessionHornsPro, c4)]\n",
      "100%|██████████| 1000/1000 [00:10<00:00, 98.03it/s, Best individual: Fitness: 0.0 | (Violin, Violins2_Essential, c4)]                \n",
      "100%|██████████| 1000/1000 [00:10<00:00, 98.45it/s, Best individual: Fitness: 0.0 | (Piano, The_Gentleman, c4)]              \n",
      "100%|██████████| 1000/1000 [00:12<00:00, 78.59it/s, Best individual: Fitness: 0.0 | (Trumpet, MuteTrumpet_SessionHornsPro, c4), (Trombone, Trombone_Essential, e4)]                          \n",
      "100%|██████████| 1000/1000 [00:11<00:00, 83.87it/s, Best individual: Fitness: 0.0 | (Violin, Violins1_Essential, c4), (Viola, tr161VLNVM, e4)]                              \n",
      "100%|██████████| 1000/1000 [00:14<00:00, 68.17it/s, Best individual: Fitness: 0.0 | (Piano, tr013PFPEM, c4), (Piano, tr013PFPEM, e4)]                                               \n",
      "100%|██████████| 1000/1000 [00:13<00:00, 71.46it/s, Best individual: Fitness: 0.09637734017721036 | (Cello, tr171VCSOM, c4), (Trombone, Trombones_Essential, e4), (Tuba, Tuba_SessionHornsPro, c3), (Trumpet, MuteTrumpet_SessionHornsPro, g4)]                   \n",
      "100%|██████████| 1000/1000 [00:13<00:00, 71.49it/s, Best individual: Fitness: 0.05777947402581936 | (Horn, Horn2_Essential, c4), (Viola, Violas_SessionStringsPro, e4), (Horn, Horn1_Essential, c3), (Violin, tr151VNSOM, g4)]                                    \n",
      "100%|██████████| 1000/1000 [00:17<00:00, 57.01it/s, Best individual: Fitness: 0.1628533340081936 | (Piano, tr011PFPEM, c4), (Piano, The_Maverick, e4), (Piano, The_Grandeur, g4), (Piano, tr012PFPM, c3)]                      \n",
      "100%|██████████| 1000/1000 [00:16<00:00, 60.29it/s, Best individual: Fitness: 0.2759647722942073 | (Cello, tr171VCNOM, c3), (Saxophone, Saxophones_Essential, c4), (Trumpet, trBbTpt, e4), (Flute, tr331FLNOM, g4), (Piano, tr013PFPEM, c5)]                                                \n"
     ]
    }
   ],
   "source": [
    "results = []\n",
    "for i, pop in enumerate(populations):\n",
    "    result = approximate_piece(target_y=target_mixes[i], max_steps=MAX_STEPS, sample_lib=sample_lib, popsize=POPSIZE, n_offspring=N_OFFSPRING, onset_frac=1, zeta=ZETA, population=pop, mutator=mutator, onsets=[0])\n",
    "    results.append(result)"
   ]
  },
  {
   "attachments": {},
   "cell_type": "markdown",
   "metadata": {},
   "source": [
    "Without a-priori knowledge, approximate both instruments and pitches"
   ]
  },
  {
   "cell_type": "code",
   "execution_count": null,
   "metadata": {},
   "outputs": [],
   "source": [
    "results = []\n",
    "for i, pop in enumerate(populations):\n",
    "    result = approximate_piece(target_y=target_mixes[i], max_steps=MAX_STEPS, sample_lib=sample_lib, popsize=POPSIZE, n_offspring=N_OFFSPRING, onset_frac=1, zeta=ZETA, onsets=[0])\n",
    "    results.append(result)"
   ]
  }
 ],
 "metadata": {
  "kernelspec": {
   "display_name": "ma",
   "language": "python",
   "name": "python3"
  },
  "language_info": {
   "codemirror_mode": {
    "name": "ipython",
    "version": 3
   },
   "file_extension": ".py",
   "mimetype": "text/x-python",
   "name": "python",
   "nbconvert_exporter": "python",
   "pygments_lexer": "ipython3",
   "version": "3.10.8"
  },
  "orig_nbformat": 4
 },
 "nbformat": 4,
 "nbformat_minor": 2
}
