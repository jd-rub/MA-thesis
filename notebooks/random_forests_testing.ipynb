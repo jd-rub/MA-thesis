{
 "cells": [
  {
   "cell_type": "code",
   "execution_count": 1,
   "metadata": {},
   "outputs": [
    {
     "name": "stdout",
     "output_type": "stream",
     "text": [
      "c:\\Users\\justi\\coding\\Uni\\MA\n"
     ]
    }
   ],
   "source": [
    "%cd ..\n",
    "from sklearn.ensemble import RandomForestClassifier\n",
    "from sklearn.datasets import make_classification\n",
    "import librosa\n",
    "import numpy as np\n",
    "\n",
    "from population import Population\n",
    "from sample_library import SampleLibrary\n"
   ]
  },
  {
   "cell_type": "code",
   "execution_count": 4,
   "metadata": {},
   "outputs": [
    {
     "name": "stdout",
     "output_type": "stream",
     "text": [
      "[1]\n"
     ]
    }
   ],
   "source": [
    "X, y = make_classification(n_samples=1000, n_features=4,\n",
    "                           n_informative=2, n_redundant=0,\n",
    "                           random_state=0, shuffle=False)\n",
    "\n",
    "clf = RandomForestClassifier(max_depth=2, random_state=0)\n",
    "clf.fit(X, y)\n",
    "print(clf.predict([[0, 0, 0, 0]]))"
   ]
  },
  {
   "attachments": {},
   "cell_type": "markdown",
   "metadata": {},
   "source": [
    "### Population to feature vector of shape (n_features)"
   ]
  },
  {
   "attachments": {},
   "cell_type": "markdown",
   "metadata": {},
   "source": [
    "\"The following statistics are proposed as approximative features.  \n",
    "For each instrument and each onset in the approximated\n",
    "music track, we save the smallest distance between the best\n",
    "candidate mixture which contains this instrument and the onset\n",
    "to approximate.  \n",
    "(pop.best_collections_per_onset)  \n",
    "  \n",
    "These smallest distances are kept during the\n",
    "complete evolutionary loop in an archive and do not represent\n",
    "the final population only. (TODO!) \n",
    "    \n",
    "Then, we estimate the mean, the\n",
    "minimum, and the maximum values for each of 51 instrument\n",
    "and 88 theoretically possible pitches for two different analysis\n",
    "frames of 10s and 3s. Additionally, we sort the recognised\n",
    "instruments based on the smallest distances, and assign ranks\n",
    "to corresponding approximative features, e.g., value of “rang\n",
    "of acoustic guitar” = 1 means that acoustic guitar had the\n",
    "smallest mean distance between approximations with this\n",
    "instrument and unknown onsets in the analysis frame. This\n",
    "leads to an overall number of feature dimensions equal to\n",
    "(51 · 3 + 88 · 3 + 51) · 2 = 936.\""
   ]
  },
  {
   "cell_type": "code",
   "execution_count": 2,
   "metadata": {},
   "outputs": [
    {
     "name": "stdout",
     "output_type": "stream",
     "text": [
      "Starting Thread-0\n",
      "Starting Thread-1\n",
      "Starting Thread-2\n",
      "Starting Thread-3\n",
      "Starting Thread-4\n",
      "Starting Thread-5\n",
      "Starting Thread-6\n",
      "Starting Thread-7\n",
      "2: Progress: 0\n",
      "1: Progress: 0\n",
      "3: Progress: 0\n",
      "4: Progress: 0\n",
      "0: Progress: 0\n",
      "6: Progress: 0\n",
      "7: Progress: 0\n",
      "5: Progress: 0\n",
      "2: Progress: 50\n",
      "4: Progress: 50\n",
      "7: Progress: 50\n",
      "1: Progress: 50\n",
      "0: Progress: 50\n",
      "3: Progress: 50\n",
      "6: Progress: 50\n",
      "5: Progress: 50\n",
      "2: Progress: 100\n",
      "7: Progress: 100\n",
      "4: Progress: 100\n",
      "1: Progress: 100\n",
      "6: Progress: 100\n",
      "3: Progress: 100\n",
      "0: Progress: 100\n",
      "5: Progress: 100\n",
      "2: Progress: 150\n",
      "4: Progress: 150\n",
      "7: Progress: 150\n",
      "1: Progress: 150\n",
      "6: Progress: 150\n",
      "0: Progress: 150\n",
      "3: Progress: 150\n",
      "5: Progress: 150\n",
      "2: Progress: 200\n",
      "4: Progress: 200\n",
      "7: Progress: 200\n",
      "1: Progress: 200\n",
      "6: Progress: 200\n",
      "0: Progress: 200\n",
      "3: Progress: 200\n",
      "5: Progress: 200\n",
      "2: Progress: 250\n",
      "7: Progress: 250\n",
      "1: Progress: 250\n",
      "4: Progress: 250\n",
      "6: Progress: 250\n",
      "0: Progress: 250\n",
      "5: Progress: 250\n",
      "3: Progress: 250\n"
     ]
    }
   ],
   "source": [
    "pop = Population.from_file(\"test.pkl\")\n",
    "target, sr = librosa.load(librosa.ex('nutcracker'), duration=30)\n",
    "lib = SampleLibrary()"
   ]
  },
  {
   "cell_type": "code",
   "execution_count": 26,
   "metadata": {},
   "outputs": [
    {
     "name": "stdout",
     "output_type": "stream",
     "text": [
      "197 generated from 8 instruments and 55 pitches.\n"
     ]
    }
   ],
   "source": [
    "## Choose two different analysis frames of 10s and 3s\n",
    "end_offset = 10 * sr\n",
    "possible_onsets = len(target) - end_offset\n",
    "window_start = np.random.randint(low=0, high=possible_onsets)\n",
    "window_end = window_start + end_offset\n",
    "\n",
    "## Grab the onsets in those windows, and the associated best records from the population\n",
    "relevant_collections = [collection for collection in pop.best_collections_per_onset.values() if collection.onset in range(window_start, window_end)]\n",
    "\n",
    "## For each window separately, calculate the maximum, minimum, and mean fitnesses for each occasion of\n",
    "## An instrument\n",
    "instrument_occurrences_fitness = dict()\n",
    "## A pitch\n",
    "pitch_occurrences_fitness = dict()\n",
    "\n",
    "for collection in relevant_collections:\n",
    "    for sample in collection.samples:\n",
    "        if sample.instrument in instrument_occurrences_fitness:\n",
    "            instrument_occurrences_fitness[sample.instrument].append(collection.fitness)\n",
    "        else:\n",
    "            instrument_occurrences_fitness[sample.instrument] = [collection.fitness]\n",
    "        if sample.pitch in pitch_occurrences_fitness:\n",
    "            pitch_occurrences_fitness[sample.pitch].append(collection.fitness)\n",
    "        else:\n",
    "            pitch_occurrences_fitness[sample.pitch] = [collection.fitness]\n",
    "\n",
    "# print(instrument_occurrences_fitness)\n",
    "# print(pitch_occurrences_fitness)\n",
    "\n",
    "instrument_min = {instrument: np.min(instrument_occurrences_fitness[instrument]) for instrument in instrument_occurrences_fitness}\n",
    "instrument_max = {instrument: np.max(instrument_occurrences_fitness[instrument]) for instrument in instrument_occurrences_fitness}\n",
    "instrument_mean = {instrument: np.mean(instrument_occurrences_fitness[instrument]) for instrument in instrument_occurrences_fitness}\n",
    "\n",
    "pitch_min = {pitch: np.min(pitch_occurrences_fitness[pitch]) for pitch in pitch_occurrences_fitness}\n",
    "pitch_max = {pitch: np.max(pitch_occurrences_fitness[pitch]) for pitch in pitch_occurrences_fitness}\n",
    "pitch_mean = {pitch: np.mean(pitch_occurrences_fitness[pitch]) for pitch in pitch_occurrences_fitness}\n",
    "\n",
    "## Finally, give each instrument a rank from 1 to n_instruments, based on their mean distances (smallest = rank 1, highest = rank n_instruments)\n",
    "# instrument_sort = np.argsort([instrument_mean[instrument] for instrument in instrument_mean])\n",
    "instrument_sort = {k: v for k, v in sorted(instrument_mean.items(), key=lambda item: item[1])}\n",
    "instrument_ranks = {instrument: i + 1 for i, instrument in enumerate(instrument_sort)}\n",
    "\n",
    "# Create feature vector\n",
    "instrument_features = []\n",
    "for instrument_info in lib.instruments:\n",
    "    instr_name = instrument_info.name\n",
    "    if instr_name in instrument_ranks:\n",
    "        instrument_features.append([instrument_min[instr_name], instrument_mean[instr_name], instrument_max[instr_name], instrument_ranks[instr_name]])\n",
    "    else:\n",
    "        instrument_features.append([np.inf, np.inf, np.inf, np.inf])\n",
    "pitch_features = []\n",
    "for pitch in lib.pitches:\n",
    "    if pitch in pitch_min:\n",
    "        pitch_features.append([pitch_min[pitch], pitch_mean[pitch], pitch_max[pitch]])\n",
    "    else:\n",
    "        pitch_features.append([np.inf, np.inf, np.inf])\n",
    "flat_instr_features = np.array(instrument_features).flatten()\n",
    "flat_pitch_features = np.array(pitch_features).flatten()\n",
    "features = np.concatenate((flat_instr_features, flat_pitch_features))\n",
    "print(f\"{len(features)} generated from {len(lib.instruments)} instruments and {len(lib.pitches)} pitches.\")\n"
   ]
  },
  {
   "cell_type": "code",
   "execution_count": 6,
   "metadata": {},
   "outputs": [
    {
     "name": "stdout",
     "output_type": "stream",
     "text": [
      "19\n",
      "63\n"
     ]
    }
   ],
   "source": []
  }
 ],
 "metadata": {
  "kernelspec": {
   "display_name": "ma",
   "language": "python",
   "name": "python3"
  },
  "language_info": {
   "codemirror_mode": {
    "name": "ipython",
    "version": 3
   },
   "file_extension": ".py",
   "mimetype": "text/x-python",
   "name": "python",
   "nbconvert_exporter": "python",
   "pygments_lexer": "ipython3",
   "version": "3.10.8"
  },
  "orig_nbformat": 4,
  "vscode": {
   "interpreter": {
    "hash": "e64d2645d10406c485d9857eaab5d37f8c8efad32a47710fb4de5b20809a4099"
   }
  }
 },
 "nbformat": 4,
 "nbformat_minor": 2
}
